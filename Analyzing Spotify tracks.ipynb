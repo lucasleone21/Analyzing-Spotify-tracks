{
 "cells": [
  {
   "cell_type": "code",
   "execution_count": 3,
   "id": "f1108b08",
   "metadata": {},
   "outputs": [],
   "source": [
    "# Leitura do CSV\n",
    "import pandas as pd\n",
    "import numpy as np"
   ]
  },
  {
   "cell_type": "code",
   "execution_count": 4,
   "id": "a6382005",
   "metadata": {},
   "outputs": [],
   "source": [
    "artists = pd.read_csv('artists.csv')\n",
    "data_by_artist = pd.read_csv('data_by_artist_o.csv')\n",
    "data_by_genres = pd.read_csv('data_by_genres_o.csv')\n",
    "data_by_year = pd.read_csv('data_by_year_o.csv')\n",
    "data = pd.read_csv('data_o.csv')\n",
    "tracks = pd.read_csv('tracks.csv')"
   ]
  },
  {
   "cell_type": "markdown",
   "id": "6bea6638",
   "metadata": {},
   "source": [
    "Como fazer uma predição do gênero de uma música através de seus atributos?"
   ]
  },
  {
   "cell_type": "markdown",
   "id": "b7813a39",
   "metadata": {},
   "source": [
    "* Porque os gêneros são atributos dos artistas, vamos, primeiramente, construir a relação dos artistas com os gêneros e, depois, dos gêneros com as músicas.\n",
    "* Desse modo, eliminamos as músicas dos artistas que não possuem gêneros associados a eles. Dito isso, o primeiro passo é eliminar os artistas que não possuem gêneros.\n",
    "\n"
   ]
  },
  {
   "cell_type": "code",
   "execution_count": 5,
   "id": "e63adbd4",
   "metadata": {},
   "outputs": [
    {
     "data": {
      "text/html": [
       "<div>\n",
       "<style scoped>\n",
       "    .dataframe tbody tr th:only-of-type {\n",
       "        vertical-align: middle;\n",
       "    }\n",
       "\n",
       "    .dataframe tbody tr th {\n",
       "        vertical-align: top;\n",
       "    }\n",
       "\n",
       "    .dataframe thead th {\n",
       "        text-align: right;\n",
       "    }\n",
       "</style>\n",
       "<table border=\"1\" class=\"dataframe\">\n",
       "  <thead>\n",
       "    <tr style=\"text-align: right;\">\n",
       "      <th></th>\n",
       "      <th>id</th>\n",
       "      <th>followers</th>\n",
       "      <th>genres</th>\n",
       "      <th>name</th>\n",
       "      <th>popularity</th>\n",
       "      <th>has_genre</th>\n",
       "      <th>genres_list</th>\n",
       "      <th>multiple_genres</th>\n",
       "    </tr>\n",
       "  </thead>\n",
       "  <tbody>\n",
       "    <tr>\n",
       "      <th>45</th>\n",
       "      <td>0VLMVnVbJyJ4oyZs2L3Yl2</td>\n",
       "      <td>71.0</td>\n",
       "      <td>carnaval cadiz</td>\n",
       "      <td>Las Viudas De Los Bisabuelos</td>\n",
       "      <td>6</td>\n",
       "      <td>True</td>\n",
       "      <td>[carnaval cadiz]</td>\n",
       "      <td>False</td>\n",
       "    </tr>\n",
       "    <tr>\n",
       "      <th>46</th>\n",
       "      <td>0dt23bs4w8zx154C5xdVyl</td>\n",
       "      <td>63.0</td>\n",
       "      <td>carnaval cadiz</td>\n",
       "      <td>Los De Capuchinos</td>\n",
       "      <td>5</td>\n",
       "      <td>True</td>\n",
       "      <td>[carnaval cadiz]</td>\n",
       "      <td>False</td>\n",
       "    </tr>\n",
       "    <tr>\n",
       "      <th>47</th>\n",
       "      <td>0pGhoB99qpEJEsBQxgaskQ</td>\n",
       "      <td>64.0</td>\n",
       "      <td>carnaval cadiz</td>\n",
       "      <td>Los “Pofesionales”</td>\n",
       "      <td>7</td>\n",
       "      <td>True</td>\n",
       "      <td>[carnaval cadiz]</td>\n",
       "      <td>False</td>\n",
       "    </tr>\n",
       "    <tr>\n",
       "      <th>48</th>\n",
       "      <td>3HDrX2OtSuXLW5dLR85uN3</td>\n",
       "      <td>53.0</td>\n",
       "      <td>carnaval cadiz</td>\n",
       "      <td>Los Que No Paran De Rajar</td>\n",
       "      <td>6</td>\n",
       "      <td>True</td>\n",
       "      <td>[carnaval cadiz]</td>\n",
       "      <td>False</td>\n",
       "    </tr>\n",
       "    <tr>\n",
       "      <th>136</th>\n",
       "      <td>22mLrN5fkppmuUPsHx6i2G</td>\n",
       "      <td>59.0</td>\n",
       "      <td>classical harp, harp</td>\n",
       "      <td>Vera Dulova</td>\n",
       "      <td>3</td>\n",
       "      <td>True</td>\n",
       "      <td>[classical harp, harp]</td>\n",
       "      <td>False</td>\n",
       "    </tr>\n",
       "  </tbody>\n",
       "</table>\n",
       "</div>"
      ],
      "text/plain": [
       "                         id  followers                genres  \\\n",
       "45   0VLMVnVbJyJ4oyZs2L3Yl2       71.0        carnaval cadiz   \n",
       "46   0dt23bs4w8zx154C5xdVyl       63.0        carnaval cadiz   \n",
       "47   0pGhoB99qpEJEsBQxgaskQ       64.0        carnaval cadiz   \n",
       "48   3HDrX2OtSuXLW5dLR85uN3       53.0        carnaval cadiz   \n",
       "136  22mLrN5fkppmuUPsHx6i2G       59.0  classical harp, harp   \n",
       "\n",
       "                             name  popularity  has_genre  \\\n",
       "45   Las Viudas De Los Bisabuelos           6       True   \n",
       "46              Los De Capuchinos           5       True   \n",
       "47             Los “Pofesionales”           7       True   \n",
       "48      Los Que No Paran De Rajar           6       True   \n",
       "136                   Vera Dulova           3       True   \n",
       "\n",
       "                genres_list  multiple_genres  \n",
       "45         [carnaval cadiz]            False  \n",
       "46         [carnaval cadiz]            False  \n",
       "47         [carnaval cadiz]            False  \n",
       "48         [carnaval cadiz]            False  \n",
       "136  [classical harp, harp]            False  "
      ]
     },
     "execution_count": 5,
     "metadata": {},
     "output_type": "execute_result"
    }
   ],
   "source": [
    "# Getting artist that have genres\n",
    "artists_with_genres = artists.copy()\n",
    "artists_with_genres[\"has_genre\"] = artists_with_genres[\"genres\"] != \"[]\"\n",
    "artists_with_genres.drop(artists_with_genres[artists_with_genres['has_genre'] == False].index, inplace=True)\n",
    "# Getting artist that have less than 10 genres\n",
    "artists_with_genres[\"genres_list\"] = artists_with_genres[\"genres\"].apply(eval)\n",
    "artists_with_genres[\"multiple_genres\"] = [True if (len(x) > 10) else False for x in artists_with_genres[\"genres_list\"]]\n",
    "artists_with_genres.drop(artists_with_genres[artists_with_genres['multiple_genres'] == True].index, inplace=True)\n",
    "artists_with_genres[\"genres\"] = artists_with_genres[\"genres\"].str.replace(\"'\", \"\")\n",
    "artists_with_genres[\"genres\"] = artists_with_genres[\"genres\"].str.replace(\"[\", \"\", regex = True)\n",
    "artists_with_genres[\"genres\"] = artists_with_genres[\"genres\"].str.replace(\"]\", \"\", regex = True)\n",
    "artists_with_genres.head()"
   ]
  },
  {
   "cell_type": "markdown",
   "id": "a9c7885d",
   "metadata": {},
   "source": [
    "* O próximo passo será descobrir quais são os gêneros mais populares. Para isso, vamos contar quantos artistas existem para cada gênero.\n",
    "* Antes de escolher os gêneros mais populares, temos que agregar os gêneros que são \"subgêneros\" aos principais. Por exemplo, \"alternative rock\" é um subgênero de \"rock\".\n",
    "* Com essa agregação feita, vamos escolher os 10 gêneros com mais artistas.\n"
   ]
  },
  {
   "cell_type": "code",
   "execution_count": 6,
   "id": "362e8de5",
   "metadata": {},
   "outputs": [
    {
     "name": "stdout",
     "output_type": "stream",
     "text": [
      "[('pop', 558), ('dance pop', 554), ('electro house', 544), ('classical performance', 502), ('latin', 498), ('hip hop', 470), ('rock', 462), ('pop rap', 454), ('french hip hop', 452), ('rap', 447), ('latin rock', 446), ('edm', 444), ('calming instrumental', 440), ('electropop', 428), ('lo-fi beats', 423), ('indie rock', 419), ('pop edm', 419), ('post-teen pop', 415), ('modern rock', 408), ('german hip hop', 406), ('modern alternative rock', 406), ('k-pop', 406), ('tropical', 405), ('pop rock', 401), ('underground hip hop', 400), ('indie folk', 396), ('indie poptimism', 391), ('europop', 385), ('filmi', 381), ('urban contemporary', 377), ('funk', 376), ('pop dance', 369), ('background music', 368), ('indian classical', 367), ('country rock', 365), ('alternative r&b', 365), ('tropical house', 364), ('stomp and holler', 363), ('corrido', 363), ('trap', 361), ('rock en espanol', 360), ('german pop', 358), ('otacore', 358), ('german rock', 357), ('escape room', 357), ('regional mexican', 353), ('progressive house', 352), ('progressive trance', 352), ('adult standards', 351), ('dutch hip hop', 349), ('eurovision', 348), ('indie electropop', 347), ('r&b', 347), ('desi pop', 345), ('uk hip hop', 345), ('indie r&b', 344), ('pop punk', 341), ('metalcore', 339), ('background piano', 338), ('new wave pop', 337), ('chill r&b', 330), ('alternative metal', 330), ('alt z', 330), ('indie cafe pop', 329), ('indie pop', 327), ('j-poprock', 326), ('turkish trap pop', 324), ('afropop', 323), ('francoton', 323), ('screamo', 323), ('latin alternative', 322), ('funk carioca', 321), ('latin pop', 320), ('melodic hardcore', 319), (\"children's music\", 319), ('nuevo regional mexicano', 315), ('rap francais', 314), ('dutch pop', 311), ('gangster rap', 311), ('southern hip hop', 311), ('country pop', 310), ('classical soprano', 308), ('vapor soul', 307), ('trap latino', 306), ('j-pop', 305), ('alternative hip hop', 304), ('folk', 302), ('nova mpb', 301), ('future bass', 301), ('azontobeats', 300), ('latin hip hop', 300), ('swedish pop', 300), ('south african pop', 299), ('show tunes', 299), ('metal', 298), ('gaming edm', 298), ('soul', 296), ('world worship', 296), ('electronica', 295), ('broadway', 293), ('french pop', 293), ('vapor trap', 293), ('soft rock', 293), ('anthem worship', 293), ('pop urbaine', 292), ('hard rock', 292), ('chillhop', 292), ('indonesian pop', 292), ('j-division', 291), ('neo classical metal', 291), ('pop r&b', 290), ('rumba', 289), ('post-screamo', 289), ('country', 288), ('opm', 287), ('house', 287), ('russian hip hop', 287), ('norwegian pop', 286), ('hip house', 285), ('deep new americana', 284), ('ranchera', 284), ('contemporary country', 283), ('german trap', 282), ('alternative rock', 281), ('new comedy', 277), ('melodic metalcore', 277), ('mandopop', 277), ('danish hip hop', 276), ('j-rock', 276), ('cantautor', 275), ('german underground rap', 274), ('new americana', 272), ('symphonic power metal', 271), ('k-rap', 271), ('reggaeton flow', 270), ('ccm', 270), ('danish pop', 270), ('quiet storm', 270), ('instrumental lullaby', 270), ('indie anthem-folk', 269), ('nu jazz', 269), ('indie soul', 268), ('lounge', 267), ('indie punk', 267), ('hardcore techno', 266), ('russian pop', 266), ('fallen angel', 266), ('underground rap', 265), ('emo rap', 265), ('brazilian hip hop', 264), ('freak folk', 264), ('russelater', 264), ('album rock', 263), ('polish hip hop', 263), ('deep house', 263), ('vapor twitch', 263), ('pagode', 262), ('brill building pop', 262), ('v-pop', 262), ('c-pop', 262), ('korean pop', 262), ('mpb', 260), ('turkish pop', 260), ('reggaeton', 259), ('neo soul', 259), ('spanish pop', 259), ('nu metal', 258), ('brazilian rock', 258), ('carnaval', 258), ('classic swedish pop', 256), ('worship', 255), ('mellow gold', 255), ('finnish dance pop', 255), ('social media pop', 254), ('rap espanol', 253), ('classic iskelma', 253), ('anime', 251), ('kindermusik', 250), ('neo-classical', 250), ('opera', 250), ('swedish hip hop', 249), ('hardcore hip hop', 248), ('finnish hip hop', 248), ('punk', 247), ('kleine hoerspiel', 247), ('alternative country', 247), ('sky room', 247), ('cali rap', 247), ('organic house', 247), ('mexican indie', 247), ('suomi rock', 246), ('uk drill', 245), ('ska', 244), ('roots rock', 244), ('french indie pop', 244), ('funk ostentacao', 244), ('czech rock', 244), ('rap calme', 243), ('dark trap', 243), ('art rock', 243), ('christian pop', 243), ('classic italian pop', 243), ('rap rock', 242), ('sertanejo universitario', 242), ('dutch rap pop', 242), ('indiecoustica', 242), ('modern blues rock', 242), ('minimal techno', 242), ('motown', 242), ('punjabi pop', 241), ('forro', 241), ('indie garage rock', 241), ('bass house', 241), ('japanese alternative rock', 241), ('focus', 240), ('deep groove house', 240), ('minimal tech house', 240), ('tech house', 240), ('classic soul', 239), ('sad rap', 239), ('folk rock', 239), ('volksmusik', 238), ('anthem emo', 238), ('uplifting trance', 238), ('mexican rock', 238), ('christian alternative rock', 237), ('barnmusik', 237), ('drum and bass', 236), ('blues rock', 236), ('finnish pop', 236), ('synthwave', 236), ('indonesian indie', 236), ('texas country', 236), ('jazz saxophone', 236), ('praise', 236), ('deep tropical house', 235), ('hollywood', 235), ('sertanejo', 235), ('hip pop', 235), ('uk alternative hip hop', 234), ('bubblegum dance', 234), ('iskelma', 234), ('disco', 234), ('italian hip hop', 233), ('baroque', 232), ('soundtrack', 232), ('deep underground hip hop', 232), ('garage psych', 231), ('urbano espanol', 231), ('christian music', 230), ('tamil pop', 229), ('coverchill', 229), ('hardstyle', 229), ('art pop', 229), ('video game music', 229), ('thai pop', 229), ('turkish folk', 229), ('deep german hip hop', 228), ('rock-and-roll', 228), ('dubstep', 228), ('jazz', 228), ('italian adult pop', 228), ('italian indie pop', 228), ('sufi', 227), ('german indie', 227), ('electric blues', 227), ('adoracao', 227), ('new wave', 227), ('k-indie', 227), ('turbo folk', 226), ('country road', 226), ('latin worship', 226), ('bossa nova', 226), ('canadian hip hop', 226), ('classical', 226), ('chanson', 226), ('psychedelic doom', 225), ('lilith', 225), ('float house', 225), ('classic russian pop', 225), ('roots reggae', 224), ('rawstyle', 224), ('classic rock', 224), ('czsk hip hop', 224), ('contemporary classical', 224), ('turkish hip hop', 224), ('vocaloid', 224), ('nueva cancion', 223), ('sertanejo pop', 223), ('samba', 223), ('pop flamenco', 223), ('finnish indie', 223), ('french rock', 223), ('nigerian pop', 222), ('argentine indie', 222), ('smooth jazz', 222), ('psychedelic trance', 222), ('symphonic rock', 222), ('contemporary jazz', 222), ('chinese indie', 222), ('schlager', 221), ('compositional ambient', 221), ('dutch rock', 221), ('vocal jazz', 221), ('rai', 221), ('french indietronica', 220), ('argentine rock', 219), ('metallic hardcore', 219), ('progressive electro house', 218), ('melodic metal', 218), ('lovers rock', 217), ('polish pop', 217), ('musica para ninos', 216), ('cumbia sonidera', 216), ('modern hard rock', 216), ('j-rap', 216), ('dangdut', 215), ('jazz funk', 214), ('icelandic pop', 214), ('russian dance pop', 214), ('electronic trap', 214), ('mexican hip hop', 214), ('neo mellow', 214), ('string quartet', 214), ('swedish alternative rock', 213), ('trance', 213), ('tape club', 213), ('modern bollywood', 212), ('australian indie', 212), ('early music', 212), ('jazz fusion', 212), ('electro-industrial', 212), ('new age', 211), ('laiko', 211), ('happy hardcore', 211), ('post-disco', 210), ('pop emo', 210), ('classic mandopop', 210), ('focus trance', 209), ('modern blues', 209), ('emo', 209), ('post-hardcore', 209), ('rockabilly', 209), ('scorecore', 209), ('christian hip hop', 209), ('danspunk', 209), ('afrikaans', 209), ('dub', 208), ('orchestra', 208), ('australian pop', 208), ('classical piano', 208), ('vocal house', 208), ('malaysian pop', 208), ('levenslied', 207), ('czech folk', 207), ('gymcore', 207), ('liquid funk', 207), ('microhouse', 207), ('brazilian gospel', 206), ('traprun', 206), ('blues', 206), ('classical guitar', 206), ('gaming dubstep', 206), ('renaissance', 205), ('swiss hip hop', 205), ('big band', 205), ('electro', 205), ('afro soul', 205), ('deep turkish pop', 205), ('albanian pop', 204), ('eurodance', 204), ('meme rap', 204), ('movie tunes', 204), ('reggae', 203), ('industrial metal', 203), ('latin jazz', 203), ('classic uk pop', 203), ('epicore', 203), ('suomirap', 203), ('slayer', 203), ('midwest emo', 203), ('hip hop tuga', 203), ('dancehall', 202), ('salsa', 202), ('old school dancehall', 202), ('soul jazz', 202), ('disco polo', 202), ('orchestral performance', 202), ('turkish jazz', 202), ('swedish trap pop', 202), ('hungarian rock', 202), ('russian rock', 202), ('dance-punk', 201), ('new romantic', 201), ('west coast trap', 201), ('spanish indie pop', 201), ('musica de fondo', 200), ('glitchcore', 200), ('new french touch', 200), ('swedish jazz', 200), ('rock nacional', 199), ('latin viral pop', 199), ('power metal', 199), ('classic finnish pop', 199), ('new jack swing', 199), ('persian pop', 199), ('australian alternative rock', 198), ('norwegian indie', 198), ('classic thai pop', 198), ('alternative emo', 197), ('dinner jazz', 197), ('uptempo hardcore', 197), ('indie jazz', 197), ('rhythm and blues', 197), ('progressive deathcore', 196), ('neo-psychedelic', 196), ('kompa', 196), ('salsa international', 196), ('glam metal', 196), ('focus beats', 196), ('progressive rock', 195), ('arab pop', 195), ('modern country rock', 195), ('greek pop', 195), ('chill lounge', 195), ('brazilian hardcore', 195), ('brazilian edm', 195), ('cantopop', 195), ('southern soul', 195), ('cool jazz', 195), ('idol rock', 195), ('progressive bluegrass', 195), ('norwegian jazz', 195), ('velha guarda', 194), ('uk dnb', 194), ('deathcore', 194), ('dark electro', 194), ('comic', 193), ('death metal', 193), ('hip hop quebecois', 193), ('celtic', 193), ('cumbia pop', 192), ('alternative dance', 192), ('latin christian', 192), ('acoustic pop', 192), ('rock steady', 192), ('manele', 192), ('deep regional mexican', 192), ('partyschlager', 191), ('french reggae', 191), ('deep latin christian', 191), ('classic danish pop', 191), ('easy listening', 191), ('rock kapak', 191), ('mariachi', 191), ('dirty south rap', 191), ('pop reggaeton', 190), ('canadian indie', 190), ('norwegian pop rap', 190), ('classical tenor', 190), ('jump up', 190), ('boom bap', 190), ('classic norwegian pop', 190), ('progressive uplifting trance', 189), ('latvian pop', 189), ('ebm', 188), ('spanish punk', 188), ('detroit hip hop', 188), ('shimmer pop', 188), ('indie deutschrap', 187), ('jawaiian', 187), ('shamanic', 187), ('hyperpop', 187), ('classic finnish rock', 187), ('bubblegrunge', 186), ('chicano rap', 186), ('rap underground mexicano', 186), ('technical death metal', 186), ('arabesk', 186), ('classic schlager', 185), ('country dawn', 185), ('new rave', 185), ('swing', 185), ('bulgarian pop', 185), ('irish folk', 185), ('brazilian indie', 184), ('bass trap', 184), ('spanish hip hop', 184), ('nederpop', 184), ('polish alternative', 184), ('magyar alternative', 184), ('deconstructed club', 184), ('cumbia villera', 183), ('jazz trumpet', 183), ('flamenco', 183), ('jazz guitar', 183), ('minimal dub', 183), ('roots americana', 183), ('narodna muzika', 182), ('bluegrass', 182), ('musique pour enfants', 182), ('sound art', 182), ('grime', 182), ('world', 182), ('dansband', 182), ('folklore argentino', 181), ('hands up', 181), (\"preschool children's music\", 181), ('rif', 181), ('space rock', 181), ('rap chileno', 181), ('christian rock', 181), ('spanish rock', 181), ('fake', 181), ('kizomba', 181), ('christian trap', 181), ('trap soul', 181), ('barnemusikk', 181), ('spanish metal', 180), ('new age piano', 180), ('dansktop', 180), ('psychedelic rock', 180), ('background jazz', 180), ('grave wave', 180), ('tango', 179), ('chilean indie', 179), ('classic hardstyle', 179), ('historically informed performance', 179), ('neon pop punk', 179), ('anime score', 179), ('japanese vgm', 179), ('deep talent show', 179), ('roots worship', 179), ('bubblegum pop', 179), ('discofox', 178), ('skate punk', 178), ('hoerspiel', 178), ('belgian indie', 178), ('turntablism', 178), ('banjo', 178), ('merseybeat', 178), ('trap queen', 178), ('neo r&b', 178), ('classify', 178), ('classic malaysian pop', 178), ('dominican pop', 177), ('indie quebecois', 177), ('substep', 177), ('doo-wop', 177), ('classic israeli pop', 177), ('hard bop', 176), ('viral pop', 176), ('bhangra', 176), ('vietnamese pop', 176), ('pianissimo', 175), ('axe', 175), ('violin', 175), ('spanish noise pop', 175), ('banda carnavalera', 175), ('chinese drama ost', 175), ('lesen', 174), ('redneck', 174), ('voidgaze', 174), ('library music', 174), ('musiikkia lapsille', 174), ('classical cello', 174), ('dark post-punk', 174), ('hardvapour', 174), ('nu disco', 173), ('samba-enredo', 173), ('musica gaucha tradicionalista', 173), ('brazilian ccm', 173), ('merengue', 173), ('yugoslav rock', 172), ('bboy', 172), ('hardcore punk', 172), ('banda caliente', 172), ('german punk', 172), ('ukrainian pop', 172), ('k-pop boy group', 172), ('danseband', 172), ('comedy', 171), ('retro metal', 171), ('sertanejo tradicional', 171), ('dream pop', 171), ('corridos tumbados', 171), ('classic indo pop', 171), ('canzone napoletana', 171), ('marching band', 171), ('jazz boom bap', 170), ('australian garage punk', 170), ('chamber psych', 170), ('classic colombian pop', 170), ('bangla', 170), ('malaysian indie', 170), ('norwegian rock', 170), ('vintage tango', 169), ('croatian pop', 169), ('jam band', 169), ('hardcore', 169), ('straight edge', 169), ('trip hop', 169), ('dreamo', 169), ('estonian pop', 169), ('japanese instrumental', 169), ('classic icelandic pop', 169), ('lithuanian pop', 169), ('atl hip hop', 169), ('peruvian rock', 169), ('neo-rockabilly', 169), ('gospel', 169), ('chinese traditional', 169), ('bubble trance', 168), ('brazilian reggae', 168), ('ethnotronica', 168), ('cumbia', 168), ('progressive psytrance', 168), ('zouk', 168), ('tejano', 168), ('psychill', 168), ('classic hungarian pop', 168), ('polynesian pop', 167), ('modern reggae', 167), ('sleaze rock', 167), ('classic polish pop', 167), ('drift', 166), ('melodic hard rock', 166), ('black metal', 166), ('early music ensemble', 166), ('metropopolis', 166), ('djent', 166), ('scottish rock', 166), ('chilean rock', 165), ('sevdah', 165), ('zillertal', 165), ('modern ska punk', 165), ('ska punk', 165), ('australian rock', 165), ('doom metal', 165), ('slam death metal', 165), ('spanish new wave', 165), ('meditation', 165), ('hyphy', 165), ('cumbia ranchera', 165), ('african gospel', 165), ('freakbeat', 165), ('classic czech pop', 165), ('nu gaze', 165), ('portland indie', 165), ('christelijk', 165), ('deep comedy', 165), ('traditional blues', 165), ('post-doom metal', 164), ('big beat', 164), ('german techno', 164), ('kurdish pop', 164), ('full on', 164), ('jewish pop', 164), ('chill out', 164), ('contemporary gospel', 164), ('trova', 163), ('rap inde', 163), ('kirtan', 163), ('orgcore', 163), ('deep christian rock', 163), ('skramz', 163), ('brutal death metal', 163), ('slovak pop', 163), ('aggrotech', 163), ('musica tradicional cubana', 163), ('thrash core', 163), ('early modern classical', 163), ('melodipop', 163), ('italian disco', 163), ('nz indie', 163), ('alt-idol', 163), ('classic sinhala pop', 163), ('progressive post-hardcore', 163), ('deep southern trap', 163), ('afro dancehall', 162), ('blaskapelle', 162), ('dutch indie', 162), ('pop romantico', 162), ('gabba', 162), ('progressive metal', 162), ('filter house', 162), ('chillwave', 162), ('cante flamenco', 162), ('irish country', 162), ('music hall', 162), ('traditional british folk', 162), ('american classical piano', 162), ('indonesian worship', 162), ('ethiopian pop', 162), ('drill and bass', 162), ('neo-progressive', 161), ('kabarett', 161), ('swiss indie', 161), ('experimental', 161), ('german worship', 161), ('uk post-punk', 161), ('gothic metal', 161), ('lds', 161), ('21st century classical', 161), ('power blues-rock', 161), ('nwocr', 161), ('hard alternative', 161), ('chamame', 160), ('australian underground hip hop', 160), ('classic belgian pop', 160), ('rap cristiano', 160), ('christian relaxative', 160), ('canadian country', 160), ('soca', 160), ('britpop', 160), ('czech hip hop', 160), ('belly dance', 160), ('choral', 160), ('wave', 160), ('deep norteno', 160), ('fado', 160), ('phonk', 159), ('chanson quebecois', 159), ('avant-garde', 159), ('appalachian folk', 159), ('old-time', 159), ('la pop', 159), ('spanish folk', 159), ('rock catala', 159), ('soulful house', 159), ('hawaiian', 159), ('dark clubbing', 159), ('vintage swedish pop', 159), ('british choir', 158), ('belgian dance', 158), ('melodic death metal', 158), ('dark wave', 158), ('classic house', 158), ('j-metal', 158), ('ambient psychill', 158), ('kodomo no ongaku', 158), ('french classical piano', 158), ('mexican rock-and-roll', 158), ('deep liquid bass', 158), ('classic portuguese pop', 158), ('muziek voor kinderen', 157), ('choro', 157), ('trap brasileiro', 157), ('organic electronic', 157), ('classic garage rock', 157), ('deep disco', 157), ('complextro', 157), ('visual kei', 157), ('thai idol', 157), ('classic persian pop', 156), ('indian indie', 156), ('latin metal', 156), ('electro swing', 156), ('oi', 156), ('light music', 156), ('gothic rock', 156), ('vintage dutch pop', 156), ('norwegian black metal', 156), ('sinhala pop', 156), ('vintage jazz', 156), ('garage pop', 155), ('circuit', 155), ('christian metal', 155), ('timba', 155), ('classical organ', 155), ('gothic symphonic metal', 155), ('gypsy jazz', 155), ('easycore', 155), ('desi hip hop', 154), ('psychedelic blues-rock', 154), ('punk blues', 154), ('dark black metal', 154), ('a cappella', 154), ('romantico', 154), ('riddim', 154), ('traditional folk', 154), ('filthstep', 154), ('spanish pop rock', 154), ('post-punk', 154), ('k-pop girl group', 154), ('jazz trio', 154), ('seattle indie', 154), ('wonky', 154), ('vaporwave', 154), ('southern gospel', 154), ('liedermacher', 153), ('pub rock', 153), ('native american', 153), ('zouk riddim', 153), ('mgp', 153), ('neo-synthpop', 153), ('neurofunk', 153), ('french movie tunes', 153), ('bass music', 153), ('italian alternative', 153), ('pinoy rock', 153), ('persian traditional', 152), ('pinoy hip hop', 152), ('classic venezuelan pop', 152), ('chamber orchestra', 152), ('zydeco', 152), ('classic soundtrack', 152), ('contemporary vocal jazz', 152), ('ecm-style jazz', 152), ('c86', 152), ('instrumental rock', 152), ('taiwan pop', 152), ('gospel singers', 152), ('deep dubstep', 152), ('abstract hip hop', 151), ('finnish punk', 151), ('kolsche karneval', 151), ('chillstep', 151), ('indie catala', 151), ('classic turkish pop', 151), ('indie shoegaze', 151), ('musica andina', 150), ('chalga', 150), ('techno', 150), ('reggae rock', 150), ('antiviral pop', 150), ('east coast hip hop', 150), ('futurepop', 150), ('bebop', 150), ('classic dubstep', 150), ('electra', 150), ('japanese vtuber', 150), ('romanian rock', 150), ('reading', 149), ('german show tunes', 149), ('uk pop', 149), ('baroque ensemble', 149), ('relaxative', 149), ('balearic', 149), ('reggae en espanol', 149), ('folk punk', 149), ('fingerstyle', 149), ('traditional ska', 149), ('drone', 149), ('nwothm', 149), ('future garage', 149), ('avant-garde jazz', 149), ('hindustani classical', 149), ('stride', 149), ('kayokyoku', 149), ('american post-rock', 149), ('blasmusik', 148), ('uk contemporary r&b', 148), ('classic eurovision', 148), ('colombian rock', 148), ('cornetas y tambores', 148), ('college a cappella', 148), ('taiwan indie', 148), ('korean r&b', 148), ('russian classical piano', 148), ('classic praise', 148), ('swedish punk', 148), ('musica infantil', 147), ('stomp pop', 147), ('electro bailando', 147), ('breakbeat', 147), ('african rock', 147), ('rebetiko', 147), ('classic cantopop', 147), ('deep ccm', 147), ('vintage hawaiian', 147), ('horrorcore', 147), ('ska revival', 146), ('austropop', 146), ('german metal', 146), ('freestyle', 146), ('post-rock', 146), ('psychobilly', 146), ('vintage chanson', 146), ('sega', 146), ('classic dutch pop', 146), ('deep pop edm', 146), ('musica costena', 146), ('neo-proto', 145), ('panamanian pop', 145), ('deep smooth jazz', 145), ('french folk pop', 145), ('symphonic metal', 145), ('carnatic', 145), ('tollywood', 145), ('indie dream pop', 145), ('louvor', 144), ('makossa', 144), ('medieval folk', 144), ('ambient', 144), ('deep italo disco', 144), ('classic peruvian pop', 144), ('polish punk', 144), ('vintage gospel', 144), ('south african jazz', 144), ('belgian rock', 143), ('afrobeat', 143), ('steampunk', 143), ('musica catalana', 143), ('british brass band', 143), ('mollywood', 143), ('instrumental post-rock', 143), (\"punk 'n' roll\", 142), ('christian punk', 142), ('classical mezzo-soprano', 142), ('pixie', 142), ('vintage chinese pop', 142), ('fast melodic punk', 142), ('jazz rap', 142), ('classic pakistani pop', 142), ('nepali pop', 142), ('minimal wave', 142), ('classical flute', 142), ('pinoy indie', 142), ('swedish synth', 142), ('twee pop', 142), ('tribal house', 141), ('poetry', 141), ('crust punk', 141), ('bulgarian rock', 141), ('musica llanera', 141), ('greek indie', 141), ('deep rai', 141), ('cello', 141), ('azonto', 141), ('dark techno', 141), ('ghazal', 141), ('chicago rap', 141), ('musica per bambini', 141), ('orthodox chant', 141), ('folkmusik', 141), ('electro jazz', 140), ('vancouver indie', 140), ('french worship', 140), ('funky tech house', 140), ('german ccm', 140), ('russian trap', 140), ('drumfunk', 140), ('la indie', 140), ('austindie', 140), ('melancholia', 140), ('ambeat', 140), ('tagalog rap', 139), ('orquesta tipica', 139), ('australian country', 139), ('strut', 139), ('venezuelan rock', 139), ('military band', 139), ('judaica', 139), ('post-romantic era', 139), ('polish alternative rap', 139), ('western swing', 139), ('new wave of thrash metal', 139), ('surf music', 138), ('english indie rock', 138), ('italian baroque', 138), ('fourth world', 138), ('j-pop girl group', 138), ('hard house', 138), ('ukrainian rock', 138), ('mexican son', 138), ('norwegian gospel', 138), ('melbourne indie', 137), ('classic bulgarian pop', 137), ('progressive trance house', 137), ('emo punk', 137), ('ambient idm', 137), ('new orleans jazz', 137), ('hiplife', 137), ('brooklyn indie', 137), ('vietnamese hip hop', 137), ('italian progressive rock', 136), ('medieval rock', 136), ('groove room', 136), ('deep ragga', 136), ('karneval', 136), ('ballroom', 136), ('shoegaze', 136), ('neofolk', 136), ('deep progressive house', 136), ('avant-garde metal', 136), ('sami', 136), ('j-core', 136), ('soul flow', 136), ('hopebeat', 136), ('ectofolk', 136), ('jumpstyle', 135), ('world fusion', 135), ('stoner metal', 135), ('chamber pop', 135), ('industrial', 135), ('folk metal', 135), ('deep adult standards', 135), ('jungle', 135), ('traditional soul', 135), ('rosary', 135), ('armenian folk', 135), ('schranz', 135), ('shibuya-kei', 135), ('anime rock', 135), ('deep psychobilly', 135), ('nu age', 135), ('tanzlmusi', 135), ('bouncy house', 134), ('boston rock', 134), ('stoner rock', 134), ('funky house', 134), ('gregorian chant', 134), ('celtic punk', 134), ('kinderchor', 134), ('euphoric hardstyle', 134), ('neo-trad metal', 134), ('klezmer', 134), ('wind symphony', 134), ('conscious hip hop', 133), ('hard trance', 133), ('black death', 133), ('soukous', 133), ('greek hip hop', 133), ('neoclassical darkwave', 133), ('finnish metal', 133), ('accordeon', 133), ('outsider house', 133), ('armenian pop', 133), ('abstract idm', 133), ('classic opm', 133), ('beatdown', 133), ('turkish metal', 133), ('dirty texas rap', 133), ('space age pop', 132), ('ragga jungle', 132), ('canadian singer-songwriter', 132), ('canadian pop', 132), ('modern power pop', 132), ('underground power pop', 132), ('dark psytrance', 132), ('free jazz', 132), ('brass ensemble', 131), ('classical bass', 131), ('exotica', 131), ('deep freestyle', 131), ('adoracion', 131), ('romanian pop', 131), ('ecuadorian pop', 131), ('ninja', 131), ('nasheed', 131), ('modern southern rock', 131), ('swedish melodic rock', 131), ('breakcore', 131), ('mainland chinese pop', 131), ('balkan brass', 131), ('south african gospel', 131), ('anime cv', 131), ('diy emo', 131), ('deep chill', 131), ('string band', 131), ('world chill', 130), ('canadian contemporary r&b', 130), ('ostrock', 130), ('dixieland', 130), ('classical piano trio', 130), ('psalmen', 130), ('uk garage', 130), ('hungarian folk', 130), ('grindcore', 130), ('corrosion', 130), ('latincore', 129), ('forro tradicional', 129), ('korean ost', 129), ('vintage italian pop', 129), ('funeral doom', 129), ('harmonica blues', 129), ('deep idm', 129), ('street punk', 129), ('vintage old-time', 129), ('deep smooth r&b', 129), ('deep hardtechno', 129), ('rhythm and boogie', 129), ('old school thrash', 128), ('neo-pagan', 128), ('power-pop punk', 128), ('spanish invasion', 128), ('metal guitar', 128), ('israeli pop', 128), ('darkstep', 128), ('galego', 128), ('norteno', 128), ('rare groove', 128), ('israeli indie', 128), ('concert band', 128), ('swedish indie pop', 128), ('norske viser', 128), ('instrumental surf', 128), ('vintage schlager', 127), ('deep brazilian pop', 127), ('nl folk', 127), ('vancouver punk', 127), ('shred', 127), ('makina', 127), ('classic french pop', 127), ('british folk', 127), ('ethereal wave', 127), ('zouglou', 127), ('turkish classical', 127), ('slovenian pop', 126), ('tekno', 126), ('drone metal', 126), ('carnaval limburg', 126), ('indie pop rap', 126), ('deep euro house', 126), ('finnish death metal', 126), ('scratch', 126), ('post-grunge', 126), ('deep minimal techno', 126), ('classic bollywood', 126), ('oratory', 126), ('terrorcore', 126), ('traditional bluegrass', 126), ('goregrind', 126), ('riot grrrl', 126), ('swedish black metal', 126), ('commons', 126), ('swiss folk', 125), ('belgian hip hop', 125), ('mexican pop', 125), ('synthpop', 125), ('canadian metal', 125), ('shanty', 125), ('indonesian hip hop', 125), ('latin arena pop', 125), ('reunion pop', 125), ('electrofox', 125), ('south african house', 125), ('chiptune', 125), ('irish rock', 125), ('japanese indie rock', 125), ('southern soul blues', 125), ('dub techno', 125), ('swedish jazz orkester', 125), ('taiwan graduation song', 125), ('atmospheric post-rock', 125), ('environmental', 124), ('australian dance', 124), ('alternative pop', 124), ('brazilian punk', 124), ('german oi', 124), ('catalan folk', 124), ('electro latino', 124), ('norwegian hip hop', 124), ('thai indie', 124), ('classical clarinet', 124), ('nu skool breaks', 124), ('deep contemporary country', 124), ('modern free jazz', 124), ('crossover prog', 124), ('pop house', 123), ('deep discofox', 123), ('industrial rock', 123), ('swedish reggae', 123), ('deep funk ostentacao', 123), ('canadian folk', 123), ('neo-industrial rock', 123), ('oshare kei', 123), ('operatic pop', 123), ('new isolationism', 123), ('german classical piano', 123), ('israeli rock', 123), ('shabad', 123), ('philly indie', 123), ('christmas instrumental', 123), ('dark ambient', 123), ('powerviolence', 123), ('australian metal', 123), ('pre-war blues', 123), ('italian pop', 122), ('banda', 122), ('glitch hop', 122), ('goa trance', 122), ('j-reggae', 122), ('classical percussion', 122), ('garage punk', 122), ('popgaze', 122), ('future ambient', 122), ('vintage swoon', 122), ('power pop', 121), ('anti-folk', 121), ('dark progressive house', 121), ('math pop', 121), ('indie emo', 121), ('kindie rock', 121), ('slovak hip hop', 121), ('bay area hip hop', 121), ('deep surf music', 121), ('sleep', 120), ('lebanese pop', 120), ('vapor pop', 120), ('bulgarian folk', 120), ('cumbia funk', 120), ('german street punk', 120), ('bachata', 120), ('arab folk', 120), ('chamber choir', 120), ('deep progressive trance', 120), ('highlife', 120), ('deep disco house', 120), ('bedroom pop', 120), ('jazz piano', 120), ('free improvisation', 120), ('ambient dub techno', 120), ('intelligent dance music', 120), ('experimental dubstep', 120), ('modern performance', 120), ('svensk lovsang', 120), ('portuguese rock', 120), ('vaudeville', 120), ('noise', 120), ('gospel rap', 120), ('deep funk house', 120), ('late romantic era', 119), ('ballet class', 119), ('swedish metal', 119), ('horror punk', 119), ('greek metal', 119), ('jumptek', 119), ('deep soul house', 119), ('gothic americana', 119), ('coupe-decale', 119), ('souldies', 119), ('norwegian metal', 119), ('swedish synthpop', 119), ('ghoststep', 119), ('cajun', 119), ('melodic progressive metal', 119), ('barbershop', 119), ('grim death metal', 119), ('harp', 118), ('israeli hip hop', 118), ('classical era', 118), ('czech pop', 118), ('abstract beats', 118), ('swedish hard rock', 118), ('accordion', 118), ('deep new wave', 118), ('cyberpunk', 118), ('deep motown', 118), ('c64', 118), ('northern irish indie', 118), ('nyhc', 117), ('folk-pop', 117), ('swamp pop', 117), ('mexican traditional', 117), ('finnish melodeath', 117), ('ambient fusion', 117), ('aikatsu', 117), ('hardingfele', 117), ('blackgaze', 117), ('neo soul-jazz', 117), ('brutal deathcore', 117), ('traditional funk', 117), ('deep darkpsy', 117), ('gbvfi', 116), ('classic city pop', 116), ('breton folk', 116), ('chicago blues', 116), ('finnish jazz', 116), ('electro trash', 116), ('deep soft rock', 116), ('german baroque', 116), ('malay rap', 116), ('american contemporary classical', 116), ('speedcore', 116), ('polish jazz', 116), ('french black metal', 116), ('christian hardcore', 116), ('rap metalcore', 116), ('colombian hip hop', 115), ('didgeridoo', 115), ('deep g funk', 115), ('indorock', 115), ('swing revival', 115), ('spytrack', 115), ('houston rap', 115), ('american modern classical', 115), ('laboratorio', 115), ('traditional rockabilly', 115), ('theme', 115), ('post-post-hardcore', 115), ('gothenburg indie', 115), ('football', 115), ('vintage western', 115), ('vienna indie', 114), ('hammond organ', 114), ('early reggae', 114), ('gospel reggae', 114), ('faroese pop', 114), ('danish indie', 114), ('japanese traditional', 114), ('symphonic death metal', 114), ('scottish folk', 114), ('classic italian folk pop', 114), ('bagpipe marching band', 114), ('swiss metal', 114), ('classic psychedelic rock', 114), ('swedish death metal', 114), ('british contemporary classical', 114), ('progressive breaks', 114), ('chill-out trance', 114), ('lowercase', 114), ('indie fuzzpop', 114), ('south african alternative', 113), ('broken beat', 113), ('uk funky', 113), ('gypsy', 113), ('french punk', 113), ('nouvelle chanson francaise', 113), ('experimental ambient', 113), ('pakistani pop', 113), ('medieval', 113), ('italian pop rock', 113), ('shonen', 113), ('deep happy hardcore', 113), ('norwegian punk', 113), ('swedish prog', 113), ('vintage classical singing', 113), ('diy pop punk', 113), ('drone psych', 113), ('indietronica', 112), ('bulgarian hip hop', 112), ('guggenmusik', 112), ('mathcore', 112), ('bossa nova cover', 112), ('punk urbano', 112), ('outer hip hop', 112), ('british indie rock', 112), ('dutch house', 112), ('alternative roots rock', 112), ('japanese singer-songwriter', 112), ('boy pop', 112), ('tex-mex', 112), ('lounge house', 112), ('turkish rock', 112), ('nashville indie', 112), ('instrumental bluegrass', 112), ('bass trip', 112), ('deep hardcore', 112), ('classic afrobeat', 112), ('demoscene', 112), ('polka', 111), ('noise punk', 111), ('dark cabaret', 111), ('mbalax', 111), ('modern progressive rock', 111), ('asmr', 111), ('american choir', 111), ('bolero', 111), ('norwegian folk', 111), ('future funk', 111), ('psybreaks', 111), ('chinese hip hop', 111), ('deep ambient', 111), ('german alternative rap', 110), ('german cloud rap', 110), ('jazz trombone', 110), ('musica popular paraense', 110), ('neue deutsche welle', 110), ('deep chill-out', 110), ('deep power-pop punk', 110), ('vintage country folk', 110), ('traditional scottish folk', 110), ('downtempo', 110), ('chicago indie', 110), ('deep uplifting trance', 110), ('british jazz', 110), ('japanese jazztronica', 110), ('covertrance', 110), ('grunge pop', 110), ('swedish indie rock', 110), ('hauntology', 110), ('deep neo-synthpop', 110), ('toronto indie', 109), ('musica costarricense', 109), ('nordic folk', 109), ('british soundtrack', 109), ('disney', 109), ('post-disco soul', 109), ('alternative pop rock', 109), ('uk experimental electronic', 109), ('icelandic rock', 109), ('electroacoustic improvisation', 109), ('perth indie', 108), ('canadian electronic', 108), ('instrumental funk', 108), ('industrial techno', 108), ('detroit trap', 108), ('porro', 108), ('beatlesque', 108), ('old school rap francais', 108), ('japanese classical performance', 108), ('hard minimal techno', 108), ('indie emo rock', 108), ('j-ambient', 108), ('psych gaze', 108), ('drama', 108), ('italian classical piano', 108), ('miami bass', 108), ('romanian rap', 108), ('uk doom metal', 108), ('modern uplift', 108), ('sunset lounge', 108), ('british experimental', 107), ('vallenato', 107), ('nova musica pernambucana', 107), ('celtic rock', 107), ('pop quebecois', 107), ('schweizer rap', 107), ('mundart', 107), ('deep tech house', 107), ('german jazz', 107), ('scottish indie', 107), ('italo dance', 107), ('romanian trap', 107), ('enka', 107), ('norwegian contemporary jazz', 107), ('chaotic hardcore', 107), ('polish black metal', 107), ('bagpipe', 107), ('geek folk', 107), ('hard stoner rock', 107), ('australian hip hop', 106), ('puerto rican rock', 106), ('electric bass', 106), ('harpsichord', 106), ('yacht rock', 106), ('idol kayo', 106), ('deep free jazz', 106), ('french jazz', 106), ('icelandic indie', 106), ('spanish classical', 106), ('italian tenor', 106), ('brighton indie', 106), ('batak', 106), ('afghan pop', 106), ('japanese r&b', 106), ('azeri pop', 106), ('german romanticism', 106), ('slow game', 106), ('guidance', 106), ('deep breakcore', 106), ('anarcho-punk', 106), ('destroy techno', 106), ('vintage swing', 106), ('gospel blues', 106), ('twin cities indie', 106), ('khaliji', 105), ('austrian hip hop', 105), ('deep dnb', 105), ('melbourne bounce', 105), ('adventista', 105), ('doujin', 105), ('krautrock', 105), ('galante era', 105), ('rap maroc', 105), ('jazz double bass', 105), ('barrelhouse piano', 105), ('nintendocore', 105), ('boogie-woogie', 105), ('japanese jazz', 105), ('classic j-pop', 105), ('persian alternative', 105), ('fidget house', 105), ('christmas product', 105), ('glitch beats', 105), ('noise rock', 104), ('folk brasileiro', 104), ('k-rock', 104), ('indonesian indigenous', 104), ('indie hip hop', 104), ('american shoegaze', 104), ('skiffle', 104), ('deep eurodance', 104), ('american oi', 104), ('portuguese metal', 104), ('edmonton indie', 104), ('dub product', 104), ('southern americana', 104), ('organic ambient', 104), ('chill groove', 104), ('dark electro-industrial', 104), ('trap argentino', 103), ('grunge', 103), ('experimental pop', 103), ('deep latin alternative', 103), ('power noise', 103), ('chinese viral pop', 103), ('vintage italian soundtrack', 103), ('jig and reel', 103), ('progressive jazz fusion', 103), ('dutch indie rock', 103), ('deep jazz fusion', 103), ('deep liquid', 103), ('trash rock', 103), ('dallas indie', 103), ('viking metal', 102), ('bornesange', 102), ('ecuadorian indie', 102), ('beach music', 102), ('hong kong indie', 102), ('japanese jazz fusion', 102), ('neurostep', 102), ('idol', 102), ('west end', 102), ('deep east coast hip hop', 102), ('deep indie pop', 102), ('italo beats', 102), ('hamburg electronic', 101), ('classical oboe', 101), ('experimental hip hop', 101), ('bassline', 101), ('tzadik', 101), ('cumbia ecuatoriana', 101), ('norteno-sax', 101), ('etherpop', 101), ('japanese melodic punk', 101), ('chilena', 101), ('doomcore', 101), ('british dance band', 101), ('polish reggae', 101), ('punk ska', 101), ('country blues', 101), ('geek rock', 101), ('black sludge', 101), ('nu electro', 101), ('villancicos', 100), ('argentine metal', 100), ('slap house', 100), ('piano rock', 100), ('mexican metal', 100), ('candy pop', 100), ('deep deep house', 100), ('euskal rock', 100), ('grupera', 100), ('indonesian folk', 100), ('messianic praise', 100), ('minneapolis indie', 100), ('small room', 100), ('abstract', 100), ('benga', 100), ('ugandan pop', 100), ('dutch idol pop', 100), ('deep northern soul', 100), ('portuguese indie', 100), ('karadeniz turkuleri', 100), ('old-time fiddle', 100), ('deep acoustic pop', 100), ('screamocore', 100), ('minnesota hip hop', 99), ('bossa nova jazz', 99), ('violao', 99), ('pop lgbtq+ brasileira', 99), ('galician folk', 99), ('cubaton', 99), ('pagan black metal', 99), ('acid techno', 99), ('acoustic punk', 99), ('talent show', 99), ('atmospheric black metal', 99), ('technical brutal death metal', 99), ('nerdcore', 99), ('dutch jazz', 99), ('stomp and whittle', 99), ('cryptic black metal', 99), ('deep sunset lounge', 99), ('chip hop', 99), ('australian jazz', 98), ('mashup', 98), ('jazz brass', 98), ('capoeira', 98), ('tecnobrega', 98), ('country rap', 98), ('post-black metal', 98), ('disco house', 98), ('uk dance', 98), ('deathrock', 98), ('deep r&b', 98), ('afro house', 98), ('philly rap', 98), ('irish fiddle', 98), ('historic piano performance', 98), ('vapor house', 98), ('gruperas inmortales', 98), ('minimal dubstep', 98), ('re:techno', 98), ('boston indie', 98), ('semba', 98), ('lo-fi indie', 98), ('dark minimal techno', 98), ('cosmic uplifting trance', 98), ('depressive black metal', 98), ('deep vocal jazz', 98), ('memphis soul', 97), ('memphis hip hop', 97), ('brega funk', 97), ('brazilian stoner rock', 97), ('dubsteppe', 97), ('viral trap', 97), ('persian hip hop', 97), ('deep classic garage rock', 97), ('bachata dominicana', 97), ('northern soul', 97), ('brass band', 97), ('sheffield indie', 97), ('classical baritone', 97), ('assamese pop', 97), ('italian folk', 97), ('classic nz pop', 97), ('west coast rap', 97), ('glitch', 97), ('unblack metal', 97), ('new jack smooth', 97), ('throat singing', 96), ('jazz drums', 96), ('russian post-punk', 96), ('thrash metal', 96), ('colombian indie', 96), ('radio symphony', 96), ('euroska', 96), ('motivation', 96), ('remix product', 96), ('rap dominicano', 96), ('welsh rock', 96), ('old school hip hop', 96), ('japanese punk rock', 96), ('deep punk rock', 96), ('turkish alternative', 96), ('witch house', 96), ('autonomous black metal', 96), ('christian indie', 96), ('indie rockism', 96), ('neo-trad doom metal', 96), ('deep filthstep', 96), ('neo-trad prog', 96), ('brazilian punk rock', 95), ('funk paulista', 95), ('world meditation', 95), ('california hardcore', 95), ('new tribe', 95), ('deep german punk', 95), ('corsican folk', 95), ('hungarian hip hop', 95), ('gamecore', 95), ('italian underground hip hop', 95), ('pretty rhythm', 95), ('deep indie rock', 95), ('bergen indie', 95), ('american metalcore', 95), ('brazilian modern jazz', 95), ('south african hip hop', 95), ('euro hi-nrg', 95), ('latin classical', 94), ('rap underground espanol', 94), ('zolo', 94), ('calypso', 94), ('rap montrealais', 94), ('powwow', 94), ('contemporary folk', 94), ('flamenco urbano', 94), ('british blues', 94), ('british classical piano', 94), ('greek underground rap', 94), ('greek trap', 94), ('psychedelic folk', 94), ('deep soundtrack', 94), ('mod revival', 94), ('taiwan singer-songwriter', 94), ('piano cover', 94), ('music box', 94), ('vegan straight edge', 94), ('moombahton', 94), ('italian jazz', 94), ('polish trap', 94), ('jazz orchestra', 94), ('stubenmusik', 94), ('hard glam', 94), ('dutch trance', 93), ('permanent wave', 93), ('belgian pop', 93), ('neue deutsche harte', 93), ('uzbek pop', 93), ('swiss rock', 93), ('arab alternative', 93), ('welsh indie', 93), ('city pop', 93), ('indonesian jazz', 93), ('musik anak-anak', 93), ('lullaby', 93), ('footwork', 93), ('icelandic electronic', 93), ('italian punk', 93), ('german orchestra', 93), ('dark jazz', 93), ('russian underground rap', 93), ('red dirt', 93), ('congolese gospel', 93), ('chaotic black metal', 93), ('deep psytrance', 93), ('jazz composition', 93), ('australian indigenous', 92), ('australian talent show', 92), ('british soul', 92), ('ragtime', 92), ('atl trap', 92), ('toronto rap', 92), ('colombian pop', 92), ('jazz organ', 92), ('ghettotech', 92), ('american folk revival', 92), ('ye ye', 92), ('polyphony', 92), ('british alternative rock', 92), ('diva house', 92), ('tin pan alley', 92), ('bay area indie', 92), ('swedish doom metal', 92), ('vocal harmony group', 92), ('carnatic vocal', 92), ('thai hip hop', 92), ('bow pop', 92), ('rhythm game', 92), ('bounce', 92), ('latvian hip hop', 92), ('russian punk', 92), ('blues-rock guitar', 92), ('dutch cabaret', 92), ('singer-songwriter', 92), ('melodic black metal', 92), ('poezja spiewana', 92), ('christian uplift', 92), ('neo honky tonk', 92), ('malaysian hip hop', 91), ('russian folk', 91), ('folklore boliviano', 91), ('gospel antigas', 91), ('boy band', 91), ('wrestling', 91), ('beats', 91), ('soul blues', 91), ('finnish doom metal', 91), ('sci-fi metal', 91), ('gamelan', 91), ('malagasy folk', 91), ('modern enka', 91), ('instrumental math rock', 91), ('experimental techno', 91), ('trio huasteco', 91), ('deep southern soul', 91), ('musica para criancas', 90), ('trap chileno', 90), ('spiritual jazz', 90), ('german choir', 90), ('icelandic hip hop', 90), ('german metalcore', 90), ('perreo', 90), ('jazz vibraphone', 90), ('french folk', 90), ('electro dub', 90), ('smooth saxophone', 90), ('g funk', 90), ('hindustani vocal', 90), ('ukrainian electronic', 90), ('drill', 90), ('comedienne', 90), ('polish electronica', 90), ('grimewave', 90), ('turkish psych', 90), ('modern string quartet', 90), ('grisly death metal', 90), ('chicha', 89), ('munich indie', 89), ('baroque pop', 89), ('czech indie', 89), ('kabyle', 89), ('finnish folk', 89), ('nursery', 89), ('turkish alternative rock', 89), ('trap italiana', 89), ('japanese trap', 89), ('russian indie', 89), ('deep indie singer-songwriter', 89), ('abstractro', 89), ('traditional reggae', 89), ('french death metal', 89), ('german death metal', 89), ('experimental psych', 89), ('power electronics', 89), ('musikkorps', 88), ('acid jazz', 88), ('big room', 88), ('uk reggae', 88), ('dungeon synth', 88), ('spanish reggae', 88), ('solipsynthm', 88), ('sierreno', 88), ('shimmer psych', 88), ('early music choir', 88), ('deep dance pop', 88), ('seiyu', 88), ('nordnorsk musikk', 88), ('lo-fi house', 88), ('norwegian country', 88), ('vispop', 88), ('deep full on', 88), ('kurdish folk', 88), ('uk pop punk', 88), ('pornogrind', 88), ('cinematic dubstep', 88), ('stl indie', 88), ('acid house', 87), ('brazilian metal', 87), ('african percussion', 87), ('german punk rock', 87), ('southern rock', 87), ('nz pop', 87), ('trancecore', 87), ('cyber metal', 87), ('ukulele', 87), ('japanese emo', 87), ('j-punk', 87), ('orquesta tropical', 87), ('kenyan pop', 87), ('russian metal', 87), ('florida rap', 87), ('dubstep product', 87), ('italian soprano', 86), ('german singer-songwriter', 86), ('aussietronica', 86), ('black thrash', 86), ('bandinhas', 86), ('canadian rock', 86), ('melodic rap', 86), ('channel pop', 86), ('latin talent show', 86), ('polish indie', 86), ('jazz quartet', 86), ('trap mexicano', 86), ('italian techno', 86), ('bhajan', 86), ('seinen', 86), ('brazilian thrash metal', 86), ('electropowerpop', 86), (\"men's choir\", 86), ('caucasian folk', 86), ('rock noise', 86), ('german black metal', 86), ('alternative metalcore', 86), ('thrash-groove metal', 86), ('indian rock', 85), ('funk metal', 85), ('brazilian blues', 85), ('reggae fusion', 85), ('greek house', 85), ('danish jazz', 85), ('french baroque', 85), ('rap latina', 85), ('arabic hip hop', 85), ('deep downtempo fusion', 85), ('indie singer-songwriter', 85), ('british comedy', 85), ('american 21st century classical', 85), ('musique concrete', 85), ('frankfurt electronic', 85), ('marathi pop', 85), ('dark disco', 85), ('vintage rockabilly', 85), ('lds youth', 85), ('singaporean pop', 85), ('viola', 85), ('michigan indie', 85), ('kundalini', 85), ('deep vocal house', 85), ('russian electronic', 84), ('gauze pop', 84), ('old school hard trance', 84), ('rhode island indie', 84), ('pop nacional antigas', 84), ('peruvian indie', 84), ('balfolk', 84), ('turkish trap', 84), ('nuevo flamenco', 84), ('british black metal', 84), ('progressive black metal', 84), ('welsh folk', 84), ('thai indie rock', 84), ('nyc rap', 84), ('taiwan hip hop', 84), ('melbourne bounce international', 84), ('irish pop', 84), ('a3', 84), ('thai rock', 84), ('twee indie pop', 84), ('deep pop emo', 84), ('spoken word', 84), ('healing', 83), (\"children's folk\", 83), ('latin tech house', 83), ('brazilian death metal', 83), ('pagode novo', 83), ('neo-psicodelia brasileira', 83), ('country quebecois', 83), ('rebel blues', 83), ('burmese pop', 83), ('west african jazz', 83), ('bongo flava', 83), ('finnish black metal', 83), ('neo-singer-songwriter', 83), ('london rap', 83), ('manchester indie', 83), ('rock cristiano', 83), ('japanese underground rap', 83), ('j-indie', 83), ('italian renaissance', 83), ('hard bass', 83), ('singaporean indie', 83), ('steelpan', 83), ('huayno', 83), ('peruvian punk', 83), ('family gospel', 83), ('romanian folk', 83), ('p funk', 83), ('shiver pop', 83), ('deep melodic death metal', 83), ('deep neofolk', 83), ('hardcore breaks', 83), ('electronicore', 83), ('classical harp', 82), ('elektropunk', 82), ('modern funk', 82), ('bolivian rock', 82), ('musica popular amazonense', 82), ('battle rap', 82), ('rock quebecois', 82), ('dutch edm', 82), ('danish alternative rock', 82), ('acoustic chill', 82), ('slovenian rock', 82), ('mande pop', 82), ('guinean pop', 82), ('slavic metal', 82), ('teen pop', 82), ('uk house', 82), ('ska mexicano', 82), ('kiwi rock', 82), ('sesame street', 82), ('nordic house', 82), ('melodic dubstep', 82), ('french soundtrack', 82), ('heavy gothic rock', 82), ('puerto rican indie', 82), ('guitar case', 82), ('skweee', 82), ('blues band', 81), ('german reggae', 81), ('new jersey indie', 81), ('australian indie rock', 81), ('uk dub', 81), ('kazakh pop', 81), ('early romantic era', 81), ('brazilian emo', 81), ('rock tico', 81), ('brostep', 81), ('microtonal', 81), ('salsa puertorriquena', 81), ('minimalism', 81), ('estonian hip hop', 81), ('euskal musica', 81), ('british invasion', 81), ('mallet', 81), ('miami hip hop', 81), ('uk82', 81), ('irish rebel song', 81), ('belgian techno', 81), ('deep folk metal', 81), ('indie electronica', 81), ('boston hardcore', 81), ('drone folk', 81), ('baroque singing', 81), ('muzica populara', 81), ('swedish fiddle', 81), ('gothenburg metal', 81), ('stockholm indie', 81), ('triangle indie', 81), ('college marching band', 81), ('deep symphonic black metal', 81), ('argentine punk', 80), ('classic progressive house', 80), ('balkan hip hop', 80), ('vlaamse rap', 80), ('brazilian jazz', 80), ('canadian contemporary country', 80), ('nu-cumbia', 80), ('zim urban groove', 80), ('liverpool indie', 80), ('outlaw country', 80), ('progressive power metal', 80), ('dub reggae', 80), ('trondersk musikk', 80), ('ceilidh', 80), ('string folk', 80), ('j-pop boy group', 80), ('shojo', 80), ('cathedral choir', 80), ('croatian indie', 80), ('junior songfestival', 80), ('rogaland musikk', 80), ('heavy alternative', 80), ('black comedy', 80), ('ukrainian indie', 80), ('dronescape', 80), ('blackened hardcore', 80), ('minimal melodic techno', 80), ('hard dance', 80), ('post-metal', 79), ('pop nacional', 79), ('chinderlieder', 79), ('classical saxophone', 79), ('entehno', 79), ('electroclash', 79), ('english renaissance', 79), ('irish singer-songwriter', 79), ('classic greek pop', 79), ('hungarian metal', 79), ('swedish hardcore', 79), ('lo-fi', 79), ('french romanticism', 79), ('classic anime', 79), ('oslo indie', 79), ('korean soundtrack', 79), ('klapa', 79), ('christian dance', 79), ('columbus ohio indie', 79), ('kansas city hip hop', 79), ('gospel r&b', 79), ('german contemporary classical', 79), ('svensk indie', 79), ('argentine alternative rock', 78), ('sludge metal', 78), ('usbm', 78), ('estonian indie', 78), ('brega', 78), ('talentos brasileiros', 78), ('boom bap brasileiro', 78), ('cdmx indie', 78), ('nordic orchestra', 78), ('mandible', 78), ('copla', 78), ('hengelliset laulut', 78), ('garage house', 78), ('chinese indie rock', 78), ('nyc pop', 78), ('indonesian viral pop', 78), ('tsukiuta', 78), ('chamber ensemble', 78), ('dark hardcore', 78), ('oklahoma country', 78), ('nz hip hop', 78), ('polish modern jazz', 78), ('swedish pop punk', 78), ('atlanta indie', 78), ('swedish techno', 78), ('flick hop', 78), ('denver indie', 78), ('new wave of osdm', 78), ('modern downshift', 78), ('jangle rock', 78), ('argentine hip hop', 77), ('rap conscient', 77), ('vintage french electronic', 77), ('rock gospel brasileiro', 77), ('dutch drill', 77), ('scandipop', 77), ('hungarian pop', 77), ('bemani', 77), ('khaleeji iraqi', 77), ('uk contemporary jazz', 77), ('contemporary classical piano', 77), ('rock chapin', 77), ('traditional english folk', 77), ('classic kollywood', 77), ('forest psy', 77), ('final fantasy', 77), ('piano blues', 77), ('jazz violin', 77), ('kuduro antigo', 77), ('thai folk pop', 77), ('hjemmesnekk', 77), ('indie psych-pop', 77), ('neo-kraut', 77), ('funky breaks', 77), ('deep space rock', 77), ('slash punk', 77), ('deep latin jazz', 77), ('argentine telepop', 76), ('latintronica', 76), ('gaian doom', 76), ('irish hip hop', 76), ('portuguese pop', 76), ('montreal indie', 76), ('punk chileno', 76), ('son cubano clasico', 76), ('modern salsa', 76), ('baroque woodwind', 76), ('italian baritone', 76), ('desert blues', 76), ('egyptian pop', 76), ('sevillanas', 76), ('experimental jazz', 76), ('finnish worship', 76), ('glam rock', 76), ('italian metal', 76), ('japanese shoegaze', 76), ('j-pixie', 76), ('american orchestra', 76), ('outsider', 76), ('nz electronic', 76), ('singaporean mandopop', 76), ('norwegian alternative rock', 76), ('olympia wa indie', 76), ('classic russian rock', 76), ('berlin minimal techno', 76), ('atlanta punk', 76), ('baton rouge rap', 76), ('north carolina metal', 76), ('deep metalcore', 76), ('oth indie', 76), ('nigerian hip hop', 75), ('cumbia uruguaya', 75), ('irish neo-traditional', 75), ('belgian jazz', 75), ('monterrey indie', 75), ('turkish alt pop', 75), ('queens hip hop', 75), ('puerto rican folk', 75), ('dembow', 75), ('maghreb', 75), ('lute', 75), ('spanish electropop', 75), ('nordic contemporary classical', 75), ('finnish heavy metal', 75), ('modern indie pop', 75), ('dreamgaze', 75), ('corridos cristianos', 75), ('taiwan campus folk', 75), ('lo star', 75), ('mantra', 75), ('modern jazz trio', 75), ('japanese electronic', 75), ('classic nepali pop', 75), ('uk diy punk', 75), ('german thrash metal', 75), ('wu fam', 75), ('canadian modern jazz', 75), ('british post-rock', 75), ('soda pop', 75), ('uruguayan indie', 75), ('gospel soul', 75), ('hard chime', 75), ('indian singer-songwriter', 74), ('nuevo tango', 74), ('new jersey hardcore', 74), ('garage rock', 74), ('panpipe', 74), ('portuguese jazz', 74), ('rap df', 74), ('brazilian house', 74), ('canadian punk', 74), ('cymraeg', 74), ('albanian hip hop', 74), ('disney horspiele', 74), ('sophisti-pop', 74), ('acousmatic', 74), ('rap marseille', 74), ('italian baroque ensemble', 74), ('milan indie', 74), ('rap napoletano', 74), ('japanese math rock', 74), ('chill beats', 74), ('lo-fi chill', 74), ('tecnobanda', 74), ('dutch punk', 74), ('deep gothic post-punk', 74), ('swedish underground rap', 74), ('swiss jazz', 74), ('tone', 74), ('comedy rock', 74), ('welsh choir', 74), ('ok indie', 74), ('cumbia chilena', 73), ('australian blues', 73), ('belgian indie rock', 73), ('hamburg indie', 73), ('kizomba antigas', 73), ('rock gaucho', 73), ('samba moderno', 73), ('canadian celtic', 73), ('hamburg hip hop', 73), ('speedrun', 73), ('pirate', 73), ('rock urbano mexicano', 73), ('deep delta blues', 73), ('detroit house', 73), ('french metal', 73), ('cumbia salvadorena', 73), ('indonesian death metal', 73), ('modern jazz piano', 73), ('sandalwood', 73), ('korean indie rock', 73), ('norwegian prog', 73), ('historical keyboard', 73), ('rock uruguayo', 73), ('boston metal', 73), ('australian hardcore', 73), ('crack rock steady', 73), ('melodic techno', 72), ('australian electropop', 72), ('macedonian folk', 72), ('instrumental stoner rock', 72), ('modern swing', 72), ('musica pernambucana', 72), ('r&b brasileiro', 72), ('rave funk', 72), ('classic canadian rock', 72), ('ohio hip hop', 72), ('long island punk', 72), ('deep techno', 72), ('venezuelan hip hop', 72), ('indie tico', 72), ('czech punk', 72), ('moroccan pop', 72), ('hungarian classical performance', 72), ('uk tech house', 72), ('pennsylvania hardcore', 72), ('dark rock', 72), ('modern folk rock', 72), ('indie game soundtrack', 72), ('nightrun', 72), ('afrofuturism', 72), ('musica sarda', 72), ('swedish idol pop', 72), ('uk worship', 72), ('nashville singer-songwriter', 72), ('nwobhm', 72), ('thai teen pop', 72), ('turkish singer-songwriter', 72), ('cocuk sarkilari', 72), ('australian alternative pop', 72), ('canto popular uruguayo', 72), ('metal catala', 72), ('mexican electronic', 72), ('gothic doom', 72), ('eastern bloc groove', 71), ('pop rock brasileiro', 71), ('belo horizonte indie', 71), ('alpine yodeling', 71), ('rune folk', 71), ('boston hip hop', 71), ('russian alt pop', 71), ('g-house', 71), ('spanish modern rock', 71), ('new weird america', 71), (\"british children's music\", 71), ('dangdut koplo', 71), ('indonesian metal', 71), ('indonesian pop punk', 71), ('indonesian indie rock', 71), ('texas blues', 71), ('swedish singer-songwriter', 71), ('asian american hip hop', 71), ('experimental electronic', 71), ('vietnamese bolero', 71), ('indie platense', 70), ('belgian metal', 70), ('italian opera', 70), ('viola caipira', 70), ('auteur-compositeur-interprete quebecois', 70), ('tallava', 70), ('chilean metal', 70), ('latin funk', 70), ('opera metal', 70), ('afro-funk', 70), ('russian dance', 70), ('classic indonesian rock', 70), ('baltic classical', 70), ('oud', 70), ('vogue', 70), ('crossover thrash', 70), ('shush', 70), ('barockinterpreten', 70), ('musique guadeloupe', 70), ('naija worship', 70), ('kritika', 70), ('german house', 70), ('mpgjr', 70), ('power thrash', 70), ('math rock', 70), ('athens indie', 70), ('tamil hip hop', 70), ('disney italiano', 70), ('japanese disney', 70), ('slack-key guitar', 70), ('kansai indie', 70), ('j-idol', 70), ('jump blues', 70), ('viola da gamba', 70), ('morna', 70), ('jazzy dnb', 70), ('riddim dubstep', 70), ('ambient techno', 70), ('deep german indie', 70), ('azeri traditional', 70), ('texas latin rap', 70), ('contrabass', 70), ('slc indie', 70), ('carnaval cadiz', 69), ('swedish electropop', 69), ('bristol electronic', 69), ('serbian hip hop', 69), ('classical horn', 69), ('australian psych', 69), ('swedish eurodance', 69), ('metal colombiano', 69), ('musicas espiritas', 69), ('brazilian indie rock', 69), ('lgbtq+ hip hop', 69), ('flamenco guitar', 69), ('musica popular colombiana', 69), ('british modern classical', 69), ('danish metal', 69), ('action rock', 69), ('chaabi marocain', 69), ('nordic classical piano', 69), ('baroque violin', 69), ('glitter trance', 69), ('british orchestra', 69), ('odia pop', 69), ('classic bhangra', 69), (\"canzone d'autore\", 69), ('japanese chill rap', 69), ('belarusian indie', 69), ('cumbia peruana', 69), ('swedish gangsta rap', 69), ('bolero mexicano', 69), ('stomp and flutter', 69), ('dublin indie', 69), ('louisiana blues', 69), ('portland metal', 69), ('uk metalcore', 69), ('kavkaz', 69), ('mandolin', 69), ('neo-traditional bluegrass', 69), ('deep melodic metalcore', 69), ('native american spiritual', 69), ('classical saxophone quartet', 69), ('scottish indie folk', 69), (\"australian children's music\", 68), ('uk alternative pop', 68), ('brazilian post-hardcore', 68), ('chicago punk', 68), ('popping', 68), ('romanian electronic', 68), ('turkish instrumental', 68), ('classical trumpet', 68), ('neo metal', 68), ('musica tropical guatemalteca', 68), ('magyar trap', 68), ('sholawat', 68), ('festigal', 68), ('tamil worship', 68), ('barnalog', 68), ('fluxwork', 68), ('latin ska', 68), ('skinhead oi', 68), ('dunedin indie', 68), ('latvian rock', 68), ('pony', 68), ('vintage radio show', 68), ('ruta destroy', 68), ('vocal ensemble', 68), ('folklore paraguayo', 68), ('paraguayan rock', 68), ('slovak indie', 68), ('illbient', 68), ('progressive metalcore', 68), ('svensk progg', 68), ('chinese r&b', 68), ('manitoba indie', 68), ('streichquartett', 68), ('chinese experimental', 68), ('dutch death metal', 68), ('neo-traditional country', 68), ('raw black metal', 68), ('classical bassoon', 68), ('acid idm', 68), ('alternative hardcore', 68), ('ethereal gothic', 68), (\"children's story\", 67), ('nova musica paulista', 67), ('pet calming', 67), ('vocal trance', 67), ('german drill', 67), ('danish electronic', 67), ('dominican indie', 67), ('basshall', 67), ('experimental club', 67), ('finnish hardcore', 67), ('oxford indie', 67), ('rock drums', 67), ('classic country pop', 67), ('chill guitar', 67), ('dutch blues', 67), ('karadeniz pop', 67), ('yoik', 67), ('denton tx indie', 67), ('experimental rock', 67), ('progressive doom', 67), ('dfw rap', 67), ('indie viet', 67), ('bmore', 67), ('technical deathcore', 67), ('deep hardcore punk', 67), ('vintage reggae', 67), ('cavernous death metal', 67), ('folclore santiagueno', 66), ('austrian pop', 66), ('heartland rock', 66), ('franco-flemish school', 66), ('french techno', 66), ('italian lounge', 66), ('retro soul', 66), ('pop peruano', 66), ('rap cristao', 66), ('rap nacional antigo', 66), ('trance brasileiro', 66), ('recorder', 66), ('cologne electronic', 66), ('japanese beats', 66), ('african reggae', 66), ('classic j-rock', 66), ('classic arab pop', 66), ('egyptian hip hop', 66), ('slowcore', 66), ('brooklyn drill', 66), ('chinese idol pop', 66), ('austrian metal', 66), ('hamilton on indie', 66), ('indonesian city pop', 66), ('melodic deathcore', 66), ('scottish singer-songwriter', 66), ('classic punjabi pop', 66), ('indian edm', 66), ('trot', 66), ('rome indie', 66), ('japanese techno', 66), ('classical countertenor', 66), ('symphonic black metal', 66), ('latvian folk', 66), ('ukrainian hip hop', 66), ('swedish rockabilly', 66), ('trap tuga', 66), ('swedish choir', 66), ('canadian comedy', 66), ('slovak folk', 66), ('thai indie pop', 66), ('instrumental progressive metal', 66), ('bluegrass gospel', 66), ('new england emo', 66), ('kwaito', 66), ('garage rock revival', 65), ('musica triste brasileira', 65), ('vallenato moderno', 65), ('torch song', 65), ('west coast reggae', 65), ('japanese electropop', 65), ('german literature', 65), ('jazz clarinet', 65), ('pasodobles', 65), ('nu-metalcore', 65), ('rock progressif francais', 65), ('free folk', 65), ('duranguense', 65), ('southeast asian post-rock', 65), ('dangdut remix', 65), ('country gospel', 65), ('downtempo bass', 65), ('hindustani instrumental', 65), ('trekkspill', 65), ('gospel italiano', 65), ('beach house', 65), ('maltese pop', 65), ('norwegian punk rock', 65), ('polish alternative rock', 65), ('new york drill', 65), ('pinoy praise', 65), ('dutch musical', 65), ('progressive alternative', 65), ('socal indie', 65), ('ukhc', 65), ('field recording', 65), ('folklore nuevo argentino', 64), ('ska argentino', 64), ('croatian rock', 64), ('oberkrainer', 64), ('cologne indie', 64), ('sound', 64), ('aussie drill', 64), ('samba-jazz', 64), ('rock nacional brasileiro', 64), ('funk das antigas', 64), ('instrumental acoustic guitar', 64), ('neo-crust', 64), ('instrumental grime', 64), (\"children's choir\", 64), ('irish gaelic folk', 64), ('modern big band', 64), ('dmv rap', 64), ('spacewave', 64), ('cosmic american', 64), ('musique ancienne', 64), ('musica infantil catala', 64), ('finnish hard rock', 64), ('bc underground hip hop', 64), ('birmingham indie', 64), ('argentine reggae', 64), ('historic orchestral performance', 64), ('lagu timur', 64), ('chicago pop punk', 64), ('guided meditation', 64), ('sefardi', 64), ('early avant garde', 64), ('one-person band', 64), ('folk rock italiano', 64), ('italian reggae', 64), ('musica calabrese', 64), ('japanese folk', 64), ('digital hardcore', 64), ('voidgrind', 64), ('japanese chillhop', 64), ('indie rock peruano', 64), ('seattle hip hop', 64), ('dutch metal', 64), ('atmospheric doom', 64), ('russian hardcore', 64), ('darksynth', 64), ('florida death metal', 64), ('spanish indie rock', 64), ('bedroom soul', 64), ('korean classical performance', 64), ('bronx hip hop', 64), ('virginia metal', 64), ('nordic post-rock', 64), ('band organ', 64), ('charred death', 64), ('deep active rock', 64), ('comedia', 63), ('italian tech house', 63), ('australian house', 63), ('protopunk', 63), ('atmosphere', 63), ('rap belge', 63), ('bahai', 63), ('idol game', 63), ('canadian hardcore', 63), ('german ska', 63), ('jazz metal', 63), ('bolero cubano', 63), ('tuna estudiantil', 63), ('dunedin sound', 63), ('rap tunisien', 63), ('christian power metal', 63), ('deathrash', 63), ('electro-pop francais', 63), ('french synthpop', 63), ('frenchcore', 63), ('speed metal', 63), ('viral rap', 63), ('malagasy pop', 63), ('indie surf', 63), ('amharic pop', 63), ('serbian electronic', 63), ('beat italiano', 63), ('japanese girl punk', 63), ('precure', 63), ('lithuanian indie', 63), ('jazz mexicano', 63), ('go-go', 63), ('nederlandse hardstyle', 63), ('ontario indie', 63), ('norsk lovsang', 63), ('russian trance', 63), ('hip hop galsen', 63), ('celtic harp', 63), ('russian romance', 63), ('oakland indie', 63), ('thai folk rock', 63), ('martial industrial', 63), ('queercore', 63), ('canadian indigenous', 63), ('maine indie', 63), ('pinoy r&b', 62), ('house argentino', 62), ('rap conciencia', 62), ('samba-rock', 62), ('hard rock brasileiro', 62), ('novo rock gaucho', 62), ('guaracha', 62), ('musica colombiana instrumental', 62), ('punk colombiano', 62), ('detske pisnicky', 62), ('viking folk', 62), ('cartoon', 62), ('rap algerien', 62), ('chicago house', 62), ('stateside dnb', 62), ('german hardcore', 62), ('canadian house', 62), ('finnish choir', 62), ('glam punk', 62), ('japanese classical piano', 62), ('delta blues', 62), ('girl group', 62), ('pop catracho', 62), ('glasgow indie', 62), ('scottish new wave', 62), ('malaysian tamil pop', 62), ('vintage norwegian pop', 62), ('indie rock italiano', 62), ('norwegian americana', 62), ('chunchaca', 62), ('lithuanian electronic', 62), ('deathstep', 62), ('dragspel', 62), ('classic luk thung', 62), ('jazz pop', 62), ('new england americana', 62), ('georgian pop', 62), ('portland punk', 62), ('son jarocho', 62), ('antideutsche', 61), ('south african rock', 61), ('dance rock', 61), ('brisbane indie', 61), ('belgian modern jazz', 61), ('sung poetry', 61), ('experimental dub', 61), ('swedish stoner rock', 61), ('umbanda', 61), ('transpop', 61), ('halifax indie', 61), ('gypsy punk', 61), ('munich electronic', 61), ('rap lyonnais', 61), ('psychokore', 61), ('somali pop', 61), ('traditional southern folk', 61), ('anglican liturgy', 61), ('leeds indie', 61), ('italian library music', 61), ('israeli singer-songwriter', 61), ('sitar', 61), ('adelaide indie', 61), ('neomelodici', 61), ('cowboy western', 61), ('okinawan folk', 61), ('phoenix indie', 61), ('norwegian space disco', 61), ('modern alternative pop', 61), ('swedish tropical house', 61), ('latvian indie', 61), ('acoustic blues', 61), ('musica antigua', 61), ('norwegian hardcore', 61), ('new jersey rap', 61), ('musica angolana', 61), ('vintage taiwan pop', 61), ('hard techno', 61), ('industrial black metal', 61), ('experimental guitar', 61), ('italian black metal', 61), ('avant-garde black metal', 61), ('belgian new wave', 60), ('belgian edm', 60), ('historic classical performance', 60), ('bulgarian metal', 60), ('pagode baiano', 60), ('afrofuturismo brasileiro', 60), ('washboard', 60), ('folklore chileno', 60), ('pop electronico', 60), ('son cubano', 60), ('mluvene slovo', 60), ('modern dream pop', 60), ('italian bass', 60), ('musique mariage algerien', 60), ('jazztronica', 60), ('islamic recitation', 60), ('deathgrass', 60), ('nordic folk metal', 60), ('hong kong hip hop', 60), ('indonesian rock', 60), ('uilleann pipes', 60), ('irish flute', 60), ('chicago drill', 60), ('japanese pop punk', 60), ('japanese classical', 60), ('experimental bass', 60), ('tamborazo', 60), ('guadalajara indie', 60), ('waiata maori', 60), ('sydney indie', 60), ('dweilorkest', 60), ('british industrial', 60), ('russian folk metal', 60), ('garage punk blues', 60), ('atmospheric post-metal', 60), ('western mass indie', 60), ('tennessee metal', 60), ('musica popular uruguaya', 60), ('maskandi', 60), ('smooth soul', 60), ('cambridgeshire indie', 60), ('downtempo fusion', 60), ('dutch black metal', 60), ('central asian folk', 60), ('rap underground argentino', 59), ('indie cordoba', 59), ('tekk', 59), ('baltimore indie', 59), ('jovem guarda', 59), ('hungarian classical piano', 59), ('reggaeton chileno', 59), ('musica andina colombiana', 59), ('german soundtrack', 59), ('orquestas de galicia', 59), ('cantautor catala', 59), ('murcia indie', 59), ('indie valenciana', 59), ('swedish experimental', 59), ('indie salvadoreno', 59), ('cosmic black metal', 59), ('hungarian underground rap', 59), ('hi-tech', 59), ('irish indie rock', 59), ('japanese power metal', 59), ('synth punk', 59), ('japanese experimental', 59), ('pakistani indie', 59), ('russian viral rap', 59), ('industrial hardcore', 59), ('palm desert scene', 59), ('hurdy-gurdy', 59), ('portland hip hop', 59), ('post-minimalism', 59), ('kora', 59), ('turkish modern jazz', 59), ('italian gothic metal', 59), ('latin american heavy psych', 58), ('german dance', 58), ('kleinkunst', 58), ('acid trance', 58), ('manguebeat', 58), ('chant religieux', 58), ('chilean hardcore', 58), ('reggaeton colombiano', 58), ('mambo', 58), ('alternative americana', 58), ('song poem', 58), ('danish pop rock', 58), ('traditional country', 58), ('ska jazz', 58), ('street punk espanol', 58), ('euskal indie', 58), ('afroswing', 58), ('chinese singer-songwriter', 58), ('trap triste', 58), ('indonesian reggae', 58), ('qawwali', 58), ('japanese psychedelic', 58), ('sound team', 58), ('ensemble stars', 58), ('korean trap', 58), ('tibetan pop', 58), ('darbuka', 58), ('mexican pop punk', 58), ('kaseko', 58), ('lustrum', 58), ('spiritual hip hop', 58), ('polish rock', 58), ('zespol dzieciecy', 58), ('polish death metal', 58), ('supergroup', 58), ('swedish heavy metal', 58), ('ilahiler', 58), ('modular synth', 58), ('jaw harp', 58), ('anadolu rock', 58), ('texas punk', 58), ('warm drone', 58), ('grand rapids indie', 58), ('australian black metal', 58), ('necrogrind', 58), ('nuevo folklore argentino', 57), ('volkspop', 57), ('new beat', 57), ('southern metal', 57), ('moog', 57), ('rumba catalana', 57), ('rock alternativo brasileiro', 57), ('brazilian black metal', 57), ('rock mineiro', 57), ('canadian blues', 57), ('folclor afrocolombiano', 57), ('salsa cubana', 57), ('greek rock', 57), ('german tech house', 57), ('dakke dak', 57), ('new mexico music', 57), ('vintage spanish pop', 57), ('r&b en espanol', 57), ('progressive thrash', 57), ('thai psychedelic', 57), ('rock independant francais', 57), ('novelty', 57), ('barnsagor', 57), ('hungarian punk', 57), ('scottish indie rock', 57), ('israeli jazz', 57), ('bard', 57), ('indian underground rap', 57), ('classic japanese jazz', 57), ('hi-nrg', 57), ('kids dance party', 57), ('norwegian singer-songwriter', 57), ('oyun havasi', 57), ('dutch contemporary classical', 57), ('panamanian rock', 57), ('slavic folk metal', 57), ('polish classical piano', 57), ('electroacoustic composition', 57), ('australian post-hardcore', 57), ('native american flute', 57), ('sacramento hip hop', 57), ('taiwanese indigenous', 57), ('taiwan rock', 57), ('milwaukee hip hop', 57), ('gothic post-punk', 57), ('blackened crust', 57), ('mento', 57), ('serbian alternative rock', 57), ('plunderphonics', 57), ('deep orgcore', 57), ('reggae cover', 56), ('clean comedy', 56), ('christian afrobeat', 56), ('groove metal', 56), ('folktronica', 56), ('bulgarian electronic', 56), ('salsa peruana', 56), ('latin soundtrack', 56), ('rap feminino nacional', 56), ('swiss pop', 56), ('pop chileno', 56), ('german trance', 56), ('danish indie pop', 56), ('synth funk', 56), ('oriental metal', 56), ('folklore ecuatoriano', 56), ('australian experimental', 56), ('operetta', 56), ('indie veneto', 56), ('indie cantabria', 56), ('finnish alternative rock', 56), ('ghanaian pop', 56), ('progressive sludge', 56), ('tahitian', 56), ('classic hungarian rock', 56), ('lagu jawa', 56), ('sunshine pop', 56), ('japanese alternative pop', 56), ('mexican edm', 56), ('streektaal', 56), ('canadian classical', 56), ('popwave', 56), ('detskie rasskazy', 56), ('russian techno', 56), ('russian dnb', 56), ('san diego indie', 56), ('turkish punk', 56), ('charlotte nc indie', 56), ('progressive death metal', 56), ('japanese death metal', 56), ('progressive technical death metal', 56), ('paracana', 56), ('slovenian folk', 55), ('vbs', 55), ('dutch tech house', 55), ('musica gaucha', 55), ('swiss punk', 55), ('british singer-songwriter', 55), ('salsa colombiana', 55), ('czech metal', 55), ('persian rock', 55), ('french renaissance', 55), ('ecuadorian alternative rock', 55), ('sudanese pop', 55), ('musica mallorquina', 55), ('spanish folk rock', 55), ('folk black metal', 55), ('rock alternatif francais', 55), ('bouzouki', 55), ('dutch experimental', 55), ('indonesian hardcore', 55), ('irish indie', 55), ('contemporary post-bop', 55), ('japanese soul', 55), ('minimal synth', 55), ('experimental r&b', 55), ('san diego rap', 55), ('tolkien metal', 55), ('modern psychedelic folk', 55), ('jazz cubano', 55), ('synthesizer', 55), ('cantaditas', 55), ('polish post-punk', 55), ('socal pop punk', 55), ('baglama', 55), ('dub metal', 55), ('swedish americana', 55), ('israeli metal', 55), ('swedish power metal', 55), ('detroit rock', 55), ('omaha indie', 55), ('gothic alternative', 55), ('kuduro', 54), ('frauenrap', 54), ('australian singer-songwriter', 54), ('dutch singer-songwriter', 54), ('rap metal', 54), ('african electronic', 54), ('russian gangster rap', 54), ('crunk', 54), ('musica catarinense', 54), ('bristol indie', 54), ('brain waves', 54), ('cypriot pop', 54), ('electronic rock', 54), ('german indie rock', 54), ('american early music', 54), ('experimental house', 54), ('japanese dance pop', 54), ('vancouver metal', 54), ('south african deep house', 54), ('german power metal', 54), ('amapiano', 54), ('malaysian mandopop', 54), ('kawaii future bass', 54), ('virginia punk', 54), ('italian soundtrack', 54), ('apostolic worship', 54), ('ryukyu ongaku', 54), ('kamen rider', 54), ('japanese metalcore', 54), ('no wave', 54), ('sacramento indie', 54), ('classic latvian pop', 54), ('russian emo rap', 54), ('polish folk', 54), ('noise pop', 54), ('detskie pesni', 54), ('ambient industrial', 54), ('irish metal', 54), ('spanish death metal', 54), ('deep funk', 54), ('norwegian death metal', 54), ('jazz blues', 54), ('indian metal', 54), ('jug band', 54), ('connecticut indie', 54), ('anthem', 54), ('cumbia santafesina', 53), ('pittsburgh indie', 53), ('australian metalcore', 53), ('funk rock', 53), ('japanese post-rock', 53), ('quebec indie', 53), ('metal mineiro', 53), ('afrobeat brasileiro', 53), ('trap carioca', 53), ('champeta', 53), ('classic greek rock', 53), ('quebec death metal', 53), ('hamburger schule', 53), ('cancion melodica', 53), ('finnish edm', 53), ('finnish rockabilly', 53), ('finlandssvenska musik', 53), ('french contemporary classical', 53), ('sega mauricien', 53), ('serialism', 53), ('eau claire indie', 53), ('polish ambient', 53), ('tabla', 53), ('canti alpini', 53), ('south african trap', 53), ('j-acoustic', 53), ('love live', 53), ('japanese teen pop', 53), ('raw techno', 53), ('afro psych', 53), ('nz reggae', 53), ('death doom', 53), ('vegas indie', 53), ('neoclassicism', 53), ('ghanaian hip hop', 53), ('russian chanson', 53), ('visor', 53), ('classical trombone', 53), ('oakland hip hop', 53), ('zhongguo feng', 53), ('christian metalcore', 53), ('greek black metal', 53), ('psytech', 53), ('modern old-time', 53), ('ethiopian traditional', 53), ('deep flow', 53), ('jamtronica', 53), ('deep melodic hard rock', 53), ('brazilian experimental', 53), ('nyc metal', 53), ('oktoberfest', 52), ('atmospheric sludge', 52), ('comic metal', 52), ('pop venezolano', 52), ('samba paulista', 52), ('musica popular mineira', 52), ('technical thrash', 52), ('german pop rock', 52), ('space ambient', 52), ('arabic jazz', 52), ('syrian pop', 52), ('chanson paillarde', 52), ('jazz rock', 52), ('zeuhl', 52), ('french dub', 52), ('uk post-hardcore', 52), ('chinese worship', 52), ('german dark minimal techno', 52), ('israeli mediterranean', 52), ('carnatic instrumental', 52), ('marathi traditional', 52), ('gujarati garba', 52), ('punk rock italiano', 52), ('boston punk', 52), ('german electronica', 52), ('american primitive', 52), ('north carolina hip hop', 52), ('brass quintet', 52), ('vintage hollywood', 52), ('chinese new year', 52), ('eventyr', 52), ('new orleans blues', 52), ('nz singer-songwriter', 52), ('jangle pop', 52), ('baptist gospel', 52), ('dc indie', 52), ('tibetan mantra', 52), ('deathgrind', 52), ('swedish electronic', 52), ('russian metalcore', 52), ('malmo indie', 52), ('cinematic post-rock', 52), ('indy indie', 52), ('piedmont blues', 52), ('art punk', 52), ('kentucky mountain folk', 52), ('new england metal', 52), ('djembe', 52), ('spanish black metal', 52), ('italian modern prog', 52), ('dutch underground hip hop', 52), ('belfast indie', 52), ('folclore salteno', 51), ('latin afrobeat', 51), ('art song', 51), ('classic australian country', 51), ('russian folk rock', 51), ('funk melody', 51), ('metal gaucho', 51), ('grime brasileiro', 51), ('pop rap brasileiro', 51), ('rave', 51), (\"canadian children's music\", 51), ('flute rock', 51), ('kosovan pop', 51), ('electronica chilena', 51), ('folclor colombiano', 51), ('german renaissance', 51), ('metal tico', 51), ('university choir', 51), ('danish electropop', 51), ('gnawa', 51), ('pop violin', 51), ('estonian rock', 51), ('estonian folk', 51), ('russian viral pop', 51), ('nova canco', 51), ('basque folk', 51), ('spanish synthpop', 51), ('galician rock', 51), ('ska espanol', 51), ('rap metal espanol', 51), ('us power metal', 51), ('western americana', 51), ('marimba orquesta', 51), ('er ge', 51), ('disney norsk', 51), ('uk americana', 51), ('arab electronic', 51), ('kollywood', 51), ('haryanvi pop', 51), ('swing italiano', 51), ('japanese old school hip hop', 51), ('japanese ska', 51), ('kawaii edm', 51), ('kawaii metal', 51), ('lithuanian hip hop', 51), (\"jackin' house\", 51), ('rap angolano', 51), ('pop soul', 51), ('chutney', 51), ('latinx alternative', 51), ('spirituals', 51), ('fan chant', 51), ('slam poetry', 51), ('russian emo', 51), ('midwest americana', 51), ('korean city pop', 51), ('hokkien pop', 51), ('cape town indie', 51), ('south carolina indie', 51), ('sungura', 51), ('modern jangle pop', 51), ('uk post-punk revival', 51), ('techno argentina', 51), ('israeli techno', 50), ('australian americana', 50), ('political hip hop', 50), ('mizrahi', 50), ('rock curitibano', 50), ('brazilian lo-fi rock', 50), ('funk bh', 50), ('musica paranaense', 50), ('cha-cha-cha', 50), ('danish modern jazz', 50), ('merengue tipico', 50), ('puerto rican pop', 50), ('folklore peruano', 50), ('punk catala', 50), ('guitarra clasica', 50), ('afro-cuban traditional', 50), ('detroit techno', 50), ('portuguese folk', 50), ('east coast reggae', 50), ('zambian pop', 50), ('greek indie rock', 50), ('japanese indie folk', 50), ('asbury park indie', 50), ('russian orchestra', 50), ('campursari', 50), ('indonesian folk pop', 50), ('ethio-jazz', 50), ('hangpan', 50), ('horror synth', 50), ('classic korean pop', 50), ('north carolina roots', 50), ('jazz house', 50), ('lithuanian edm', 50), ('classic moroccan pop', 50), ('musica istmena', 50), ('norwegian experimental', 50), ('ukrainian metal', 50), ('cedm', 50), ('peruvian hip hop', 50), ('polish blues', 50), ('polish metal', 50), ('prog metal', 50), ('reggaeton mexicano', 50), ('italian classical guitar', 50), ('russian alternative rock', 50), ('swedish progressive metal', 50), ('tatar pop', 50), ('nordic ambient', 50), ('nubian traditional', 50), ('elephant 6', 50), ('komedi', 50), ('disney svenska', 50), ('musica capixaba', 50), ('celtic metal', 50), ('livetronica', 50), ('mongolian pop', 50), ('melodic power metal', 50), ('early american folk', 50), ('nashville sound', 50), ('wind quintet', 50), ('experimental indie', 50), ('avant-rock', 50), ('experimental indie rock', 50), ('medway sound', 50), ('pinoy trap', 49), ('pop argentino', 49), ('rap underground colombiano', 49), ('austrian jazz', 49), ('audiophile vocal', 49), ('italian romanticism', 49), ('trap peruano', 49), ('electronica argentina', 49), ('victoria bc indie', 49), ('shoegaze brasileiro', 49), ('pop folk', 49), ('albuquerque indie', 49), ('musica jibara', 49), ('swedish metalcore', 49), ('turkish edm', 49), ('disney dansk', 49), ('danish experimental', 49), ('russian punk rock', 49), ('griot', 49), ('baltic folk', 49), ('bakersfield sound', 49), ('mahraganat', 49), ('canadian soundtrack', 49), ('finnish blues', 49), ('finnish power metal', 49), ('philly soul', 49), ('madchester', 49), ('scottish gaelic folk', 49), ('seattle metal', 49), ('marimba de guatemala', 49), ('hong kong tv drama', 49), ('punta', 49), ('magyar mulatos', 49), ('arkansas country', 49), ('malayalam pop', 49), ('hindi hip hop', 49), ('canadian electropop', 49), ('italian contemporary jazz', 49), ('eurobeat', 49), ('denpa-kei', 49), ('king of prism', 49), ('vgm instrumental', 49), ('korean underground rap', 49), ('musica cabo-verdiana', 49), ('halloween', 49), ('impressionism', 49), ('cowpunk', 49), ('venezuelan indie', 49), ('pinoy reggae', 49), ('tagalog worship', 49), ('milwaukee indie', 49), ('buffalo ny indie', 49), ('tucson indie', 49), ('swedish country', 49), ('rva indie', 49), ('taiwan instrumental', 49), ('ukrainian classical piano', 49), ('tech trance', 49), ('ambient pop', 49), ('braindance', 49), ('war metal', 49), ('uk stoner rock', 49), ('russian death metal', 49), ('christian deathcore', 49), ('suomisaundi', 49), ('cuarteto', 48), ('argentine heavy metal', 48), ('german indie folk', 48), ('australian indie folk', 48), ('west australian hip hop', 48), ('australian r&b', 48), ('madrigal', 48), ('bulgarian indie', 48), ('cancion infantil mexicana', 48), ('brega romantico', 48), ('forro de favela', 48), ('violao classico', 48), ('pop teen brasileiro', 48), ('funk consciente', 48), ('nova musica maranhense', 48), ('trad quebecois', 48), (\"women's music\", 48), ('ska chileno', 48), ('latin american classical piano', 48), ('charanga', 48), ('trap dominicano', 48), ('latin house', 48), ('egyptian alternative', 48), ('rock andaluz', 48), ('ska catala', 48), ('finnish reggae', 48), ('comptine', 48), ('rap antillais', 48), ('dub punk', 48), ('taiwan idol pop', 48), ('chinese minyao', 48), ('hungarian edm', 48), ('balinese traditional', 48), ('indonesian punk', 48), ('nasyid', 48), ('british country', 48), ('oriental classical', 48), ('indian electronic', 48), ('manipuri pop', 48), ('baps', 48), ('tarantella', 48), ('super sentai', 48), ('neru', 48), ('canadian americana', 48), ('german hard rock', 48), ('rap criolo', 48), ('musica occitana', 48), ('musica portuguesa contemporanea', 48), ('trova mexicana', 48), ('canterbury scene', 48), ('uwielbienie', 48), ('ritmo kombina', 48), ('norwegian doom metal', 48), ('wellington indie', 48), ('alabama rap', 48), ('christian a cappella', 48), ('minecraft', 48), ('smutny rap', 48), ('medieval ensemble', 48), ('punk tuga', 48), ('rominimal', 48), ('berlin school', 48), ('muzica copii', 48), ('russian indie rock', 48), ('uk rockabilly', 48), ('slovak rock', 48), ('bozlak', 48), ('italian progressive metal', 48), ('british death metal', 48), ('ambient black metal', 48), ('vietnamese traditional', 48), ('post-punk mexicano', 48), ('lowlands hardcore', 48), ('psychedelic space rock', 48), ('new brunswick indie', 48), ('rock in opposition', 48), ('brazilian heavy metal', 48), ('italian emo', 48), ('punjabi hip hop', 47), ('hindi indie', 47), ('guitarra argentina', 47), ('beatboxing', 47), ('rap romantico', 47), ('brazilian soul', 47), ('sertanejo gospel', 47), ('harlem hip hop', 47), ('prog quebec', 47), ('cueca chilena', 47), ('boogaloo', 47), ('cabaret', 47), ('harlem renaissance', 47), ('neue deutsche todeskunst', 47), ('leipzig indie', 47), ('jazz flute', 47), ('palestinian pop', 47), ('kashmiri pop', 47), ('japanese new wave', 47), ('flamenco fusion', 47), ('german country', 47), ('jazz catala', 47), ('latin viral rap', 47), ('finnish tango', 47), ('dream trance', 47), ('bal-musette', 47), ('french post-punk', 47), ('psychedelic soul', 47), ('manchester hip hop', 47), ('chinese electropop', 47), ('keroncong', 47), ('connecticut hardcore', 47), ('classic k-pop', 47), ('japanese indie pop', 47), ('classic tollywood', 47), ('russian edm', 47), ('pop virale italiano', 47), ('early us punk', 47), ('japanese heavy metal', 47), ('japanese pop rap', 47), ('dansei seiyu', 47), ('scream rap', 47), ('memphis blues', 47), ('australian death metal', 47), ('rap uruguayo', 47), ('korean singer-songwriter', 47), ('lo-fi vgm', 47), ('spanish techno', 47), ('acid rock', 47), ('cook islands pop', 47), ('nz metal', 47), ('halftime dnb', 47), ('british math rock', 47), ('german rockabilly', 47), ('indiana hip hop', 47), ('nordic soundtrack', 47), ('thai pop rap', 47), ('ukrainian black metal', 47), ('minneapolis sound', 47), ('rochester ny indie', 47), ('london indie', 47), ('scottish techno', 47), ('belarusian metal', 47), ('danish folk', 47), ('indie pop rock', 47), ('proto-rap', 47), ('alte', 46), ('blues latinoamericano', 46), ('indie folk argentino', 46), ('german viral rap', 46), ('tassie indie', 46), ('xtra raw', 46), ('vlaamse kinderliedje', 46), ('macedonian pop', 46), ('andean flute', 46), ('brazilian boogie', 46), ('rock goiano', 46), ('anime latino', 46), ('mezmur', 46), ('dusseldorf electronic', 46), ('cuban alternative', 46), ('orquesta cubana', 46), ('tango cancion', 46), ('quran', 46), ('hardcore punk espanol', 46), ('spanish progressive rock', 46), ('nightcore', 46), ('danish punk', 46), ('french orchestra', 46), ('chanson virale', 46), ('second line', 46), ('neotango', 46), ('dutch americana', 46), ('gypsy fusion', 46), ('irish dance', 46), ('desi trap', 46), ('okinawan pop', 46), ('old west', 46), ('norges stemme', 46), ('ambient house', 46), ('latin surf rock', 46), ('dutch disney', 46), ('classic girl group', 46), ('iowa indie', 46), ('pinoy alternative rap', 46), ('batida', 46), ('brasilia indie', 46), ('technical black metal', 46), ('russian synthpop', 46), ('future house', 46), ('country boogie', 46), ('skansk musik', 46), ('clawhammer banjo', 46), ('tuvan folk', 46), ('thai trap', 46), ('deep big room', 46), ('mongolian folk', 46), ('classical piano duo', 46), ('japanese idm', 46), ('straight-ahead jazz', 46), ('future rock', 46), ('gothic black metal', 46), ('ambient folk', 46), ('epic doom', 46), ('new orleans rap', 46), ('slamming deathcore', 46), ('canadian experimental', 46), ('afghan traditional', 46), ('experimental poetry', 46), ('classical accordion', 46), ('belgian death metal', 46), ('japanese hardcore', 46), ('chant basque', 46), ('classical contralto', 45), ('indian fusion', 45), ('new jersey punk', 45), ('italian trance', 45), ('german r&b', 45), ('italian metalcore', 45), ('funk 150 bpm', 45), ('jazz accordion', 45), ('rock brasiliense', 45), ('alberta country', 45), ('quebec punk', 45), ('mariachi cristiano', 45), ('colombian hardcore', 45), ('experimental black metal', 45), ('czsk reggae', 45), ('technical melodic death metal', 45), ('deutsch disney', 45), ('haitian traditional', 45), ('reggae maghreb', 45), ('gqom', 45), ('musica canaria', 45), ('arab groove', 45), ('spanish jazz', 45), ('folclore castilla y leon', 45), ('spanish indie folk', 45), ('disney espanol', 45), ('finnish trap', 45), ('french psychedelic', 45), ('pontian folk', 45), ('d-beat', 45), ('eritrean pop', 45), ('psychedelic hip hop', 45), ('italian violin', 45), ('italian post punk', 45), ('instrumental soul', 45), ('japanese post-hardcore', 45), ('japanese soundtrack', 45), ('bitpop', 45), (\"min'yo\", 45), ('new orleans funk', 45), ('korean electropop', 45), ('dutch classical piano', 45), ('brazilian power metal', 45), ('belgian punk', 45), ('swedish rock-and-roll', 45), ('beninese pop', 45), ('swedish trap', 45), ('musica nicaraguense', 45), ('dutch prog', 45), ('samoan pop', 45), ('auckland indie', 45), ('afrobeat fusion', 45), ('musica afroperuana', 45), ('acoustic guitar cover', 45), ('goralski', 45), ('polish indie rock', 45), ('guitarra portuguesa', 45), ('persian neo-traditional', 45), ('vgm remix', 45), ('luk thung', 45), ('opera chorus', 45), ('christian hard rock', 45), ('swiss techno', 45), ('folklore uruguayo', 45), ('south african modern jazz', 45), ('surf punk', 45), ('blackened deathcore', 45), ('german blues', 45), ('thall', 45), ('sludgecore', 45), ('modern mod', 45), ('italian stoner rock', 45), ('canadian metalcore', 45), ('experimental percussion', 45), ('rock caipira', 45), ('deep deep tech house', 45), ('novos talentos brasileiros', 45), ('backing track', 45), ('argentine jazz', 44), ('manso indie', 44), ('cologne hip hop', 44), ('aussie emo', 44), ('detski pesnichki', 44), ('brazilian classical', 44), ('disney portugues brasil', 44), ('newfoundland indie', 44), ('canadian indie folk', 44), ('melodic thrash', 44), ('rap boricua', 44), ('austro-german modernism', 44), ('greenlandic pop', 44), ('danish singer-songwriter', 44), ('rock dominicano', 44), ('algerian folk', 44), ('andalusian classical', 44), ('wassoulou', 44), ('salsa cristiana', 44), ('rap catala', 44), ('soviet synthpop', 44), ('musica folk asturiana', 44), ('rautalanka', 44), ('finnish electro', 44), ('varmland rock', 44), (\"black 'n' roll\", 44), ('finnish progressive metal', 44), ('italian death metal', 44), ('dessin anime', 44), ('rennes indie', 44), ('philly drill', 44), ('alaska indie', 44), ('chinese audiophile', 44), ('hungarian indie', 44), ('gochiusa', 44), ('scottish fiddle', 44), ('psydub', 44), ('shakuhachi', 44), ('nepali indie', 44), ('icelandic metal', 44), ('japanese rockabilly', 44), ('turkish electronic', 44), ('russian rave', 44), ('cumbia lagunera', 44), ('language', 44), ('christchurch indie', 44), ('kundiman', 44), ('rap portuense', 44), ('rap tuga underground', 44), ('rosario indie', 44), ('muzica crestina', 44), ('russian ccm', 44), ('swedish soul', 44), ('swedish post-punk', 44), ('turkish classical performance', 44), ('mevlevi sufi', 44), ('chopped and screwed', 44), ('emocore', 44), ('argentine indie rock', 44), ('st louis rap', 44), ('south african country', 44), ('french post-rock', 44), ('polish psychedelia', 44), ('lovecraftian metal', 44), ('neue volksmusik', 43), ('mpb gospel', 43), ('nova musica carioca', 43), ('musique acadienne', 43), ('pei indie', 43), ('folklore venezolano', 43), ('dansk lovsang', 43), ('american grindcore', 43), ('rock keyboard', 43), ('greek drill', 43), ('german alternative rock', 43), ('classic danish rock', 43), ('icelandic folk', 43), ('dark folk', 43), ('jordanian pop', 43), ('trikiti', 43), ('musica aragonesa', 43), ('reggae catala', 43), ('italian ska', 43), ('boogie', 43), ('48g', 43), ('hangoskonyvek', 43), ('gyerekdalok', 43), ('indonesian emo', 43), ('honky tonk', 43), ('irish accordion', 43), ('irish electronic', 43), ('nottingham indie', 43), ('kc indie', 43), ('viking black metal', 43), ('bernu dziesmas', 43), ('turkish soundtrack', 43), ('dutch trap', 43), ('scottish electronic', 43), ('dutch dnb', 43), ('kaneka', 43), ('yaoi', 43), ('polish synthpop', 43), ('polish prog', 43), ('cape verdean folk', 43), ('gengetone', 43), ('xinyao', 43), ('navajo', 43), ('chinese electronic', 43), ('candombe', 43), ('trap pesado', 43), ('dc hardcore', 43), ('north carolina indie', 43), ('fussball', 43), ('post-punk brasileiro', 43), ('brazilian metalcore', 43), ('french experimental rock', 43), ('ghanaian gospel', 43), ('australian trap', 42), ('haitian gospel', 42), ('argentine hardcore', 42), ('rkt', 42), ('austrian classical piano', 42), ('balkan trap', 42), ('double drumming', 42), ('vlaamse cabaret', 42), ('polca paraguaya', 42), ('piano mpb', 42), ('musica evangelica instrumental', 42), ('groove gospel', 42), ('brazilian bass', 42), ('canadian pop punk', 42), ('trinibad', 42), ('queer country', 42), ('rap kreyol', 42), ('trap venezolano', 42), ('russian modern classical', 42), ('neo kyma', 42), ('moldovan pop', 42), ('danish death metal', 42), ('scandinavian r&b', 42), ('scottish jazz', 42), ('middle east hip hop', 42), ('punk euskera', 42), ('japanese garage rock', 42), ('oulu metal', 42), ('maloya', 42), ('musica baiana', 42), ('uk dancehall', 42), ('acoustic rock', 42), ('sambass', 42), ('scottish americana', 42), ('traditional irish singing', 42), ('puglia indie', 42), ('israeli trap', 42), ('telugu devotional', 42), ('tamil devotional', 42), ('russian romanticism', 42), ('italian post-hardcore', 42), ('japanese prog', 42), ('ryukoka', 42), ('japanese dream pop', 42), ('croatian hip hop', 42), ('french garage rock', 42), ('swedish folk pop', 42), ('marimba mexicana', 42), ('korean indie folk', 42), ('chill pop', 42), ('italian power metal', 42), ('spanish classical piano', 42), ('glitch pop', 42), ('nueva ola peruana', 42), ('kent indie', 42), ('polish contemporary classical', 42), ('portuguese indie rock', 42), ('russian experimental electronic', 42), ('memphis indie', 42), ('swedish psychedelic rock', 42), ('deep swedish rock', 42), ('parody', 42), ('cambodian pop', 42), ('japanese guitar', 42), ('swancore', 42), ('croatian electronic', 42), ('belarusian rock', 42), ('german pagan metal', 42), ('australian reggae fusion', 42), ('brazilian classical piano', 42), ('japanese house', 42), ('boeremusiek', 42), ('new orleans indie', 42), ('pittsburgh rock', 42), ('metal noir quebecois', 42), ('landler', 42), ('aggro chileno', 42), ('quatuor a cordes', 42), ('modern electroacoustic', 42), ('spanish blues', 42), ('cleveland indie', 42), ('musica brasiliense', 42), ('plena uruguaya', 41), ('virgin islands reggae', 41), ('folklore quebecois', 41), ('variete francaise', 41), ('punk melodico chileno', 41), ('greek swing', 41), ('paidika tragoudia', 41), ('modern cello', 41), ('american romanticism', 41), ('danish contemporary classical', 41), ('histoire pour enfants', 41), ('salsa venezolana', 41), ('indie triste', 41), ('canadian post-rock', 41), ('spanish prog', 41), ('rockabilly en espanol', 41), ('rock alternativo espanol', 41), ('finnish new wave', 41), ('new wave of glam metal', 41), ('drill francais', 41), ('speed garage', 41), ('ukg revival', 41), ('vintage cantonese pop', 41), ('cantonese worship', 41), ('indonesian shoegaze', 41), ('emo rap italiano', 41), ('japanoise', 41), ('hypnosis mic', 41), ('psychedelic folk rock', 41), ('lithuanian rock', 41), ('dainuojamoji poezija', 41), ('mexican classical', 41), ('mexican hardcore', 41), ('zither', 41), ('old school nederhop', 41), ('norwegian psychedelic', 41), ('norwegian trap', 41), ('cuban rumba', 41), ('indie curitibano', 41), ('romanian indie', 41), ('breaks', 41), ('harmonica jazz', 41), ('chamber folk', 41), ('classic azeri pop', 41), ('russian post-rock', 41), ('chinese instrumental', 41), ('baroque cello', 41), ('yiddish folk', 41), ('cosmic post-rock', 41), ('swedish post-hardcore', 41), ('jamgrass', 41), ('uzbek traditional', 41), ('rock viet', 41), ('austin americana', 41), ('lo-fi brasileiro', 41), ('workout product', 41), ('austrian punk', 41), ('street band', 41), ('acidcore', 41), ('brazilian post-rock', 41), ('uk noise rock', 41), ('edinburgh indie', 41), ('polish techno', 41), ('marimba', 41), ('houston indie', 41), ('guqin', 41), ('indian folk', 40), ('nueva trova chilena', 40), ('flemish folk', 40), ('louisiana metal', 40), ('psicodelia brasileira', 40), ('samba gospel', 40), ('brazilian percussion', 40), ('dub brasileiro', 40), ('trap cristao', 40), ('byzantine', 40), ('moravian folk', 40), ('swedish classical', 40), ('middle earth', 40), ('danish rock', 40), ('south carolina hip hop', 40), ('estonian metal', 40), ('german dnb', 40), ('chicago soul', 40), ('folclore navarra', 40), ('rock en asturiano', 40), ('finnish progressive rock', 40), ('finnish idol pop', 40), ('early synthpop', 40), ('atmospheric dnb', 40), ('greek folk', 40), ('paisley underground', 40), ('orebro indie', 40), ('musica cristiana guatemalteca', 40), ('guatemalan pop', 40), ('contemporary choir', 40), ('metal gotico', 40), ('german opera', 40), ('russian ska', 40), ('scottish metal', 40), ('indonesian indie pop', 40), ('irish pub song', 40), ('psybass', 40), ('rabindra sangeet', 40), ('indian instrumental', 40), ('techno kayo', 40), ('japanese concert band', 40), ('actors', 40), ('hmong pop', 40), ('slovak electronic', 40), ('russian drill', 40), ('rumba congolaise', 40), ('gabonese pop', 40), ('arab trap', 40), ('folklore veracruzano', 40), ('cumbia colombiana regia', 40), ('nuevo folklore mexicano', 40), ('dutch punk rock', 40), ('comptine africaine', 40), ('emoviolence', 40), ('ambient worship', 40), ('cancoes infantis', 40), ('tuna', 40), ('murga', 40), ('italian mezzo-soprano', 40), ('fuji', 40), ('rwandan pop', 40), ('tanzanian pop', 40), ('canadian ccm', 40), ('chinese manyao', 40), ('thai folk', 40), ('korean classical piano', 40), ('new wave of speed metal', 40), ('canadian classical piano', 40), ('samurai trap', 40), ('ukrainian folk', 40), ('italian gothic', 40), ('polish experimental electronic', 40), ('vietnamese singer-songwriter', 40), ('south african pop dance', 40), ('prank', 40), ('austin singer-songwriter', 40), ('musica cearense', 40), ('wrock', 40), ('uk beatdown', 40), ('spanish post-rock', 40), ('knoxville indie', 40), ('arkansas indie', 40), ('german post-punk', 40), ('springfield mo indie', 40), ('fort worth indie', 40), ('singaporean punk', 40), ('nova musica amazonense', 40), ('starmyu', 40), ('kannada pop', 39), ('austrian indie', 39), ('noel quebecois', 39), ('jazz chileno', 39), ('mambo chileno', 39), ('salsa choke', 39), ('german heavy metal', 39), ('swiss worship', 39), ('bayerischer rap', 39), ('bornehistorier', 39), ('dresden indie', 39), ('musica tradicional dominicana', 39), ('gaita zuliana', 39), ('metal paranaense', 39), ('indie canario', 39), ('new weird finland', 39), ('classical mandolin', 39), ('hong kong rock', 39), ('trival', 39), ('r&b argentino', 39), ('lagu bali', 39), ('indonesian edm', 39), ('korean superband', 39), ('cork indie', 39), ('telugu worship', 39), ('indian jazz', 39), ('nagpuri pop', 39), ('fijian pop', 39), ('telugu indie', 39), ('japanese choir', 39), ('barnasogur', 39), ('experimental vocal', 39), ('italian new wave', 39), ('folk siciliana', 39), ('turin indie', 39), ('japanese piano', 39), ('slovak metal', 39), ('latvian metal', 39), ('alabama indie', 39), ('psicodelia mexicana', 39), ('musica piemonteisa', 39), ('caracas indie', 39), ('dutch experimental electronic', 39), ('tipico', 39), ('ottawa indie', 39), ('arpa paraguaya', 39), ('cumbia paraguaya', 39), ('experimental synth', 39), ('t-pop girl group', 39), ('turkce remix', 39), ('slovenian indie', 39), ('black punk', 39), ('idaho indie', 39), ('cincinnati indie', 39), ('german stoner rock', 39), ('bluegrass fiddle', 39), ('mbira', 39), ('protest folk', 39), ('experimental folk', 39), ('detroit indie', 39), ('multidisciplinary', 39), ('heavy psych', 39), ('portuguese death metal', 39), ('rock paraense', 39), ('mississippi indie', 39), ('belgian experimental', 39), ('aberdeen indie', 39), ('korean metal', 39), ('albanian folk', 39), ('goa psytrance', 39), ('math rock latinoamericano', 39), ('world devotional', 39), ('polynesian hip hop', 38), ('musica maranhense', 38), ('swiss singer-songwriter', 38), ('reggae tico', 38), ('rap tico', 38), ('australian classical piano', 38), ('lebanese indie', 38), ('spanish renaissance', 38), ('granada indie', 38), ('finnish classical', 38), ('finnish modern jazz', 38), ('greek downtempo', 38), ('beat poetry', 38), ('reggaeton cristiano', 38), ('chinese classical performance', 38), ('chinese classical piano', 38), ('sundanese traditional', 38), ('javanese gamelan', 38), ('pop minang', 38), ('truck-driving country', 38), ('jewish hip hop', 38), ('rajasthani folk', 38), ('starogradska', 38), ('louisville underground', 38), ('naat', 38), ('malayalam worship', 38), ('italian contemporary classical', 38), ('musica etnica', 38), ('italian electronica', 38), ('swiss classical piano', 38), ('japanese boom bap', 38), ('konkani pop', 38), ('hypnosis', 38), ('nashville hip hop', 38), ('tamburica', 38), ('jersey club', 38), ('mexican classic rock', 38), ('indie rock mexicano', 38), ('mountain dulcimer', 38), ('trondheim indie', 38), ('peruvian metal', 38), ('manila sound', 38), ('northumbrian folk', 38), ('minimal dnb', 38), ('disney russian', 38), ('swedish garage rock', 38), ('swedish blues', 38), ('swedish contemporary classical', 38), ('lo-fi cover', 38), ('little rock indie', 38), ('azeri rap', 38), ('kurdish rock', 38), ('taiwan punk', 38), ('kazakh indie', 38), ('hammered dulcimer', 38), ('xhosa', 38), ('asheville indie', 38), ('jewish cantorial', 38), ('zurich indie', 38), ('new york death metal', 38), ('modular techno', 38), ('polynesian traditional', 38), ('polish experimental', 38), ('austin rock', 38), ('erhu', 38), ('russian old school hip hop', 38), ('australian classical', 37), ('ghent indie', 37), ('kenyan hip hop', 37), ('nerdcore brasileiro', 37), ('czech classical piano', 37), ('funana', 37), ('vermont indie', 37), ('swiss alternative rock', 37), ('pop costarricense', 37), ('czech classical', 37), ('koto', 37), ('chaabi algerien', 37), ('tunisian pop', 37), ('french opera', 37), ('icelandic classical', 37), ('symphonic melodic death metal', 37), ('atlanta metal', 37), ('ethnomusicology', 37), ('lagu sunda', 37), ('javanese dangdut', 37), ('concertina', 37), ('tamil indie', 37), ('neapolitan funk', 37), ('weightless', 37), ('norwegian choir', 37), ('swedish emo', 37), ('swiss house', 37), ('tuareg guitar', 37), ('punk mexicano', 37), ('musica potosina', 37), ('rock nica', 37), ('combos nacionales', 37), ('canadian latin', 37), ('collage pop', 37), ('newcastle nsw indie', 37), ('lo-fi emo', 37), ('dabke', 37), ('mathgrind', 37), ('swedish drill', 37), ('taiwanese pop', 37), ('czech electronic', 37), ('cuento infantile', 37), ('classic tunisian pop', 37), ('ulkucu sarkilar', 37), ('miami indie', 37), ('uk post-metal', 37), ('australian post-punk', 37), (\"death 'n' roll\", 37), ('russian nu metal', 37), ('german post-rock', 37), ('nashville americana', 37), ('musica eletronica brasileira', 37), ('experimental classical', 37), ('esperanto', 37), ('japanese progressive house', 37), ('h8000', 37), ('finnish psychedelic rock', 37), ('indiana indie', 37), ('russian black metal', 37), ('classical tuba', 37), ('charango', 36), ('folclore jujeno', 36), ('german indie pop', 36), ('sanfona', 36), ('samba reggae', 36), ('musica eletronica gospel', 36), ('rap mineiro', 36), ('french indie folk', 36), ('nueva ola chilena', 36), ('concepcion indie', 36), ('bomba y plena', 36), ('cimbalova muzika', 36), ('afro r&b', 36), ('danish classical', 36), ('danish post-punk', 36), ('twoubadou', 36), ('spanish rockabilly', 36), ('finnish soul', 36), ('english baroque', 36), ('purple sound', 36), ('brazilian dnb', 36), ('austrian orchestra', 36), ('african-american classical', 36), ('huapango', 36), ('hungarian techno', 36), ('acoustic opm', 36), ('yemeni pop', 36), ('hindi worship', 36), ('punjabi folk', 36), ('gujarati pop', 36), ('himachali pop', 36), ('sinhala rap', 36), ('fisarmonica', 36), ('italian blues', 36), ('indie napoletano', 36), ('italian jazz fusion', 36), ('r&b italiano', 36), ('gundam', 36), ('kyushu indie', 36), ('touken ranbu', 36), ('experimental big band', 36), ('lithuanian metal', 36), ('paraguayan indie', 36), ('persian electronic', 36), ('chihuahua indie', 36), ('rock gotico', 36), ('swamp rock', 36), ('norwegian folk rock', 36), ('norwegian house', 36), ('nz dnb', 36), ('cuatro venezolano', 36), ('nz christian', 36), ('polish hardcore', 36), ('bajki', 36), ('gumbe', 36), ('pop paraguayo', 36), ('denver metal', 36), ('togolese pop', 36), ('russian pop punk', 36), ('bleep techno', 36), ('virginia hip hop', 36), ('scottish hip hop', 36), ('ukrainian experimental', 36), ('russian choir', 36), ('swedish house', 36), ('cameroonian pop', 36), ('belarusian electronic', 36), ('dizi', 36), ('wind ensemble', 36), ('yodeling', 36), ('brazilian ska', 36), ('georgian folk', 36), ('brazilian techno', 36), ('israeli classical piano', 36), ('minneapolis punk', 36), ('stuttgart indie', 36), ('rock catarinense', 36), ('tavern', 36), ('death industrial', 36), ('irish techno', 36), ('polish free jazz', 36), ('modern chamber music', 36), ('serbian metal', 36), ('volkstumliche musik', 35), ('belgian dnb', 35), ('roda de samba', 35), ('musica paraibana', 35), ('french tech house', 35), ('swiss experimental', 35), ('bern indie', 35), ('dancehall colombiano', 35), ('punk tico', 35), ('german post-hardcore', 35), ('trance mexicano', 35), ('musique mandingue', 35), ('zikir', 35), ('spanish post-punk', 35), ('drill espanol', 35), ('humppa', 35), ('nantes indie', 35), ('greek psychedelic rock', 35), ('taiko', 35), ('indie catracho', 35), ('spanish folk metal', 35), ('veracruz indie', 35), ('indonesian post-hardcore', 35), ('irish ballad', 35), ('italo house', 35), (\"muzika l'yeladim\", 35), ('psychedelic jazz fusion', 35), ('classic konkani pop', 35), ('gulf hip hop', 35), ('italian orchestra', 35), ('russian contemporary classical', 35), ('papuri', 35), ('bandoneon', 35), ('russian grime', 35), ('dutch r&b', 35), ('surinamese pop', 35), ('australian ska', 35), ('hip hop cubano', 35), ('pinoy metal', 35), ('romanian metal', 35), ('native american hip hop', 35), ('detske pesnicky', 35), ('indie paraense', 35), ('turkce drill', 35), ('phleng phuea chiwit', 35), ('alternative ccm', 35), ('chicano punk', 35), ('lezginka', 35), ('swamp blues', 35), ('folk metal latinoamericano', 35), ('native american contemporary', 35), ('greek clarinet', 35), ('cambodian rock', 35), ('albany ny indie', 35), ('musica mocambicana', 35), ('leicester indie', 35), ('belgian post-rock', 35), ('georgian polyphony', 35), ('yuri', 35), ('georgian alternative', 35), ('canadian black metal', 35), ('minneapolis metal', 35), ('classical string trio', 35), ('arpa grande', 35), ('umea indie', 35), ('oceania soundtrack', 34), ('water', 34), ('balkan classical piano', 34), ('carimbo', 34), ('coral gospel', 34), ('rio grande do sul indie', 34), ('canadian old school hip hop', 34), ('christian thrash metal', 34), ('coldwave', 34), ('spanish electronic', 34), ('malian traditional', 34), ('arab metal', 34), ('white noise', 34), ('icelandic experimental', 34), ('shaabi', 34), ('euskal metal', 34), ('finnish post-punk', 34), ('polyphonies corses', 34), ('north east england indie', 34), ('birmingham grime', 34), ('guatemalan metal', 34), ('dong-yo', 34), ('rock catracho', 34), ('british power metal', 34), ('irish banjo', 34), ('bengali folk', 34), ('bansuri', 34), ('bangladeshi rock', 34), ('icelandic jazz', 34), ('swedish dancehall', 34), ('bahamian folk', 34), ('south african electronic', 34), ('rogaland indie', 34), ('nz punk', 34), ('nz folk', 34), ('russian reggae', 34), ('indie rock colombiano', 34), ('dutch moombahton', 34), ('huayno popular', 34), ('southampton indie', 34), ('pinoy pop punk', 34), ('musica de intervencao', 34), ('pop ambient', 34), ('hula', 34), ('swahili gospel', 34), ('chinese soundtrack', 34), ('korean worship', 34), ('magyar kabare', 34), ('pokemon', 34), ('steel guitar', 34), ('turkish experimental', 34), ('korean instrumental', 34), ('french dnb', 34), ('derby indie', 34), ('northern irish punk', 34), ('industrial hip hop', 34), ('tennessee hip hop', 34), ('nitzhonot', 34), ('belgian hardcore', 34), ('dusseldorf indie', 34), ('canadian garage rock', 34), ('calgary indie', 34), ('faroese folk', 34), ('austrian techno', 34), ('latino comedy', 34), ('michigan folk', 34), ('chinese wind', 34), ('italogaze', 34), ('post-rock latinoamericano', 34), ('guzheng', 34), ('west-vlaamse hip hop', 33), ('baroque brass', 33), ('honky-tonk piano', 33), ('cumbia boliviana', 33), ('indie boliviano', 33), ('hinos ccb', 33), ('rock baiano', 33), ('musica crista reformada', 33), ('sacred steel', 33), ('vaqueiro', 33), ('trap funk', 33), ('swiss trap', 33), ('kingston on indie', 33), ('swiss reggae', 33), ('proto-techno', 33), ('trio cubano', 33), ('epic black metal', 33), ('estonian electronic', 33), ('musica valenciana', 33), ('grebo', 33), ('indonesian psychedelia', 33), ('indonesian r&b', 33), ('norwegian blues', 33), ('indian violin', 33), ('sarod', 33), ('japanese edm', 33), ('uk christian rap', 33), ('washington indie', 33), ('luxembourgian indie', 33), ('austrian black metal', 33), ('gothenburg hip hop', 33), ('barbadian pop', 33), ('tongan pop', 33), ('musica ayacuchana', 33), ('pops orchestra', 33), ('polish classical', 33), ('classical jazz fusion', 33), ('himalayan folk', 33), ('metal paraguayo', 33), ('jalsat', 33), ('hawaiian indie', 33), ('boy soprano', 33), ('singaporean singer-songwriter', 33), ('malaysian metal', 33), ('comedy rap', 33), ('circus', 33), ('ann arbor indie', 33), ('british electroacoustic', 33), ('welsh metal', 33), ('canadian psychedelic', 33), ('texas pop punk', 33), ('canadian psychedelic rock', 33), ('military rap', 33), ('baltimore hip hop', 33), ('rap regio', 33), ('canadian choir', 33), ('alabama metal', 33), ('puerto rican metal', 33), ('japanese psychedelic rock', 33), ('instrumental death metal', 33), ('techno rave', 33), ('mongolian hip hop', 33), ('london on indie', 33), ('portuguese post-rock', 33), ('norrbotten indie', 33), ('portuguese experimental', 33), ('canto a tenore', 33), ('yugoslav new wave', 32), ('christlicher rap', 32), ('bush ballad', 32), ('montenegrin pop', 32), ('canadian post-punk', 32), ('chamame brasilero', 32), ('funk pop', 32), ('rock potiguar', 32), ('northeast indian indie', 32), ('viral pop brasileiro', 32), ('gainesville indie', 32), ('cape breton folk', 32), ('bohemian baroque', 32), ('theremin', 32), ('malian blues', 32), ('western saharan folk', 32), ('libyan pop', 32), ('jota aragonesa', 32), ('galician indie', 32), ('gaita', 32), ('sovietwave', 32), ('musique comorienne', 32), ('devon indie', 32), ('ambient trance', 32), ('sinogaze', 32), ('indie psychedelic rock', 32), ('jewish a capella', 32), ('koligeet', 32), ('nohay', 32), ('japanese post-punk', 32), ('szanty', 32), ('musica yucateca', 32), ('reggae mexicano', 32), ('emo mexicano', 32), ('jazz venezolano', 32), ('electronica venezuela', 32), ('música pitiusa', 32), ('sound collage', 32), ('punk rock mexicano', 32), ('lldm', 32), ('duduk', 32), ('russian power metal', 32), ('jazz harp', 32), ('kentucky roots', 32), ('hard motivation', 32), ('faroese indie', 32), ('chicago hardcore', 32), ('jacksonville indie', 32), ('irish underground rap', 32), ('west virginia indie', 32), ('drone rock', 32), ('arkansas metal', 32), ('pipa', 32), ('industrial noise', 32), ('latin shoegaze', 32), ('melodic doom', 32), ('edinburgh metal', 32), ('new orleans americana', 32), ('florida hardcore', 32), ('gotico brasileiro', 32), ('tanzanian traditional', 32), ('sheilat', 31), ('post-punk argentina', 31), ('indie siciliano', 31), ('raggatek', 31), ('cincinnati rap', 31), ('italian heavy metal', 31), ('belgian singer-songwriter', 31), ('cumbia andina mexicana', 31), ('bandolim', 31), ('musica goiana', 31), ('musica sergipana', 31), ('choro contemporaneo', 31), ('rock cearense', 31), ('musique pour enfant quebecois', 31), ('victorian britain', 31), ('danish choir', 31), ('haitian dance', 31), ('punk ecuatoriano', 31), ('taraneem', 31), ('mestissatge', 31), ('birmingham hip hop', 31), ('cambridge choir', 31), ('east anglia indie', 31), ('greek punk', 31), ('progressive groove metal', 31), ('zimdancehall', 31), ('indonesian blues', 31), ('polish post-rock', 31), ('yorkshire folk', 31), ('singing bowl', 31), ('veena', 31), ('pakistani hip hop', 31), ('rap sardegna', 31), ('hokkaido indie', 31), ('baltic black metal', 31), ('estonian jazz', 31), ('junior eurovision', 31), ('tibetan traditional', 31), ('technical grindcore', 31), ('canadian stoner rock', 31), ('lund indie', 31), ('thai metal', 31), ('middle eastern traditional', 31), ('assyrian pop', 31), ('belgian black metal', 31), ('funk capixaba', 31), ('slovenian electronic', 31), ('italian experimental', 31), ('canadian shoegaze', 31), ('dayton indie', 31), ('musical advocacy', 31), ('belgian classical piano', 31), ('birdsong', 31), ('australian ambient', 31), ('south african choral', 31), ('trad jazz catala', 31), ('australian post-rock', 31), ('cardiff indie', 31), ('san antonio indie', 31), ('cape breton indie', 31), ('essex indie', 31), ('ancient mediterranean', 31), ('italian doom metal', 31), ('australian shoegaze', 31), ('derry indie', 31), ('malayalam hip hop', 31), ('canadian death metal', 31), ('antilliaanse folklore', 31), ('folclore tucumano', 30), ('brit funk', 30), ('mexican post-rock', 30), ('trap boricua', 30), ('brazilian contemporary classical', 30), ('partido alto', 30), ('louvor icm', 30), ('indie cristao', 30), ('musica alagoana', 30), ('swiss country', 30), ('basel indie', 30), ('swiss indie folk', 30), ('musica prehispanica', 30), ('leipzig electronic', 30), ('aarhus indie', 30), ('bhojpuri pop', 30), ('metal ecuatoriano', 30), ('rap ecuatoriano', 30), ('austrian dnb', 30), ('oulu indie', 30), ('cimbalom', 30), ('nisiotika', 30), ('spanish contemporary classical', 30), ('piada', 30), ('indonesian emo rap', 30), ('limerick indie', 30), ('israeli punk', 30), ('israeli classical', 30), ('gothabilly', 30), ('ny roots', 30), ('spanish baroque', 30), ('indie nica', 30), ('rotterdam indie', 30), ('kapa haka', 30), (\"nz children's music\", 30), ('nz hardcore', 30), ('utah indie', 30), ('pinoy singer-songwriter', 30), ('boston electronic', 30), ('polish folk metal', 30), ('disney portugues', 30), ('brazilian progressive metal', 30), ('italian hardcore', 30), ('nyckelharpa', 30), ('singaporean hip hop', 30), ('thai instrumental', 30), ('denver rap', 30), ('turkish reggae', 30), ('pibroch', 30), ('spanish experimental', 30), ('fo jing', 30), ('japanese worship', 30), ('rap chretien', 30), ('portuguese techno', 30), ('utah metal', 30), ('pittsburgh rap', 30), ('korean dream pop', 30), ('vinahouse', 30), ('military cadence', 30), ('zim gospel', 30), ('french shoegaze', 30), ('chinese classical', 30), ('charlottesville indie', 30), ('psychedelic pop', 30), ('finnish experimental', 30), ('jazz caraibes', 30), ('macedonian indie', 30), ('balalaika', 30), ('german shoegaze', 30), ('wisconsin metal', 30), ('korean traditional', 30), ('shoegaze chileno', 30), ('swedish grindcore', 30), ('lawrence ks indie', 30), ('chinese post-punk', 30), ('musica menorquina', 30), ('slovenian hip hop', 30), ('drone ambient', 30), ('gospel drill', 30), ('polish noise rock', 30), ('tigrigna pop', 30), ('danish black metal', 30), ('musica purepecha', 30), ('uppsala indie', 29), ('rap euskera', 29), ('musica indigena latinoamericana', 29), ('coco', 29), ('musica mapuche', 29), ('finnish pop punk', 29), ('czsk black metal', 29), ('jazz dominicano', 29), ('caribbean metal', 29), ('trap catala', 29), ('vintage finnish jazz', 29), ('kantele', 29), ('swedish indie folk', 29), ('spanish stoner rock', 29), ('french oi', 29), ('rap ivoire', 29), ('viet instrumental', 29), ('newcastle indie', 29), ('saskatchewan indie', 29), ('rap salvadoreno', 29), ('indian lo-fi', 29), ('chennai indie', 29), ('indie folk italiano', 29), ('rakugo', 29), ('danish techno', 29), ('drill tuga', 29), ('norwegian classical', 29), ('australian comedy', 29), ('pinoy traditional', 29), ('boston folk', 29), ('mexican death metal', 29), ('asakaa', 29), ('tempe indie', 29), ('old school uk hip hop', 29), ('birmingham metal', 29), ('russian shoegaze', 29), ('psychedelic punk', 29), ('funk mexicano', 29), ('molam', 29), ('string orchestra', 29), ('kenyan alternative', 29), ('taiwanese indie', 29), ('taiwan metal', 29), ('bangladeshi indie', 29), ('baithak gana', 29), ('oxford choir', 29), ('cybergrind', 29), ('buffalo ny metal', 29), ('punk galego', 29), ('nhac thieu nhi', 29), ('kinderliedjies', 29), (\"quartetto d'archi\", 29), ('french hardcore', 29), ('louisville indie', 29), ('black speed metal', 29), ('moroccan traditional', 29), ('metal galego', 29), ('oromo pop', 29), ('bangalore indie', 29), ('serbian indie', 29), ('cornwall indie', 29), ('bothy ballad', 29), ('scottish smallpipe', 29), ('fife and drum', 29), ('new delhi indie', 28), ('baiao', 28), ('piseiro', 28), ('funk evangelico', 28), ('nyahbinghi', 28), ('noisecore', 28), ('czech contemporary classical', 28), ('finnish electronic', 28), ('haur kantak', 28), ('garifuna folk', 28), ('musica hondurena', 28), ('trio batak', 28), ('indonesian ska', 28), ('musica lombarda', 28), ('italian pop punk', 28), ('japanese blues', 28), ('sufi chant', 28), ('historic string quartet', 28), ('greek techno', 28), ('pinoy idol pop', 28), ('polish thrash metal', 28), ('el paso indie', 28), ('8d', 28), ('gotlandsk musik', 28), ('ottawa rap', 28), ('tar', 28), ('chinese metal', 28), ('swiss black metal', 28), ('tampa indie', 28), ('technical groove metal', 28), ('croatian metal', 28), ('memphis americana', 28), ('oc indie', 28), ('electronica peruana', 28), ('afrikaans gospel', 28), ('south african punk', 28), ('kentucky indie', 28), ('australian thrash metal', 28), ('south african metal', 28), ('virginia indie', 28), ('lincoln ne indie', 28), ('metal catarinense', 28), ('korean phantom singer', 28), ('afrikaans folk', 28), ('pygmy music', 28), ('uae indie', 28), ('classical guitar quartet', 28), ('inuit pop', 28), ('salzburg indie', 27), ('tropicalia', 27), ('musica juiz-forana', 27), ('rap baiano', 27), ('chill baile', 27), ('alberta hip hop', 27), ('jazz tuba', 27), ('spanish psychedelic rock', 27), ('winnipeg hip hop', 27), ('finnish metalcore', 27), ('cantonese opera', 27), ('punta rock', 27), ('dhrupad', 27), ('rajasthani pop', 27), ('marathi devotional', 27), ('nephop', 27), ('faroese rock', 27), ('binaural', 27), ('japanese vocal jazz', 27), ('macross', 27), ('new england experimental', 27), ('vaikiskos dainos', 27), ('belgian blues', 27), ('austrian contemporary classical', 27), ('antilliaanse rap', 27), ('nordnorsk rap', 27), ('waiata mo tamariki', 27), ('indie arequipeno', 27), ('bisaya indie', 27), ('sevilla indie', 27), ('bardcore', 27), ('minnesang', 27), ('pittsburgh metal', 27), ('tulsa indie', 27), ('cocuk masallari', 27), ('egyptian traditional', 27), ('caucasian classical piano', 27), ('russian jazz', 27), ('chechen pop', 27), ('russian heavy metal', 27), ('duluth indie', 27), ('432hz', 27), ('korean old school hip hop', 27), ('canadian rockabilly', 27), ('burundian pop', 27), ('italian post-rock', 27), ('australian techno', 27), ('musica sul-mato-grossense', 27), ('alphorn', 27), ('saxony metal', 27), ('danish electro', 27), ('lexington ky indie', 27), ('west virginia metal', 27), ('new zealand classical', 27), ('irish experimental electronic', 27), ('isle of man indie', 27), ('sardinia indie', 27), ('korean punk', 27), ('cantonese traditional', 27), ('malawian pop', 27), ('folk cantabria', 27), ('classical guitar duo', 27), ('tijuana electronic', 26), ('candomble', 26), ('rap capixaba', 26), ('trap baiano', 26), ('rock campineiro', 26), ('indie extremena', 26), ('rap galego', 26), ('hull indie', 26), ('southern china indie', 26), ('indonesian alternative rock', 26), ('pakistani folk', 26), ('telugu hip hop', 26), ('kolkata indie', 26), ('troubadour', 26), ('reggae peruano', 26), ('ngoni', 26), ('miami metal', 26), ('flint hip hop', 26), ('turkish post-punk', 26), ('merida indie', 26), ('galway indie', 26), ('viet lo-fi', 26), ('ghanaian alternative', 26), ('pakistani rock', 26), ('orlando indie', 26), ('rock piauiense', 26), ('kaba gaida', 26), ('italian industrial', 26), ('autoharp', 26), ('belfast metal', 26), ('brazilian surf rock', 26), ('graz indie', 25), ('canberra indie', 25), ('colombian black metal', 25), ('dalarna indie', 25), ('forro gospel', 25), ('rap maromba', 25), ('musica potiguar', 25), ('trinidadian reggae', 25), ('brazilian tech house', 25), ('melodic groove metal', 25), ('baltic classical piano', 25), ('early french punk', 25), ('zambian hip hop', 25), ('hungarian black metal', 25), ('irish contemporary classical', 25), ('israeli folk', 25), ('south asian metal', 25), ('rap malien', 25), ('turkce trap metal', 25), ('malaysian punk', 25), ('polish choir', 25), ('wyoming indie', 25), ('balkan folk metal', 25), ('kalmar indie', 25), ('reading indie', 25), ('taiwan classical performance', 25), ('chinese folk', 25), ('musica indigena brasileira', 25), ('orkney and shetland folk', 25), ('canadian post-hardcore', 25), ('kansas indie', 25), ('italian mandolin', 25), ('latin american baroque', 25), ('lancaster pa indie', 25), ('belgian contemporary classical', 25), ('french stoner rock', 25), ('forro manauara', 25), ('frankfurt indie', 25), ('christian symphonic metal', 25), ('black noise', 25), ('maldivian pop', 25), ('japanese bedroom pop', 25), ('south sudanese pop', 25), ('instrumental black metal', 25), ('russian oi', 25), ('austrian choir', 24), ('irish drill', 24), ('brazilian rockabilly', 24), ('rock alagoano', 24), ('rock paraibano', 24), ('appenzeller folk', 24), ('trap colombiano', 24), ('danish hardcore', 24), ('burkinabe pop', 24), ('macedonian electronic', 24), ('coptic hymn', 24), ('finnish contemporary classical', 24), ('harmonikka', 24), ('sotalaulut', 24), ('png pop', 24), ('guatemalan indie', 24), ('hungarian contemporary classical', 24), ('8-bit', 24), ('indonesian idol pop', 24), ('west yorkshire indie', 24), ('jain bhajan', 24), ('garhwali pop', 24), ('odia bhajan', 24), ('kannada hip hop', 24), ('indian techno', 24), ('isle of wight indie', 24), ('croatian folk', 24), ('indie hidrocalido', 24), ('folklore panameno', 24), ('british grindcore', 24), ('reggae tuga', 24), ('siberian folk', 24), ('italian folk metal', 24), ('trap cristiano', 24), ('mexican thrash metal', 24), ('shamisen', 24), ('mexican experimental', 24), ('russian thrash metal', 24), ('portuguese black metal', 24), ('umea hardcore', 24), ('scam rap', 24), ('samba de roda', 24), ('wyoming roots', 24), ('khmer', 24), ('rock nacional feminino', 24), ('manitoba country', 24), ('arab experimental', 24), ('jazz colombiano', 24), ('bells', 24), ('texas hardcore', 24), ('chattanooga indie', 24), ('finnish techno', 24), ('euphonium', 24), ('turkish black metal', 24), ('mizo pop', 24), ('north dakota indie', 24), ('grunge revival', 24), ('indie liguria', 23), ('reggae gaucho', 23), ('rap paranaense', 23), ('belarusian pop', 23), ('coventry indie', 23), ('greek jazz', 23), ('convent', 23), ('indonesian neo-psychedelia', 23), ('indian percussion', 23), ('icelandic black metal', 23), ('firenze indie', 23), ('japanese celtic', 23), ('tamaulipas rap', 23), ('erotica', 23), ('japanese black metal', 23), ('senegalese traditional', 23), ('rock progresivo mexicano', 23), ('garage rock mexicano', 23), ('classic nz country', 23), ('electronica cristiana', 23), ('tijuana indie', 23), ('poznan indie', 23), ('kyrgyz pop', 23), ('bosnian indie', 23), ('musica indigena mexicana', 23), ('chinese jazz', 23), ('dutch folk', 23), ('italian occult psychedelia', 23), ('caucasian classical', 23), ('marrabenta', 23), ('musique alsacienne', 23), ('okc indie', 23), ('rhode island rap', 23), ('belgian stoner rock', 23), ('rwandan gospel', 23), ('chilean black metal', 23), ('delaware indie', 23), ('kentucky punk', 23), ('australian rockabilly', 23), ('police band', 23), ('singaporean metal', 23), ('mumbai indie', 23), ('maine hip hop', 23), ('romanian contemporary classical', 23), ('kazakh traditional', 23), ('iranian experimental', 23), ('metalcore espanol', 23), ('maracatu', 22), ('forro instrumental', 22), ('electronic djent', 22), ('greek contemporary classical', 22), ('greek guitar', 22), ('irish classical', 22), ('latvian electronic', 22), ('frevo', 22), ('cleveland metal', 22), ('trecento', 22), ('via', 22), ('ritual ambient', 22), ('slovenian metal', 22), ('new hampshire indie', 22), ('folclore extremeno', 22), ('western ny metal', 22), ('brazilian grindcore', 22), ('semarang indie', 22), ('wisconsin indie', 22), ('musica mato-grossense', 22), ('swansea indie', 22), ('gwoka', 22), ('rock pernambucano', 21), ('bodo pop', 21), (\"women's choir\", 21), ('batidao romantico', 21), ('sinaloa indie', 21), ('kentucky metal', 21), ('metal salvadoreno', 21), ('mexican tech house', 21), ('san antonio rap', 21), ('dundee indie', 21), ('sarangi', 21), ('icelandic choir', 21), ('bosnian electronic', 21), ('dortmund indie', 21), ('cumbia surena', 21), ('bisrock', 21), ('bisaya rap', 21), ('balafon', 21), ('russian screamo', 21), ('trap metal italiana', 21), ('arizona punk', 21), ('rock sergipano', 21), ('chinese post-rock', 21), ('bahamian pop', 21), ('nice indie', 21), ('galician jazz', 21), ('musique peule', 21), ('hawaiian hip hop', 21), ('musica piauiense', 21), ('taarab', 21), ('horror punk brasileiro', 21), ('musica rapa nui', 21), ('ars subtilior', 21), ('german grindcore', 21), ('cascadian black metal', 21), ('portsmouth indie', 21), ('chinese punk', 21), ('irish experimental', 21), ('ohio indie', 21), ('tajik pop', 21), ('shanghai indie', 21), ('salay', 20), ('bolivian metal', 20), ('argentine ambient', 20), ('colombian electronic', 20), ('rap liegeois', 20), ('rock of gibraltar', 20), ('warrington indie', 20), ('indonesian bamboo', 20), ('korean mask singer', 20), ('prepared piano', 20), ('kannada bhava geethe', 20), ('northeast indian hip hop', 20), ('lagu aceh', 20), ('sakura wars', 20), ('honeyworks', 20), ('austin hip hop', 20), ('chinese indie pop', 20), ('irish modern jazz', 20), ('north carolina emo', 20), ('ukrainian classical', 20), ('synthetic classical', 20), ('welsh hip hop', 20), ('bible', 20), ('indonesian experimental', 20), ('australian choir', 20), ('portuguese early music', 20), ('mexican techno', 20), ('austrian stoner rock', 20), ('rock sul-mato-grossense', 20), ('norman ok indie', 20), ('indian instrumental rock', 20), ('metal cristao', 20), ('nordnorsk ponk', 20), ('korean hardcore', 20), ('liberian pop', 20), ('norrlandsk hip hop', 20), ('indie tucumano', 19), ('trombone brasileiro', 19), ('bloco', 19), ('reggae cristao', 19), ('brass band brasileiro', 19), ('luxembourgian hip hop', 19), ('york indie', 19), ('bogor indie', 19), ('icelandic traditional', 19), ('bikutsi', 19), ('central american metal', 19), ('solomon islands pop', 19), ('folclore portugues', 19), ('portuguese contemporary classical', 19), ('armenian hip hop', 19), ('chakra', 19), ('trouvere', 19), ('singaporean electronic', 19), ('viet edm', 19), ('cerkes muzikleri', 19), ('namibian pop', 19), ('italian choir', 19), ('synthwave brasileiro', 19), ('african experimental', 19), ('musique soninke', 19), ('south carolina metal', 19), ('norwegian techno', 19), ('indonesian black metal', 19), ('korean jazz', 19), ('eletronica underground brasileira', 19), ('italian rockabilly', 19), ('handbells', 19), ('mexican black metal', 19), ('canadian indigenous hip hop', 19), ('musica sinfonica', 18), ('zen', 18), ('baltic choir', 18), ('hungarian choir', 18), ('musica andorra', 18), ('nadaswaram', 18), ('canzone genovese', 18), ('fremantle indie', 18), ('lithuanian folk', 18), ('glee club', 18), ('sonora indie', 18), ('indie poblano', 18), ('panamanian indie', 18), ('juju', 18), ('korean electronic', 18), ('serbian folk', 18), ('belarusian punk', 18), ('buffalo hip hop', 18), ('bath indie', 18), ('somatik techno', 18), ('igbo traditional', 18), ('san marcos tx indie', 18), ('musica campista', 18), ('venezuelan metal', 18), ('romanian classical piano', 18), ('rwandan hip hop', 18), ('northamptonshire indie', 18), ('metal cearense', 18), ('birthday', 18), ('metal balear', 18), ('glass', 18), ('grunge brasileiro', 18), ('taiwan experimental', 18), ('santur', 18), ('baton rouge indie', 18), ('colorado hardcore', 18), ('rock abc paulista', 17), ('kelowna bc indie', 17), ('bergamo indie', 17), ('japanese contemporary classical', 17), ('st petersburg fl indie', 17), ('blues mexicano', 17), ('joropo', 17), ('ilocano pop', 17), ('lancashire indie', 17), ('musica santomense', 17), ('rap paraguayo', 17), ('pune indie', 17), ('burmese traditional', 17), ('fort wayne indie', 17), ('ai', 17), ('metal uruguayo', 17), ('leon gto indie', 17), ('dub poetry', 17), ('windsor on indie', 17), ('irish black metal', 17), ('syro-aramaic chant', 17), ('polish early music', 17), ('musica londrinense', 17), ('cypriot metal', 17), ('missouri indie', 17), ('musique traditionnelle comorienne', 17), ('rap abc paulista', 16), ('guam indie', 16), ('channel islands indie', 16), ('cameroonian hip hop', 16), ('shehnai', 16), ('pinoy edm', 16), ('lafayette indie', 16), ('morelos indie', 16), ('bulgarian experimental', 16), ('brazilian groove metal', 16), ('gay chorus', 16), ('indie queretano', 16), ('aghani lil-atfal', 16), ('mexican power metal', 16), ('bangladeshi hip hop', 16), ('gambian pop', 16), ('maltese metal', 16), ('animal singing', 16), ('swedish pop rap', 16), ('black metal argentino', 16), ('brazilian doom metal', 16), ('anime game', 16), ('musica blumenauense', 15), ('spa', 15), ('rap baixada fluminense', 15), ('musica campineira', 15), ('yoga', 15), ('jazz tico', 15), ('belarusian hip hop', 15), ('zim hip hop', 15), ('baja indie', 15), ('montana roots', 15), ('mainland se asia metal', 15), ('tulum', 15), ('northwest china indie', 15), ('tennessee experimental', 15), ('worcester ma indie', 15), ('metal pernambucano', 15), ('montana indie', 15), ('peruvian death metal', 15), ('south dakota indie', 15), ('luxembourgian metal', 15), ('chinese opera', 15), ('african metal', 15), ('rap gaucho', 14), ('therapy', 14), ('japanese orchestra', 14), ('youth orchestra', 14), ('post-punk colombiano', 14), ('musique touareg', 14), ('kurdish hip hop', 14), ('hampton roads indie', 14), ('arkansas hip hop', 14), ('circassian folk', 14), ('rap catarinense', 14), ('papuan traditional', 14), ('swiss contemporary classical', 14), ('tribute', 14), ('dombra', 14), ('kyrgyz traditional', 14), ('cambodian traditional', 14), ('hip hop boliviano', 13), ('reiki', 13), ('faroese jazz', 13), ('indonesian deathcore', 13), ('igbo worship', 13), ('kentucky hip hop', 13), ('taiwan electronic', 13), ('musica feirense', 13), ('normal indie', 13), ('kikuyu gospel', 13), ('hakkapop', 13), ('rap toscana', 13), ('oaxaca indie', 13), ('metal nortista', 13), ('indie nordeste argentino', 13), ('uyghur folk', 13), ('korean experimental', 13), ('thai traditional', 13), ('ukrainian choir', 13), ('indonesian electronic', 13), ('irish death metal', 13), ('musica maringaense', 13), ('rap cearense', 12), ('musique traditionnelle congolaise', 12), ('rap nortista', 12), ('mississippi hip hop', 12), ('musica caririense', 12), ('tajik traditional', 12), ('kansas hip hop', 12), ('indie michoacano', 12), ('liechtenstein', 12), ('ainu folk', 12), ('tanci', 12), ('organetto', 12), ('grunge argentina', 12), ('hawaiian punk', 12), ('inuit traditional', 12), ('musica amapaense', 12), ('rap mocambicana', 12), ('brockton hip hop', 12), ('iranian metal', 12), ('georgian electronic', 12), ('shantykoren', 11), ('marathi hip hop', 11), ('eugene indie', 11), ('myanmar indie', 11), ('musica rondoniense', 11), ('zampogna', 11), ('lao traditional', 11), ('cante alentejano', 11), ('kikuyu pop', 11), ('malawian folk', 11), ('bury st edmunds indie', 11), ('rap paraense', 10), ('cornish folk', 10), ('oc rap', 10), ('rochester mn indie', 10), ('swazi pop', 10), ('metal baiano', 10), ('jugendchor', 10), ('wuhan indie', 10), ('indie trujillano', 10), ('irish trap', 10), ('yunnan traditional', 10), ('santa fe indie', 10), ('ugandan traditional', 10), ('lai hla', 10), ('rap pernambucano', 9), ('rap guarulhense', 9), ('bruneian pop', 9), ('botswana pop', 9), ('botswanan pop', 9), ('kosovan folk', 9), ('yemeni traditional', 9), ('hard rock mexicano', 9), ('tamaulipas indie', 9), ('musica mogiana', 9), ('pilates', 9), ('musica roraimense', 9), ('korean contemporary classical', 9), ('wandelweiser', 9), ('trallalero', 9), ('ghanaian traditional', 9), ('men chika', 9), ('montana metal', 9), ('gayageum', 9), ('indie sudcaliforniano', 8), ('cuban electronic', 8), ('moorish traditional', 8), ('whale song', 8), ('rwandan traditional', 8), ('sesotho pop', 8), ('cifteli', 8), ('school ensemble', 8), ('bhutanese pop', 8), ('utapri', 7), ('indian ambient', 7), ('iowa hip hop', 7), ('burkinabe traditional', 7), ('burundian traditional', 7), ('peruvian experimental', 7), ('myanmar hip hop', 7), ('rock cristao fluminense', 6), ('rap sergipano', 6), ('marcha funebre', 6), ('kenyan traditional', 6), ('school choir', 6), ('musica ponta-grossense', 6), ('tatar folk', 5), ('rap potiguar', 5), ('indie campechano', 5), ('ringtone', 5), ('sound effects', 5), ('lesotho traditional', 5), ('rap alagoano', 5), ('indie hidalguense', 4), ('massage', 4), ('indie tabasqueno', 4), ('mindfulness', 4), ('vanuatu music', 4), ('bohol indie', 4), ('draaiorgel', 4), ('chhattisgarhi pop', 3), ('karaoke', 3), ('medimeisterschaften', 3), ('albanian iso polyphony', 3), ('musica puntana', 3), ('baluchi folk', 3), ('metal piauiense', 3), ('mazandarani folk', 2), ('musica timor-leste', 2), ('himene tarava', 2), ('swazi traditional', 1)]\n"
     ]
    }
   ],
   "source": [
    "genres_dict = {}\n",
    "for index, artist in artists_with_genres.iterrows():\n",
    "  for genre in artist['genres_list']:\n",
    "    if genre in genres_dict:\n",
    "      genres_dict[genre]+=1\n",
    "    else:\n",
    "      genres_dict[genre]=1\n",
    "genres_dict = sorted(genres_dict.items(), key= lambda x:x[1], reverse=True)\n",
    "print(genres_dict)"
   ]
  },
  {
   "cell_type": "code",
   "execution_count": 7,
   "id": "dba11524",
   "metadata": {},
   "outputs": [
    {
     "data": {
      "text/plain": [
       "rock         47732\n",
       "pop          36476\n",
       "funk         14370\n",
       "classical     9901\n",
       "folk          9429\n",
       "jazz          9078\n",
       "rap           6907\n",
       "rnb           3679\n",
       "reggae        2602\n",
       "country       1846\n",
       "edm           1474\n",
       "Name: genres_main, dtype: int64"
      ]
     },
     "execution_count": 7,
     "metadata": {},
     "output_type": "execute_result"
    }
   ],
   "source": [
    "main_genres = {\n",
    "  'classical':'orchestra[\\s\\S]*|\\b?[\\s\\S]*classical[\\s\\S]*\\b?|[\\s\\S]*piano[\\s\\S]+|opera',\n",
    "  'rock':r'[\\s\\S]+rock[\\s\\S]*|[\\s\\S]+metal[\\s\\S]*|[\\s\\S]+punk[\\s\\S]*',\n",
    "  'pop':r'[\\s\\S]+pop[\\s\\S]*',\n",
    "  'rap':r'[\\s\\S]* rap[\\s\\S]*',\n",
    "  'jazz':r'[\\s\\S]*jazz[\\s\\S]*|bossa nova',\n",
    "  'reggae':r'\\b[\\s\\S]*reggae|latin[\\s\\S]*',\n",
    "  'folk':r\"[\\s\\S]*folk[\\s\\S]*|\\brebetiko|hawaiian, jawaiian|ukulele|duranguense|grupera|ranchera|[\\s\\S]*regional mexican|norteno\",\n",
    "  'country':r'[\\s\\S]*country[\\s\\S]*|\\btejano\\b',\n",
    "  'rnb':r'[\\s\\S]*blues[\\s\\S]*|[\\s\\S]*r&b[\\s\\S]*',\n",
    "  'funk':r'[\\s\\S]*funk[\\s\\S]*|[\\s\\S]*disco[\\s\\S]*|[\\s\\S]*hip hop[\\s\\S]*',\n",
    "  'edm':r'electronica|[\\s\\S]*edm[\\s\\S]*|electro house|electronic trap'\n",
    "}\n",
    "\n",
    "for genre in main_genres:\n",
    "  if genre == 'classical':\n",
    "    artists_with_genres[\"genres_main\"]=artists_with_genres[\"genres\"].str.replace(main_genres[genre],genre, regex = True)\n",
    "  else:\n",
    "    artists_with_genres[\"genres_main\"]=artists_with_genres[\"genres_main\"].str.replace(main_genres[genre],genre, regex = True)\n",
    "\n",
    "pd.set_option(\"display.max_rows\",None)\n",
    "artists_with_genres[\"genres_main\"].value_counts().head(11)"
   ]
  },
  {
   "cell_type": "code",
   "execution_count": 8,
   "id": "40772872",
   "metadata": {},
   "outputs": [],
   "source": [
    "# Creating a dictionary which categorises an artist's work into a main genre of music\n",
    "\n",
    "artist_dictionary={}\n",
    "for index, row in artists_with_genres.iterrows():\n",
    "    artist_id=row[\"id\"]\n",
    "    artist_genre=row[\"genres_main\"]\n",
    "    artist_dictionary[artist_id]=artist_genre"
   ]
  },
  {
   "cell_type": "markdown",
   "id": "5572a8f2",
   "metadata": {},
   "source": [
    "* Com os gêneros setados aos artistas, chegou a hora de adicioná-los nas músicas\n",
    "\n"
   ]
  },
  {
   "cell_type": "code",
   "execution_count": 9,
   "id": "d99192db",
   "metadata": {},
   "outputs": [
    {
     "data": {
      "text/html": [
       "<div>\n",
       "<style scoped>\n",
       "    .dataframe tbody tr th:only-of-type {\n",
       "        vertical-align: middle;\n",
       "    }\n",
       "\n",
       "    .dataframe tbody tr th {\n",
       "        vertical-align: top;\n",
       "    }\n",
       "\n",
       "    .dataframe thead th {\n",
       "        text-align: right;\n",
       "    }\n",
       "</style>\n",
       "<table border=\"1\" class=\"dataframe\">\n",
       "  <thead>\n",
       "    <tr style=\"text-align: right;\">\n",
       "      <th></th>\n",
       "      <th>id</th>\n",
       "      <th>name</th>\n",
       "      <th>popularity</th>\n",
       "      <th>duration_ms</th>\n",
       "      <th>explicit</th>\n",
       "      <th>artists</th>\n",
       "      <th>id_artists</th>\n",
       "      <th>release_date</th>\n",
       "      <th>danceability</th>\n",
       "      <th>energy</th>\n",
       "      <th>key</th>\n",
       "      <th>loudness</th>\n",
       "      <th>mode</th>\n",
       "      <th>speechiness</th>\n",
       "      <th>acousticness</th>\n",
       "      <th>instrumentalness</th>\n",
       "      <th>liveness</th>\n",
       "      <th>valence</th>\n",
       "      <th>tempo</th>\n",
       "      <th>time_signature</th>\n",
       "    </tr>\n",
       "  </thead>\n",
       "  <tbody>\n",
       "    <tr>\n",
       "      <th>0</th>\n",
       "      <td>35iwgR4jXetI318WEWsa1Q</td>\n",
       "      <td>Carve</td>\n",
       "      <td>6</td>\n",
       "      <td>126903</td>\n",
       "      <td>0</td>\n",
       "      <td>['Uli']</td>\n",
       "      <td>['45tIt06XoI0Iio4LBEVpls']</td>\n",
       "      <td>1922-02-22</td>\n",
       "      <td>0.645</td>\n",
       "      <td>0.4450</td>\n",
       "      <td>0</td>\n",
       "      <td>-13.338</td>\n",
       "      <td>1</td>\n",
       "      <td>0.4510</td>\n",
       "      <td>0.674</td>\n",
       "      <td>0.7440</td>\n",
       "      <td>0.151</td>\n",
       "      <td>0.127</td>\n",
       "      <td>104.851</td>\n",
       "      <td>3</td>\n",
       "    </tr>\n",
       "    <tr>\n",
       "      <th>1</th>\n",
       "      <td>021ht4sdgPcrDgSk7JTbKY</td>\n",
       "      <td>Capítulo 2.16 - Banquero Anarquista</td>\n",
       "      <td>0</td>\n",
       "      <td>98200</td>\n",
       "      <td>0</td>\n",
       "      <td>['Fernando Pessoa']</td>\n",
       "      <td>['14jtPCOoNZwquk5wd9DxrY']</td>\n",
       "      <td>1922-06-01</td>\n",
       "      <td>0.695</td>\n",
       "      <td>0.2630</td>\n",
       "      <td>0</td>\n",
       "      <td>-22.136</td>\n",
       "      <td>1</td>\n",
       "      <td>0.9570</td>\n",
       "      <td>0.797</td>\n",
       "      <td>0.0000</td>\n",
       "      <td>0.148</td>\n",
       "      <td>0.655</td>\n",
       "      <td>102.009</td>\n",
       "      <td>1</td>\n",
       "    </tr>\n",
       "    <tr>\n",
       "      <th>2</th>\n",
       "      <td>07A5yehtSnoedViJAZkNnc</td>\n",
       "      <td>Vivo para Quererte - Remasterizado</td>\n",
       "      <td>0</td>\n",
       "      <td>181640</td>\n",
       "      <td>0</td>\n",
       "      <td>['Ignacio Corsini']</td>\n",
       "      <td>['5LiOoJbxVSAMkBS2fUm3X2']</td>\n",
       "      <td>1922-03-21</td>\n",
       "      <td>0.434</td>\n",
       "      <td>0.1770</td>\n",
       "      <td>1</td>\n",
       "      <td>-21.180</td>\n",
       "      <td>1</td>\n",
       "      <td>0.0512</td>\n",
       "      <td>0.994</td>\n",
       "      <td>0.0218</td>\n",
       "      <td>0.212</td>\n",
       "      <td>0.457</td>\n",
       "      <td>130.418</td>\n",
       "      <td>5</td>\n",
       "    </tr>\n",
       "    <tr>\n",
       "      <th>3</th>\n",
       "      <td>08FmqUhxtyLTn6pAh6bk45</td>\n",
       "      <td>El Prisionero - Remasterizado</td>\n",
       "      <td>0</td>\n",
       "      <td>176907</td>\n",
       "      <td>0</td>\n",
       "      <td>['Ignacio Corsini']</td>\n",
       "      <td>['5LiOoJbxVSAMkBS2fUm3X2']</td>\n",
       "      <td>1922-03-21</td>\n",
       "      <td>0.321</td>\n",
       "      <td>0.0946</td>\n",
       "      <td>7</td>\n",
       "      <td>-27.961</td>\n",
       "      <td>1</td>\n",
       "      <td>0.0504</td>\n",
       "      <td>0.995</td>\n",
       "      <td>0.9180</td>\n",
       "      <td>0.104</td>\n",
       "      <td>0.397</td>\n",
       "      <td>169.980</td>\n",
       "      <td>3</td>\n",
       "    </tr>\n",
       "    <tr>\n",
       "      <th>4</th>\n",
       "      <td>08y9GfoqCWfOGsKdwojr5e</td>\n",
       "      <td>Lady of the Evening</td>\n",
       "      <td>0</td>\n",
       "      <td>163080</td>\n",
       "      <td>0</td>\n",
       "      <td>['Dick Haymes']</td>\n",
       "      <td>['3BiJGZsyX9sJchTqcSA7Su']</td>\n",
       "      <td>1922</td>\n",
       "      <td>0.402</td>\n",
       "      <td>0.1580</td>\n",
       "      <td>3</td>\n",
       "      <td>-16.900</td>\n",
       "      <td>0</td>\n",
       "      <td>0.0390</td>\n",
       "      <td>0.989</td>\n",
       "      <td>0.1300</td>\n",
       "      <td>0.311</td>\n",
       "      <td>0.196</td>\n",
       "      <td>103.220</td>\n",
       "      <td>4</td>\n",
       "    </tr>\n",
       "  </tbody>\n",
       "</table>\n",
       "</div>"
      ],
      "text/plain": [
       "                       id                                 name  popularity  \\\n",
       "0  35iwgR4jXetI318WEWsa1Q                                Carve           6   \n",
       "1  021ht4sdgPcrDgSk7JTbKY  Capítulo 2.16 - Banquero Anarquista           0   \n",
       "2  07A5yehtSnoedViJAZkNnc   Vivo para Quererte - Remasterizado           0   \n",
       "3  08FmqUhxtyLTn6pAh6bk45        El Prisionero - Remasterizado           0   \n",
       "4  08y9GfoqCWfOGsKdwojr5e                  Lady of the Evening           0   \n",
       "\n",
       "   duration_ms  explicit              artists                  id_artists  \\\n",
       "0       126903         0              ['Uli']  ['45tIt06XoI0Iio4LBEVpls']   \n",
       "1        98200         0  ['Fernando Pessoa']  ['14jtPCOoNZwquk5wd9DxrY']   \n",
       "2       181640         0  ['Ignacio Corsini']  ['5LiOoJbxVSAMkBS2fUm3X2']   \n",
       "3       176907         0  ['Ignacio Corsini']  ['5LiOoJbxVSAMkBS2fUm3X2']   \n",
       "4       163080         0      ['Dick Haymes']  ['3BiJGZsyX9sJchTqcSA7Su']   \n",
       "\n",
       "  release_date  danceability  energy  key  loudness  mode  speechiness  \\\n",
       "0   1922-02-22         0.645  0.4450    0   -13.338     1       0.4510   \n",
       "1   1922-06-01         0.695  0.2630    0   -22.136     1       0.9570   \n",
       "2   1922-03-21         0.434  0.1770    1   -21.180     1       0.0512   \n",
       "3   1922-03-21         0.321  0.0946    7   -27.961     1       0.0504   \n",
       "4         1922         0.402  0.1580    3   -16.900     0       0.0390   \n",
       "\n",
       "   acousticness  instrumentalness  liveness  valence    tempo  time_signature  \n",
       "0         0.674            0.7440     0.151    0.127  104.851               3  \n",
       "1         0.797            0.0000     0.148    0.655  102.009               1  \n",
       "2         0.994            0.0218     0.212    0.457  130.418               5  \n",
       "3         0.995            0.9180     0.104    0.397  169.980               3  \n",
       "4         0.989            0.1300     0.311    0.196  103.220               4  "
      ]
     },
     "execution_count": 9,
     "metadata": {},
     "output_type": "execute_result"
    }
   ],
   "source": [
    "tracks_with_genres = tracks.copy()\n",
    "tracks_with_genres.head()"
   ]
  },
  {
   "cell_type": "code",
   "execution_count": 10,
   "id": "f96795e5",
   "metadata": {},
   "outputs": [
    {
     "data": {
      "text/html": [
       "<div>\n",
       "<style scoped>\n",
       "    .dataframe tbody tr th:only-of-type {\n",
       "        vertical-align: middle;\n",
       "    }\n",
       "\n",
       "    .dataframe tbody tr th {\n",
       "        vertical-align: top;\n",
       "    }\n",
       "\n",
       "    .dataframe thead th {\n",
       "        text-align: right;\n",
       "    }\n",
       "</style>\n",
       "<table border=\"1\" class=\"dataframe\">\n",
       "  <thead>\n",
       "    <tr style=\"text-align: right;\">\n",
       "      <th></th>\n",
       "      <th>id</th>\n",
       "      <th>name</th>\n",
       "      <th>popularity</th>\n",
       "      <th>duration_ms</th>\n",
       "      <th>explicit</th>\n",
       "      <th>artists</th>\n",
       "      <th>id_artists</th>\n",
       "      <th>release_date</th>\n",
       "      <th>danceability</th>\n",
       "      <th>energy</th>\n",
       "      <th>...</th>\n",
       "      <th>loudness</th>\n",
       "      <th>mode</th>\n",
       "      <th>speechiness</th>\n",
       "      <th>acousticness</th>\n",
       "      <th>instrumentalness</th>\n",
       "      <th>liveness</th>\n",
       "      <th>valence</th>\n",
       "      <th>tempo</th>\n",
       "      <th>time_signature</th>\n",
       "      <th>genre</th>\n",
       "    </tr>\n",
       "  </thead>\n",
       "  <tbody>\n",
       "    <tr>\n",
       "      <th>0</th>\n",
       "      <td>35iwgR4jXetI318WEWsa1Q</td>\n",
       "      <td>Carve</td>\n",
       "      <td>6</td>\n",
       "      <td>126903</td>\n",
       "      <td>0</td>\n",
       "      <td>['Uli']</td>\n",
       "      <td>['45tIt06XoI0Iio4LBEVpls']</td>\n",
       "      <td>1922-02-22</td>\n",
       "      <td>0.645</td>\n",
       "      <td>0.4450</td>\n",
       "      <td>...</td>\n",
       "      <td>-13.338</td>\n",
       "      <td>1</td>\n",
       "      <td>0.4510</td>\n",
       "      <td>0.674</td>\n",
       "      <td>0.7440</td>\n",
       "      <td>0.151</td>\n",
       "      <td>0.127</td>\n",
       "      <td>104.851</td>\n",
       "      <td>3</td>\n",
       "      <td>[]</td>\n",
       "    </tr>\n",
       "    <tr>\n",
       "      <th>1</th>\n",
       "      <td>021ht4sdgPcrDgSk7JTbKY</td>\n",
       "      <td>Capítulo 2.16 - Banquero Anarquista</td>\n",
       "      <td>0</td>\n",
       "      <td>98200</td>\n",
       "      <td>0</td>\n",
       "      <td>['Fernando Pessoa']</td>\n",
       "      <td>['14jtPCOoNZwquk5wd9DxrY']</td>\n",
       "      <td>1922-06-01</td>\n",
       "      <td>0.695</td>\n",
       "      <td>0.2630</td>\n",
       "      <td>...</td>\n",
       "      <td>-22.136</td>\n",
       "      <td>1</td>\n",
       "      <td>0.9570</td>\n",
       "      <td>0.797</td>\n",
       "      <td>0.0000</td>\n",
       "      <td>0.148</td>\n",
       "      <td>0.655</td>\n",
       "      <td>102.009</td>\n",
       "      <td>1</td>\n",
       "      <td>[]</td>\n",
       "    </tr>\n",
       "    <tr>\n",
       "      <th>2</th>\n",
       "      <td>07A5yehtSnoedViJAZkNnc</td>\n",
       "      <td>Vivo para Quererte - Remasterizado</td>\n",
       "      <td>0</td>\n",
       "      <td>181640</td>\n",
       "      <td>0</td>\n",
       "      <td>['Ignacio Corsini']</td>\n",
       "      <td>['5LiOoJbxVSAMkBS2fUm3X2']</td>\n",
       "      <td>1922-03-21</td>\n",
       "      <td>0.434</td>\n",
       "      <td>0.1770</td>\n",
       "      <td>...</td>\n",
       "      <td>-21.180</td>\n",
       "      <td>1</td>\n",
       "      <td>0.0512</td>\n",
       "      <td>0.994</td>\n",
       "      <td>0.0218</td>\n",
       "      <td>0.212</td>\n",
       "      <td>0.457</td>\n",
       "      <td>130.418</td>\n",
       "      <td>5</td>\n",
       "      <td>[tango, vintage tango]</td>\n",
       "    </tr>\n",
       "    <tr>\n",
       "      <th>3</th>\n",
       "      <td>08FmqUhxtyLTn6pAh6bk45</td>\n",
       "      <td>El Prisionero - Remasterizado</td>\n",
       "      <td>0</td>\n",
       "      <td>176907</td>\n",
       "      <td>0</td>\n",
       "      <td>['Ignacio Corsini']</td>\n",
       "      <td>['5LiOoJbxVSAMkBS2fUm3X2']</td>\n",
       "      <td>1922-03-21</td>\n",
       "      <td>0.321</td>\n",
       "      <td>0.0946</td>\n",
       "      <td>...</td>\n",
       "      <td>-27.961</td>\n",
       "      <td>1</td>\n",
       "      <td>0.0504</td>\n",
       "      <td>0.995</td>\n",
       "      <td>0.9180</td>\n",
       "      <td>0.104</td>\n",
       "      <td>0.397</td>\n",
       "      <td>169.980</td>\n",
       "      <td>3</td>\n",
       "      <td>[tango, vintage tango]</td>\n",
       "    </tr>\n",
       "    <tr>\n",
       "      <th>4</th>\n",
       "      <td>08y9GfoqCWfOGsKdwojr5e</td>\n",
       "      <td>Lady of the Evening</td>\n",
       "      <td>0</td>\n",
       "      <td>163080</td>\n",
       "      <td>0</td>\n",
       "      <td>['Dick Haymes']</td>\n",
       "      <td>['3BiJGZsyX9sJchTqcSA7Su']</td>\n",
       "      <td>1922</td>\n",
       "      <td>0.402</td>\n",
       "      <td>0.1580</td>\n",
       "      <td>...</td>\n",
       "      <td>-16.900</td>\n",
       "      <td>0</td>\n",
       "      <td>0.0390</td>\n",
       "      <td>0.989</td>\n",
       "      <td>0.1300</td>\n",
       "      <td>0.311</td>\n",
       "      <td>0.196</td>\n",
       "      <td>103.220</td>\n",
       "      <td>4</td>\n",
       "      <td>[adult standards, big band, easy listening, lo...</td>\n",
       "    </tr>\n",
       "  </tbody>\n",
       "</table>\n",
       "<p>5 rows × 21 columns</p>\n",
       "</div>"
      ],
      "text/plain": [
       "                       id                                 name  popularity  \\\n",
       "0  35iwgR4jXetI318WEWsa1Q                                Carve           6   \n",
       "1  021ht4sdgPcrDgSk7JTbKY  Capítulo 2.16 - Banquero Anarquista           0   \n",
       "2  07A5yehtSnoedViJAZkNnc   Vivo para Quererte - Remasterizado           0   \n",
       "3  08FmqUhxtyLTn6pAh6bk45        El Prisionero - Remasterizado           0   \n",
       "4  08y9GfoqCWfOGsKdwojr5e                  Lady of the Evening           0   \n",
       "\n",
       "   duration_ms  explicit              artists                  id_artists  \\\n",
       "0       126903         0              ['Uli']  ['45tIt06XoI0Iio4LBEVpls']   \n",
       "1        98200         0  ['Fernando Pessoa']  ['14jtPCOoNZwquk5wd9DxrY']   \n",
       "2       181640         0  ['Ignacio Corsini']  ['5LiOoJbxVSAMkBS2fUm3X2']   \n",
       "3       176907         0  ['Ignacio Corsini']  ['5LiOoJbxVSAMkBS2fUm3X2']   \n",
       "4       163080         0      ['Dick Haymes']  ['3BiJGZsyX9sJchTqcSA7Su']   \n",
       "\n",
       "  release_date  danceability  energy  ...  loudness  mode  speechiness  \\\n",
       "0   1922-02-22         0.645  0.4450  ...   -13.338     1       0.4510   \n",
       "1   1922-06-01         0.695  0.2630  ...   -22.136     1       0.9570   \n",
       "2   1922-03-21         0.434  0.1770  ...   -21.180     1       0.0512   \n",
       "3   1922-03-21         0.321  0.0946  ...   -27.961     1       0.0504   \n",
       "4         1922         0.402  0.1580  ...   -16.900     0       0.0390   \n",
       "\n",
       "   acousticness  instrumentalness  liveness  valence    tempo  time_signature  \\\n",
       "0         0.674            0.7440     0.151    0.127  104.851               3   \n",
       "1         0.797            0.0000     0.148    0.655  102.009               1   \n",
       "2         0.994            0.0218     0.212    0.457  130.418               5   \n",
       "3         0.995            0.9180     0.104    0.397  169.980               3   \n",
       "4         0.989            0.1300     0.311    0.196  103.220               4   \n",
       "\n",
       "                                               genre  \n",
       "0                                                 []  \n",
       "1                                                 []  \n",
       "2                             [tango, vintage tango]  \n",
       "3                             [tango, vintage tango]  \n",
       "4  [adult standards, big band, easy listening, lo...  \n",
       "\n",
       "[5 rows x 21 columns]"
      ]
     },
     "execution_count": 10,
     "metadata": {},
     "output_type": "execute_result"
    }
   ],
   "source": [
    "#Adding a genre column in data2 by using information in dictionary created above\n",
    "tracks_with_genres[\"id_artists\"] = tracks_with_genres[\"id_artists\"].str.replace(\"\\[\",\"\", regex = True)\n",
    "tracks_with_genres[\"id_artists\"] = tracks_with_genres[\"id_artists\"].str.replace(\"\\]\",\"\", regex = True)\n",
    "tracks_with_genres[\"id_artists\"] = tracks_with_genres[\"id_artists\"].str.replace(\", \",\",\")\n",
    "tracks_with_genres[\"id_artists\"] = tracks_with_genres[\"id_artists\"].str.split(\",\")\n",
    "\n",
    "def genre_according_artist(column):\n",
    "    music_style=[]\n",
    "    for artist in column:\n",
    "        artist=artist.strip(\"'\")\n",
    "        if artist in artist_dictionary:\n",
    "            #print(artist)\n",
    "            music_style.append(artist_dictionary[artist])\n",
    "    return music_style\n",
    "            \n",
    "tracks_with_genres[\"genre\"] = tracks_with_genres[\"id_artists\"].apply(genre_according_artist)\n",
    "tracks_with_genres.head()"
   ]
  },
  {
   "cell_type": "markdown",
   "id": "c3ed33c1",
   "metadata": {},
   "source": [
    "* O próximo passo é limpar para os 11 gêneros de interesse\n",
    "* Temos, entretanto, um problema. Vamos escolher a música 'Leave The Door Open', de Bruno Mars e Anderson .Paak. Essa música é usada para exemplificar o problema: quando temos uma música de dois artistas que produzem diferentes estilos musicais.\n",
    "* Para solucionar a questão, vamos limpar as músicas que são feitas em parceiras e, a partir daí, filtrar para os gêneros de interesse. Além disso, também vamos retirar as músicas que os artistas não apresentaram um gênero, como feito no tratamento anterior.\n"
   ]
  },
  {
   "cell_type": "code",
   "execution_count": 11,
   "id": "6993e674",
   "metadata": {},
   "outputs": [
    {
     "name": "stdout",
     "output_type": "stream",
     "text": [
      "                                              artists               genre\n",
      "93805  ['Bruno Mars', 'Anderson .Paak', 'Silk Sonic']  [pop, escape room]\n",
      "93949  ['Bruno Mars', 'Anderson .Paak', 'Silk Sonic']  [pop, escape room]\n"
     ]
    }
   ],
   "source": [
    "track_example = tracks_with_genres.query(\"'Leave The Door Open' == name\")\n",
    "print(track_example[[\"artists\",'genre']])"
   ]
  },
  {
   "cell_type": "code",
   "execution_count": 12,
   "id": "0100079d",
   "metadata": {},
   "outputs": [],
   "source": [
    "tracks_with_genres[\"has_genre\"] = [x != [] for x in tracks_with_genres[\"genre\"]]\n",
    "tracks_with_genres.drop(tracks_with_genres[tracks_with_genres['has_genre'] == False].index, inplace=True)\n",
    "\n",
    "tracks_with_genres[\"genres_list\"] = [len(x) > 1 for x in tracks_with_genres[\"genre\"]]\n",
    "tracks_with_genres.drop(tracks_with_genres[tracks_with_genres['genres_list'] == True].index, inplace=True)"
   ]
  },
  {
   "cell_type": "code",
   "execution_count": 13,
   "id": "5a071ffe",
   "metadata": {},
   "outputs": [
    {
     "data": {
      "text/plain": [
       "rock         145759\n",
       "pop          132463\n",
       "jazz          23793\n",
       "folk          13403\n",
       "funk          10578\n",
       "classical      9500\n",
       "hoerspiel      8424\n",
       "rap            5732\n",
       "reggae         3764\n",
       "country        2987\n",
       "rnb            2759\n",
       "Name: genre_string, dtype: int64"
      ]
     },
     "execution_count": 13,
     "metadata": {},
     "output_type": "execute_result"
    }
   ],
   "source": [
    "tracks_with_genres['genre_string'] = [','.join(map(str, l)) for l in tracks_with_genres['genre']]\n",
    "\n",
    "tracks_with_genres[\"genre_string\"].value_counts().head(11)"
   ]
  },
  {
   "cell_type": "code",
   "execution_count": 14,
   "id": "24ab62bc",
   "metadata": {
    "scrolled": true
   },
   "outputs": [
    {
     "data": {
      "text/html": [
       "<div>\n",
       "<style scoped>\n",
       "    .dataframe tbody tr th:only-of-type {\n",
       "        vertical-align: middle;\n",
       "    }\n",
       "\n",
       "    .dataframe tbody tr th {\n",
       "        vertical-align: top;\n",
       "    }\n",
       "\n",
       "    .dataframe thead th {\n",
       "        text-align: right;\n",
       "    }\n",
       "</style>\n",
       "<table border=\"1\" class=\"dataframe\">\n",
       "  <thead>\n",
       "    <tr style=\"text-align: right;\">\n",
       "      <th></th>\n",
       "      <th>id</th>\n",
       "      <th>name</th>\n",
       "      <th>popularity</th>\n",
       "      <th>duration_ms</th>\n",
       "      <th>explicit</th>\n",
       "      <th>artists</th>\n",
       "      <th>id_artists</th>\n",
       "      <th>release_date</th>\n",
       "      <th>danceability</th>\n",
       "      <th>energy</th>\n",
       "      <th>...</th>\n",
       "      <th>acousticness</th>\n",
       "      <th>instrumentalness</th>\n",
       "      <th>liveness</th>\n",
       "      <th>valence</th>\n",
       "      <th>tempo</th>\n",
       "      <th>time_signature</th>\n",
       "      <th>genre</th>\n",
       "      <th>has_genre</th>\n",
       "      <th>genres_list</th>\n",
       "      <th>genre_string</th>\n",
       "    </tr>\n",
       "  </thead>\n",
       "  <tbody>\n",
       "    <tr>\n",
       "      <th>149</th>\n",
       "      <td>2wAfHM7Whz67VFbdanhZlk</td>\n",
       "      <td>Nobody Knows You When You're Down and Out</td>\n",
       "      <td>41</td>\n",
       "      <td>177133</td>\n",
       "      <td>0</td>\n",
       "      <td>['Bessie Smith']</td>\n",
       "      <td>['5ESobCkc6JI4tIMxQttqeg']</td>\n",
       "      <td>1923</td>\n",
       "      <td>0.614</td>\n",
       "      <td>0.0423</td>\n",
       "      <td>...</td>\n",
       "      <td>0.996</td>\n",
       "      <td>0.002930</td>\n",
       "      <td>0.1830</td>\n",
       "      <td>0.211</td>\n",
       "      <td>89.822</td>\n",
       "      <td>4</td>\n",
       "      <td>[jazz]</td>\n",
       "      <td>True</td>\n",
       "      <td>False</td>\n",
       "      <td>jazz</td>\n",
       "    </tr>\n",
       "    <tr>\n",
       "      <th>151</th>\n",
       "      <td>2AZgaYZSwUosJD71J2N2Zo</td>\n",
       "      <td>'Tain't Nobody's Bizness If I Do</td>\n",
       "      <td>30</td>\n",
       "      <td>206600</td>\n",
       "      <td>0</td>\n",
       "      <td>['Bessie Smith']</td>\n",
       "      <td>['5ESobCkc6JI4tIMxQttqeg']</td>\n",
       "      <td>1923</td>\n",
       "      <td>0.537</td>\n",
       "      <td>0.0443</td>\n",
       "      <td>...</td>\n",
       "      <td>0.996</td>\n",
       "      <td>0.000265</td>\n",
       "      <td>0.1520</td>\n",
       "      <td>0.137</td>\n",
       "      <td>80.468</td>\n",
       "      <td>4</td>\n",
       "      <td>[jazz]</td>\n",
       "      <td>True</td>\n",
       "      <td>False</td>\n",
       "      <td>jazz</td>\n",
       "    </tr>\n",
       "    <tr>\n",
       "      <th>152</th>\n",
       "      <td>7lRFR5GJCxK87ZbVMtQSeS</td>\n",
       "      <td>Ain't Misbehavin'</td>\n",
       "      <td>28</td>\n",
       "      <td>192600</td>\n",
       "      <td>0</td>\n",
       "      <td>['Louis Armstrong']</td>\n",
       "      <td>['19eLuQmk9aCobbVDHc6eek']</td>\n",
       "      <td>1923</td>\n",
       "      <td>0.665</td>\n",
       "      <td>0.2540</td>\n",
       "      <td>...</td>\n",
       "      <td>0.976</td>\n",
       "      <td>0.002170</td>\n",
       "      <td>0.6440</td>\n",
       "      <td>0.503</td>\n",
       "      <td>125.734</td>\n",
       "      <td>4</td>\n",
       "      <td>[jazz]</td>\n",
       "      <td>True</td>\n",
       "      <td>False</td>\n",
       "      <td>jazz</td>\n",
       "    </tr>\n",
       "    <tr>\n",
       "      <th>153</th>\n",
       "      <td>6XTvSCqGLLH0vzQQRn55hz</td>\n",
       "      <td>Empty Bed Blues, Pt. 1</td>\n",
       "      <td>27</td>\n",
       "      <td>181173</td>\n",
       "      <td>0</td>\n",
       "      <td>['Bessie Smith']</td>\n",
       "      <td>['5ESobCkc6JI4tIMxQttqeg']</td>\n",
       "      <td>1923</td>\n",
       "      <td>0.709</td>\n",
       "      <td>0.0620</td>\n",
       "      <td>...</td>\n",
       "      <td>0.995</td>\n",
       "      <td>0.003410</td>\n",
       "      <td>0.1200</td>\n",
       "      <td>0.553</td>\n",
       "      <td>85.854</td>\n",
       "      <td>4</td>\n",
       "      <td>[jazz]</td>\n",
       "      <td>True</td>\n",
       "      <td>False</td>\n",
       "      <td>jazz</td>\n",
       "    </tr>\n",
       "    <tr>\n",
       "      <th>154</th>\n",
       "      <td>6qRvnXftofjYJm1Mg98UWL</td>\n",
       "      <td>Need a Little Sugar in My Bowl</td>\n",
       "      <td>27</td>\n",
       "      <td>167640</td>\n",
       "      <td>0</td>\n",
       "      <td>['Bessie Smith']</td>\n",
       "      <td>['5ESobCkc6JI4tIMxQttqeg']</td>\n",
       "      <td>1923</td>\n",
       "      <td>0.693</td>\n",
       "      <td>0.0270</td>\n",
       "      <td>...</td>\n",
       "      <td>0.992</td>\n",
       "      <td>0.000000</td>\n",
       "      <td>0.1340</td>\n",
       "      <td>0.402</td>\n",
       "      <td>75.749</td>\n",
       "      <td>4</td>\n",
       "      <td>[jazz]</td>\n",
       "      <td>True</td>\n",
       "      <td>False</td>\n",
       "      <td>jazz</td>\n",
       "    </tr>\n",
       "    <tr>\n",
       "      <th>155</th>\n",
       "      <td>0V1iYWPXCBTaB6dhbiprGF</td>\n",
       "      <td>Send Me to the 'Lectric Chair</td>\n",
       "      <td>26</td>\n",
       "      <td>201480</td>\n",
       "      <td>0</td>\n",
       "      <td>['Bessie Smith']</td>\n",
       "      <td>['5ESobCkc6JI4tIMxQttqeg']</td>\n",
       "      <td>1923</td>\n",
       "      <td>0.771</td>\n",
       "      <td>0.0905</td>\n",
       "      <td>...</td>\n",
       "      <td>0.986</td>\n",
       "      <td>0.000141</td>\n",
       "      <td>0.1520</td>\n",
       "      <td>0.601</td>\n",
       "      <td>87.571</td>\n",
       "      <td>4</td>\n",
       "      <td>[jazz]</td>\n",
       "      <td>True</td>\n",
       "      <td>False</td>\n",
       "      <td>jazz</td>\n",
       "    </tr>\n",
       "    <tr>\n",
       "      <th>156</th>\n",
       "      <td>6sOKopKyVWwEJKh8zztYp5</td>\n",
       "      <td>Young Woman's Blues</td>\n",
       "      <td>25</td>\n",
       "      <td>187960</td>\n",
       "      <td>0</td>\n",
       "      <td>['Bessie Smith']</td>\n",
       "      <td>['5ESobCkc6JI4tIMxQttqeg']</td>\n",
       "      <td>1923</td>\n",
       "      <td>0.525</td>\n",
       "      <td>0.2320</td>\n",
       "      <td>...</td>\n",
       "      <td>0.995</td>\n",
       "      <td>0.018100</td>\n",
       "      <td>0.4610</td>\n",
       "      <td>0.411</td>\n",
       "      <td>76.140</td>\n",
       "      <td>4</td>\n",
       "      <td>[jazz]</td>\n",
       "      <td>True</td>\n",
       "      <td>False</td>\n",
       "      <td>jazz</td>\n",
       "    </tr>\n",
       "    <tr>\n",
       "      <th>157</th>\n",
       "      <td>0rUf1j43orpfi6f4LbVo8D</td>\n",
       "      <td>Careless Love</td>\n",
       "      <td>25</td>\n",
       "      <td>205053</td>\n",
       "      <td>0</td>\n",
       "      <td>['Bessie Smith']</td>\n",
       "      <td>['5ESobCkc6JI4tIMxQttqeg']</td>\n",
       "      <td>1923</td>\n",
       "      <td>0.587</td>\n",
       "      <td>0.1750</td>\n",
       "      <td>...</td>\n",
       "      <td>0.992</td>\n",
       "      <td>0.000318</td>\n",
       "      <td>0.0730</td>\n",
       "      <td>0.483</td>\n",
       "      <td>98.523</td>\n",
       "      <td>4</td>\n",
       "      <td>[jazz]</td>\n",
       "      <td>True</td>\n",
       "      <td>False</td>\n",
       "      <td>jazz</td>\n",
       "    </tr>\n",
       "    <tr>\n",
       "      <th>158</th>\n",
       "      <td>1yjck0Owf0HfhY5kWHiXIQ</td>\n",
       "      <td>Me and My Gin</td>\n",
       "      <td>23</td>\n",
       "      <td>169960</td>\n",
       "      <td>0</td>\n",
       "      <td>['Bessie Smith']</td>\n",
       "      <td>['5ESobCkc6JI4tIMxQttqeg']</td>\n",
       "      <td>1923</td>\n",
       "      <td>0.710</td>\n",
       "      <td>0.0735</td>\n",
       "      <td>...</td>\n",
       "      <td>0.990</td>\n",
       "      <td>0.000000</td>\n",
       "      <td>0.0941</td>\n",
       "      <td>0.494</td>\n",
       "      <td>90.917</td>\n",
       "      <td>4</td>\n",
       "      <td>[jazz]</td>\n",
       "      <td>True</td>\n",
       "      <td>False</td>\n",
       "      <td>jazz</td>\n",
       "    </tr>\n",
       "    <tr>\n",
       "      <th>159</th>\n",
       "      <td>2ivh0kwd7QIViw6YqDPdBA</td>\n",
       "      <td>Blue Yodel No. 9</td>\n",
       "      <td>23</td>\n",
       "      <td>157373</td>\n",
       "      <td>0</td>\n",
       "      <td>['Jimmie Rodgers']</td>\n",
       "      <td>['0Y0ZlznP6vzTS1qAm5dvTN']</td>\n",
       "      <td>1923</td>\n",
       "      <td>0.760</td>\n",
       "      <td>0.2510</td>\n",
       "      <td>...</td>\n",
       "      <td>0.969</td>\n",
       "      <td>0.000002</td>\n",
       "      <td>0.0561</td>\n",
       "      <td>0.735</td>\n",
       "      <td>108.456</td>\n",
       "      <td>4</td>\n",
       "      <td>[folk]</td>\n",
       "      <td>True</td>\n",
       "      <td>False</td>\n",
       "      <td>folk</td>\n",
       "    </tr>\n",
       "    <tr>\n",
       "      <th>162</th>\n",
       "      <td>2gyqc4p3WoxKsc6zaXF4hM</td>\n",
       "      <td>Backwater Blues</td>\n",
       "      <td>22</td>\n",
       "      <td>198053</td>\n",
       "      <td>0</td>\n",
       "      <td>['Bessie Smith']</td>\n",
       "      <td>['5ESobCkc6JI4tIMxQttqeg']</td>\n",
       "      <td>1923</td>\n",
       "      <td>0.516</td>\n",
       "      <td>0.1460</td>\n",
       "      <td>...</td>\n",
       "      <td>0.993</td>\n",
       "      <td>0.022300</td>\n",
       "      <td>0.1720</td>\n",
       "      <td>0.412</td>\n",
       "      <td>71.144</td>\n",
       "      <td>3</td>\n",
       "      <td>[jazz]</td>\n",
       "      <td>True</td>\n",
       "      <td>False</td>\n",
       "      <td>jazz</td>\n",
       "    </tr>\n",
       "  </tbody>\n",
       "</table>\n",
       "<p>11 rows × 24 columns</p>\n",
       "</div>"
      ],
      "text/plain": [
       "                         id                                       name  \\\n",
       "149  2wAfHM7Whz67VFbdanhZlk  Nobody Knows You When You're Down and Out   \n",
       "151  2AZgaYZSwUosJD71J2N2Zo           'Tain't Nobody's Bizness If I Do   \n",
       "152  7lRFR5GJCxK87ZbVMtQSeS                          Ain't Misbehavin'   \n",
       "153  6XTvSCqGLLH0vzQQRn55hz                     Empty Bed Blues, Pt. 1   \n",
       "154  6qRvnXftofjYJm1Mg98UWL             Need a Little Sugar in My Bowl   \n",
       "155  0V1iYWPXCBTaB6dhbiprGF              Send Me to the 'Lectric Chair   \n",
       "156  6sOKopKyVWwEJKh8zztYp5                        Young Woman's Blues   \n",
       "157  0rUf1j43orpfi6f4LbVo8D                              Careless Love   \n",
       "158  1yjck0Owf0HfhY5kWHiXIQ                              Me and My Gin   \n",
       "159  2ivh0kwd7QIViw6YqDPdBA                           Blue Yodel No. 9   \n",
       "162  2gyqc4p3WoxKsc6zaXF4hM                            Backwater Blues   \n",
       "\n",
       "     popularity  duration_ms  explicit              artists  \\\n",
       "149          41       177133         0     ['Bessie Smith']   \n",
       "151          30       206600         0     ['Bessie Smith']   \n",
       "152          28       192600         0  ['Louis Armstrong']   \n",
       "153          27       181173         0     ['Bessie Smith']   \n",
       "154          27       167640         0     ['Bessie Smith']   \n",
       "155          26       201480         0     ['Bessie Smith']   \n",
       "156          25       187960         0     ['Bessie Smith']   \n",
       "157          25       205053         0     ['Bessie Smith']   \n",
       "158          23       169960         0     ['Bessie Smith']   \n",
       "159          23       157373         0   ['Jimmie Rodgers']   \n",
       "162          22       198053         0     ['Bessie Smith']   \n",
       "\n",
       "                     id_artists release_date  danceability  energy  ...  \\\n",
       "149  ['5ESobCkc6JI4tIMxQttqeg']         1923         0.614  0.0423  ...   \n",
       "151  ['5ESobCkc6JI4tIMxQttqeg']         1923         0.537  0.0443  ...   \n",
       "152  ['19eLuQmk9aCobbVDHc6eek']         1923         0.665  0.2540  ...   \n",
       "153  ['5ESobCkc6JI4tIMxQttqeg']         1923         0.709  0.0620  ...   \n",
       "154  ['5ESobCkc6JI4tIMxQttqeg']         1923         0.693  0.0270  ...   \n",
       "155  ['5ESobCkc6JI4tIMxQttqeg']         1923         0.771  0.0905  ...   \n",
       "156  ['5ESobCkc6JI4tIMxQttqeg']         1923         0.525  0.2320  ...   \n",
       "157  ['5ESobCkc6JI4tIMxQttqeg']         1923         0.587  0.1750  ...   \n",
       "158  ['5ESobCkc6JI4tIMxQttqeg']         1923         0.710  0.0735  ...   \n",
       "159  ['0Y0ZlznP6vzTS1qAm5dvTN']         1923         0.760  0.2510  ...   \n",
       "162  ['5ESobCkc6JI4tIMxQttqeg']         1923         0.516  0.1460  ...   \n",
       "\n",
       "     acousticness  instrumentalness  liveness  valence    tempo  \\\n",
       "149         0.996          0.002930    0.1830    0.211   89.822   \n",
       "151         0.996          0.000265    0.1520    0.137   80.468   \n",
       "152         0.976          0.002170    0.6440    0.503  125.734   \n",
       "153         0.995          0.003410    0.1200    0.553   85.854   \n",
       "154         0.992          0.000000    0.1340    0.402   75.749   \n",
       "155         0.986          0.000141    0.1520    0.601   87.571   \n",
       "156         0.995          0.018100    0.4610    0.411   76.140   \n",
       "157         0.992          0.000318    0.0730    0.483   98.523   \n",
       "158         0.990          0.000000    0.0941    0.494   90.917   \n",
       "159         0.969          0.000002    0.0561    0.735  108.456   \n",
       "162         0.993          0.022300    0.1720    0.412   71.144   \n",
       "\n",
       "     time_signature   genre  has_genre  genres_list  genre_string  \n",
       "149               4  [jazz]       True        False          jazz  \n",
       "151               4  [jazz]       True        False          jazz  \n",
       "152               4  [jazz]       True        False          jazz  \n",
       "153               4  [jazz]       True        False          jazz  \n",
       "154               4  [jazz]       True        False          jazz  \n",
       "155               4  [jazz]       True        False          jazz  \n",
       "156               4  [jazz]       True        False          jazz  \n",
       "157               4  [jazz]       True        False          jazz  \n",
       "158               4  [jazz]       True        False          jazz  \n",
       "159               4  [folk]       True        False          folk  \n",
       "162               3  [jazz]       True        False          jazz  \n",
       "\n",
       "[11 rows x 24 columns]"
      ]
     },
     "execution_count": 14,
     "metadata": {},
     "output_type": "execute_result"
    }
   ],
   "source": [
    "training_tracks = tracks_with_genres.query(\"genre_string in ['classical','rock','pop','rap','jazz','reggae','folk','country','rnb','funk','edm']\")\n",
    "training_tracks.to_csv('training_dataset.csv')\n",
    "training_tracks.head(11)"
   ]
  },
  {
   "cell_type": "markdown",
   "id": "4dafb68c",
   "metadata": {},
   "source": [
    "!!!!!!!!!!! Fim da Preparação dos Dados"
   ]
  },
  {
   "cell_type": "markdown",
   "id": "1b7870fc",
   "metadata": {},
   "source": [
    "* Feita nossa preparação dos dados - que consistiu de filtrar os dados e atribuir gêneros para cada canção baseado nos gêneros dos artistas - passamos a analisar nossos dados.\n",
    "* Vamos, primeiro, analisar os dados para cada atributo (que se aplica) de forma mais geral. Vamos analisar a média de cada um deles agrupando os gêneros.\n",
    "* Nosso objetivo será ver se existe algum(ns) atributos que se destacam para diferenciar os gêneros, uma vez que queremos selecionar os atributos que melhor definem um modelo.\n"
   ]
  },
  {
   "cell_type": "code",
   "execution_count": 15,
   "id": "de7a7591",
   "metadata": {},
   "outputs": [],
   "source": [
    "import seaborn as sns\n",
    "import matplotlib.pyplot as plt"
   ]
  },
  {
   "cell_type": "markdown",
   "id": "22423c55",
   "metadata": {},
   "source": [
    "Para fazermos nossas análises, temos que saber o que representa cada atributo.\n",
    "\n",
    "\n",
    "---\n",
    "\n",
    "\n",
    "* Danceability - é medida usando uma mistura de recursos da música, como intensidade da batida, estabilidade do tempo e tempo geral. O valor retornado determina a facilidade com que uma pessoa pode dançar uma música durante toda a música.\n",
    "* Energy - é quantificada em decibéis, unidade usada para medir a intensidade do som.\n",
    "* Key - tom é a escala (maior ou menor) em torno da qual uma peça musical gira. Uma música em tom maior é baseada em escala maior. Uma música em tom menor é baseada em uma escala menor.\n",
    "* Loudness - É completamente subjetivo e baseado inteiramente na percepção pessoal do som. O conteúdo de frequência, duração e volume de um som são fatores que determinam como percebemos seu volume.\n",
    "* Mode -  É um tipo de escala musical acoplada a um conjunto de comportamentos melódicos e harmônicos característicos.\n",
    "* Speechiness - Detecta a presença de palavras faladas em uma faixa.\n",
    "* Acousticness -Uma medida de confiança de 0,0 a 1,0 de se a faixa é acústica. 1.0 representa alta confiança de que a faixa é acústica.\n",
    "* Instrumentalness - prevê se uma faixa não contém vocais. Quanto mais próximo o valor da instrumentalidade estiver de 1,0, maior será a probabilidade de a faixa não conter conteúdo vocal. Valores acima de 0,5 destinam-se a representar faixas instrumentais, mas a confiança é maior à medida que o valor se aproxima de 1,0.\n",
    "* Liveness - detecta a presença de um público na gravação. Valores de vivacidade mais altos representam um aumento na probabilidade de a trilha ter sido executada ao vivo. Um valor acima de 0,8 fornece uma forte probabilidade de que a faixa esteja ao vivo.\n",
    "* Valence - Uma medida de 0,0 a 1,0 que descreve a positividade musical transmitida por uma faixa. Faixas com alta valência soam mais positivas (por exemplo, feliz, alegre, eufórico), enquanto faixas com baixa valência soam mais negativas (por exemplo, triste, deprimido, com raiva).\n",
    "* Tempo - O tempo estimado geral de uma faixa em batidas por minuto (BPM). Na terminologia musical, o tempo é a velocidade ou ritmo de uma determinada peça e deriva diretamente da duração média do tempo. \n",
    "* Duration_ms - duração em milisegundos da canção.\n",
    "* Time_signature - fórmula de compasso da canção.\n",
    "* Explicit - se a música possui ou não palavrões.\n",
    "---\n"
   ]
  },
  {
   "cell_type": "code",
   "execution_count": 16,
   "id": "8be609a5",
   "metadata": {
    "scrolled": true
   },
   "outputs": [
    {
     "name": "stderr",
     "output_type": "stream",
     "text": [
      "C:\\Users\\Lucas\\AppData\\Local\\Temp/ipykernel_240/2038225441.py:2: SettingWithCopyWarning: \n",
      "A value is trying to be set on a copy of a slice from a DataFrame.\n",
      "Try using .loc[row_indexer,col_indexer] = value instead\n",
      "\n",
      "See the caveats in the documentation: https://pandas.pydata.org/pandas-docs/stable/user_guide/indexing.html#returning-a-view-versus-a-copy\n",
      "  training_tracks[\"tempo_norm\"] = ((training_tracks[\"tempo\"] - training_tracks[\"tempo\"].mean())/training_tracks[\"tempo\"].std(ddof=1))\n",
      "C:\\Users\\Lucas\\AppData\\Local\\Temp/ipykernel_240/2038225441.py:3: SettingWithCopyWarning: \n",
      "A value is trying to be set on a copy of a slice from a DataFrame.\n",
      "Try using .loc[row_indexer,col_indexer] = value instead\n",
      "\n",
      "See the caveats in the documentation: https://pandas.pydata.org/pandas-docs/stable/user_guide/indexing.html#returning-a-view-versus-a-copy\n",
      "  training_tracks[\"duration_ms_norm\"] = ((training_tracks[\"duration_ms\"] - training_tracks[\"duration_ms\"].mean())/training_tracks[\"duration_ms\"].std(ddof=1))\n",
      "C:\\Users\\Lucas\\AppData\\Local\\Temp/ipykernel_240/2038225441.py:4: SettingWithCopyWarning: \n",
      "A value is trying to be set on a copy of a slice from a DataFrame.\n",
      "Try using .loc[row_indexer,col_indexer] = value instead\n",
      "\n",
      "See the caveats in the documentation: https://pandas.pydata.org/pandas-docs/stable/user_guide/indexing.html#returning-a-view-versus-a-copy\n",
      "  training_tracks[\"loudness_norm\"] = ((training_tracks[\"loudness\"] - training_tracks[\"loudness\"].mean())/training_tracks[\"loudness\"].std(ddof=1))\n"
     ]
    }
   ],
   "source": [
    "# Normalizando atributos não normalizados\n",
    "training_tracks[\"tempo_norm\"] = ((training_tracks[\"tempo\"] - training_tracks[\"tempo\"].mean())/training_tracks[\"tempo\"].std(ddof=1))\n",
    "training_tracks[\"duration_ms_norm\"] = ((training_tracks[\"duration_ms\"] - training_tracks[\"duration_ms\"].mean())/training_tracks[\"duration_ms\"].std(ddof=1))\n",
    "training_tracks[\"loudness_norm\"] = ((training_tracks[\"loudness\"] - training_tracks[\"loudness\"].mean())/training_tracks[\"loudness\"].std(ddof=1))"
   ]
  },
  {
   "cell_type": "code",
   "execution_count": 24,
   "id": "db63d242",
   "metadata": {},
   "outputs": [],
   "source": [
    "def to_plot(df,colum):\n",
    "    sns.barplot(x=df[colum],ci=None,y ='genre_string',data=df)\n",
    "    plt.xlabel(colum)"
   ]
  },
  {
   "cell_type": "code",
   "execution_count": 25,
   "id": "861398b1",
   "metadata": {},
   "outputs": [
    {
     "data": {
      "image/png": "[encoded data removed]",
      "text/plain": [
       "<Figure size 432x288 with 1 Axes>"
      ]
     },
     "metadata": {
      "needs_background": "light"
     },
     "output_type": "display_data"
    }
   ],
   "source": [
    "to_plot(training_tracks,\"energy\")"
   ]
  },
  {
   "cell_type": "code",
   "execution_count": 26,
   "id": "539d73d6",
   "metadata": {},
   "outputs": [
    {
     "data": {
      "image/png": "[encoded data removed]",
      "text/plain": [
       "<Figure size 432x288 with 1 Axes>"
      ]
     },
     "metadata": {
      "needs_background": "light"
     },
     "output_type": "display_data"
    }
   ],
   "source": [
    "to_plot(training_tracks,\"danceability\")"
   ]
  },
  {
   "cell_type": "code",
   "execution_count": 27,
   "id": "54abe32b",
   "metadata": {},
   "outputs": [
    {
     "data": {
      "image/png": "[encoded data removed]",
      "text/plain": [
       "<Figure size 432x288 with 1 Axes>"
      ]
     },
     "metadata": {
      "needs_background": "light"
     },
     "output_type": "display_data"
    }
   ],
   "source": [
    "to_plot(training_tracks,\"acousticness\")"
   ]
  },
  {
   "cell_type": "code",
   "execution_count": 28,
   "id": "9fd0b70f",
   "metadata": {},
   "outputs": [
    {
     "data": {
      "image/png": "[encoded data removed]",
      "text/plain": [
       "<Figure size 432x288 with 1 Axes>"
      ]
     },
     "metadata": {
      "needs_background": "light"
     },
     "output_type": "display_data"
    }
   ],
   "source": [
    "to_plot(training_tracks,\"instrumentalness\")"
   ]
  },
  {
   "cell_type": "code",
   "execution_count": 29,
   "id": "9a725056",
   "metadata": {},
   "outputs": [
    {
     "data": {
      "image/png": "[encoded data removed]",
      "text/plain": [
       "<Figure size 432x288 with 1 Axes>"
      ]
     },
     "metadata": {
      "needs_background": "light"
     },
     "output_type": "display_data"
    }
   ],
   "source": [
    "to_plot(training_tracks,\"liveness\")"
   ]
  },
  {
   "cell_type": "code",
   "execution_count": 30,
   "id": "cbfce23e",
   "metadata": {},
   "outputs": [
    {
     "data": {
      "image/png": "[encoded data removed]",
      "text/plain": [
       "<Figure size 432x288 with 1 Axes>"
      ]
     },
     "metadata": {
      "needs_background": "light"
     },
     "output_type": "display_data"
    }
   ],
   "source": [
    "to_plot(training_tracks,\"valence\")"
   ]
  },
  {
   "cell_type": "code",
   "execution_count": 31,
   "id": "e794c9c5",
   "metadata": {},
   "outputs": [
    {
     "data": {
      "image/png": "[encoded data removed]",
      "text/plain": [
       "<Figure size 432x288 with 1 Axes>"
      ]
     },
     "metadata": {
      "needs_background": "light"
     },
     "output_type": "display_data"
    }
   ],
   "source": [
    "to_plot(training_tracks,\"explicit\")"
   ]
  },
  {
   "cell_type": "code",
   "execution_count": 32,
   "id": "3bdf6a0d",
   "metadata": {},
   "outputs": [
    {
     "data": {
      "image/png": "[encoded data removed]",
      "text/plain": [
       "<Figure size 432x288 with 1 Axes>"
      ]
     },
     "metadata": {
      "needs_background": "light"
     },
     "output_type": "display_data"
    }
   ],
   "source": [
    "to_plot(training_tracks,\"mode\")"
   ]
  },
  {
   "cell_type": "code",
   "execution_count": 33,
   "id": "8667c146",
   "metadata": {},
   "outputs": [
    {
     "data": {
      "image/png": "[encoded data removed]",
      "text/plain": [
       "<Figure size 432x288 with 1 Axes>"
      ]
     },
     "metadata": {
      "needs_background": "light"
     },
     "output_type": "display_data"
    }
   ],
   "source": [
    "to_plot(training_tracks,\"speechiness\")"
   ]
  },
  {
   "cell_type": "markdown",
   "id": "756a2e02",
   "metadata": {},
   "source": [
    "* Como a plotagem da média dos atributos para cada gênero, podemos ver atributos em que os gêneros claramente se diferenciam mais, ou seja, esses atributos seriam mais \"definidores\" dentro do raciocínio que estamos construindo.\n",
    "\n",
    "* Entretanto, a média é uma forma muito simples de analizar esses dados de formar a tirar uma informação real.\n",
    "\n",
    "* Vamos, então, plotar gráficos de dispersão dos dados para dar uma noção mais segura dos dados que temos e, assim, continuar nossa análise."
   ]
  },
  {
   "cell_type": "markdown",
   "id": "a45e44f4",
   "metadata": {},
   "source": [
    "Teremos de fazer um tratamento dos dados contínuos para apresentá-los. Vamos juntá-los em bins, ou seja, potes de agrupamento. Apesar deste detalhe, teremos uma vantagem ainda maior neste próximo passo: atributos categóricos serão analisados da forma correta, uma vez que a análise dele como média não é boa."
   ]
  },
  {
   "cell_type": "code",
   "execution_count": null,
   "id": "c7f9fdc0",
   "metadata": {},
   "outputs": [],
   "source": []
  },
  {
   "cell_type": "code",
   "execution_count": null,
   "id": "95d4233c",
   "metadata": {},
   "outputs": [],
   "source": []
  }
 ],
 "metadata": {
  "kernelspec": {
   "display_name": "Python 3 (ipykernel)",
   "language": "python",
   "name": "python3"
  },
  "language_info": {
   "codemirror_mode": {
    "name": "ipython",
    "version": 3
   },
   "file_extension": ".py",
   "mimetype": "text/x-python",
   "name": "python",
   "nbconvert_exporter": "python",
   "pygments_lexer": "ipython3",
   "version": "3.9.7"
  }
 },
 "nbformat": 4,
 "nbformat_minor": 5
}
